{
 "cells": [
  {
   "cell_type": "code",
   "execution_count": 1,
   "metadata": {},
   "outputs": [],
   "source": [
    "% matplotlib inline\n",
    "\n",
    "import time\n",
    "import pandas as pd\n",
    "\n",
    "from IPython import display as d\n",
    "\n",
    "import seaborn as sns\n",
    "sns.set()\n",
    "\n",
    "from sklearn.svm import SVC\n",
    "from sklearn.tree import DecisionTreeClassifier\n",
    "from sklearn.ensemble import RandomForestClassifier\n",
    "from sklearn.neighbors import KNeighborsClassifier\n",
    "\n",
    "from imblearn.over_sampling import ADASYN\n",
    "\n",
    "from libs import container\n",
    "from libs.experiment import (\n",
    "    WithAnotherExperiment, KFoldExperiment, roc, \n",
    "    discretize_classes, clean_features)"
   ]
  },
  {
   "cell_type": "code",
   "execution_count": 2,
   "metadata": {},
   "outputs": [],
   "source": [
    "data = container.Container(sample=pd.read_pickle(\"data/sample.pkl\"))\n",
    "data[\"balanced\"] = pd.concat((\n",
    "    data.sample[data.sample.nbg == 1].sample(786),\n",
    "    data.sample[data.sample.nbg == 0]))\n",
    "data[\"small_sample\"] = pd.read_pickle(\"data/small_sample.pkl\")"
   ]
  },
  {
   "cell_type": "markdown",
   "metadata": {},
   "source": [
    "## Features cleaning"
   ]
  },
  {
   "cell_type": "code",
   "execution_count": 3,
   "metadata": {},
   "outputs": [
    {
     "data": {
      "text/plain": [
       "{'nbg': 1, 'no-nbg': 0}"
      ]
     },
     "execution_count": 3,
     "metadata": {},
     "output_type": "execute_result"
    }
   ],
   "source": [
    "sclasses = {\n",
    "    \"nbg\": 1,\n",
    "    \"no-nbg\": 0}\n",
    "sclasses"
   ]
  },
  {
   "cell_type": "code",
   "execution_count": 4,
   "metadata": {},
   "outputs": [
    {
     "data": {
      "text/plain": [
       "((12598, 161), (1572, 161), (4352, 161))"
      ]
     },
     "execution_count": 4,
     "metadata": {},
     "output_type": "execute_result"
    }
   ],
   "source": [
    "data.sample.shape, data.balanced.shape, data.small_sample.shape"
   ]
  },
  {
   "cell_type": "code",
   "execution_count": 5,
   "metadata": {},
   "outputs": [
    {
     "name": "stdout",
     "output_type": "stream",
     "text": [
      "Removing [] because null\n",
      "Removing ['src1_Freq1_harmonics_rel_phase_0', 'src1_Freq2_harmonics_rel_phase_0', 'src1_Freq3_harmonics_rel_phase_0', 'src2_Freq1_harmonics_rel_phase_0', 'src2_Freq2_harmonics_rel_phase_0', 'src2_Freq3_harmonics_rel_phase_0'] because lowvariance\n",
      "('Total features:', 112)\n"
     ]
    }
   ],
   "source": [
    "X_columns = clean_features(data, \"sample\")\n",
    "X_columns = X_columns[\n",
    "    ~(X_columns.str.contains(\"Freq2_\") | X_columns.str.contains(\"Freq3_\") | X_columns.str.contains(\"_cnt\"))]\n",
    "print(\"Total features:\", X_columns.size)"
   ]
  },
  {
   "cell_type": "code",
   "execution_count": 6,
   "metadata": {},
   "outputs": [
    {
     "data": {
      "text/plain": [
       "{'Amplitude',\n",
       " 'AmplitudeH',\n",
       " 'AmplitudeJ',\n",
       " 'AmplitudeJH',\n",
       " 'AmplitudeJK',\n",
       " 'Autocor_length',\n",
       " 'Beyond1Std',\n",
       " 'CAR_mean',\n",
       " 'CAR_sigma',\n",
       " 'CAR_tau',\n",
       " 'Con',\n",
       " 'Eta_e',\n",
       " 'FluxPercentileRatioMid20',\n",
       " 'FluxPercentileRatioMid35',\n",
       " 'FluxPercentileRatioMid50',\n",
       " 'FluxPercentileRatioMid65',\n",
       " 'FluxPercentileRatioMid80',\n",
       " 'Freq1_harmonics_amplitude_0',\n",
       " 'Freq1_harmonics_amplitude_1',\n",
       " 'Freq1_harmonics_amplitude_2',\n",
       " 'Freq1_harmonics_amplitude_3',\n",
       " 'Freq1_harmonics_rel_phase_1',\n",
       " 'Freq1_harmonics_rel_phase_2',\n",
       " 'Freq1_harmonics_rel_phase_3',\n",
       " 'Gskew',\n",
       " 'LinearTrend',\n",
       " 'MaxSlope',\n",
       " 'Mean',\n",
       " 'Meanvariance',\n",
       " 'MedianAbsDev',\n",
       " 'MedianBRP',\n",
       " 'PairSlopeTrend',\n",
       " 'PercentAmplitude',\n",
       " 'PercentDifferenceFluxPercentile',\n",
       " 'PeriodLS',\n",
       " 'Period_fit',\n",
       " 'Psi_CS',\n",
       " 'Psi_eta',\n",
       " 'Q31',\n",
       " 'Rcs',\n",
       " 'Skew',\n",
       " 'SmallKurtosis',\n",
       " 'Std',\n",
       " 'c89_c3',\n",
       " 'c89_hk_color',\n",
       " 'c89_jh_color',\n",
       " 'c89_jk_color',\n",
       " 'c89_m2',\n",
       " 'c89_m4',\n",
       " 'n09_c3',\n",
       " 'n09_hk_color',\n",
       " 'n09_jh_color',\n",
       " 'n09_jk_color',\n",
       " 'n09_m2',\n",
       " 'n09_m4',\n",
       " 'ppmb'}"
      ]
     },
     "execution_count": 6,
     "metadata": {},
     "output_type": "execute_result"
    }
   ],
   "source": [
    "set(x.split(\"_\", 1)[-1] for x in X_columns)"
   ]
  },
  {
   "cell_type": "markdown",
   "metadata": {},
   "source": [
    "## SVM - Linear"
   ]
  },
  {
   "cell_type": "code",
   "execution_count": 7,
   "metadata": {},
   "outputs": [
    {
     "name": "stdout",
     "output_type": "stream",
     "text": [
      "[rktdpe9ego53g7W83USwCm-2018-10-16 16:56:07.539107] Launching\n",
      "[Z7PdtzQyP9MesjoqiMGxGS-2018-10-16 16:56:07.711219] Launching\n",
      "[QDESNjL2bxTfU3Ghs3qrwa-2018-10-16 16:56:07.877155] Launching\n",
      "[B5TmW5Zt5J98tNikvHi8oF-2018-10-16 16:56:08.057358] Launching\n",
      "[ZE3znxPrD7hji8oh3ttBZN-2018-10-16 16:56:08.233876] Launching\n",
      "[qwqdgyisJzJZMwHkwU5XQL-2018-10-16 16:56:08.411112] Launching\n",
      "[k76qRfxtCr2XgsGQ2sZQiJ-2018-10-16 16:56:08.587400] Launching\n",
      "[NxqfcTZkDNsaVzU4u8QTUA-2018-10-16 16:56:08.782232] Launching\n",
      "[gLkmLYVnY9QuLsbY5oKWXd-2018-10-16 16:56:09.026549] Launching\n",
      "[4Dsvj8VrktQPYXqHeyNE3P-2018-10-16 16:56:09.222690] Launching\n",
      "[4Dsvj8VrktQPYXqHeyNE3P-2018-10-16 16:59:42.995669] Done\n",
      "[rktdpe9ego53g7W83USwCm-2018-10-16 16:59:46.513563] Done\n",
      "[k76qRfxtCr2XgsGQ2sZQiJ-2018-10-16 17:00:23.829679] Done\n",
      "[QDESNjL2bxTfU3Ghs3qrwa-2018-10-16 17:00:33.803278] Done\n",
      "[qwqdgyisJzJZMwHkwU5XQL-2018-10-16 17:00:42.763646] Done\n",
      "[ZE3znxPrD7hji8oh3ttBZN-2018-10-16 17:01:10.827207] Done\n",
      "[gLkmLYVnY9QuLsbY5oKWXd-2018-10-16 17:01:17.233949] Done\n",
      "[Z7PdtzQyP9MesjoqiMGxGS-2018-10-16 17:01:19.882971] Done\n",
      "[B5TmW5Zt5J98tNikvHi8oF-2018-10-16 17:01:28.738791] Done\n",
      "[NxqfcTZkDNsaVzU4u8QTUA-2018-10-16 17:01:51.001532] Done\n",
      "             precision    recall  f1-score   support\n",
      "\n",
      "        0.0       0.06      0.45      0.11       253\n",
      "        1.0       0.94      0.56      0.70      4099\n",
      "\n",
      "avg / total       0.89      0.56      0.67      4352\n",
      "\n",
      "--------------------------------------------------------------------------------\n",
      "CPU times: user 2.99 s, sys: 1.45 s, total: 4.44 s\n",
      "Wall time: 5min 44s\n"
     ]
    }
   ],
   "source": [
    "%%time\n",
    "svc_linear = KFoldExperiment(\n",
    "    clf=SVC(kernel='linear', probability=True), clsnum=sclasses,\n",
    "    data=data, pcls=\"nbg\", ncls=\"no-nbg\", sampler=ADASYN(),\n",
    "    X_columns=X_columns, y_column=\"nbg\")(\"small_sample\", nfolds=10)"
   ]
  },
  {
   "cell_type": "markdown",
   "metadata": {},
   "source": [
    "## SVM - Poly"
   ]
  },
  {
   "cell_type": "code",
   "execution_count": 8,
   "metadata": {},
   "outputs": [
    {
     "name": "stdout",
     "output_type": "stream",
     "text": [
      "[Dgm8vbko3K5WgFdr23kBU7-2018-10-16 17:01:52.627860] Launching\n",
      "[dQabNgUA6cxyW4maDWH9qX-2018-10-16 17:01:52.842647] Launching\n",
      "[JtJpTqDrxorHP2NuNmq6Lk-2018-10-16 17:01:53.069703] Launching\n",
      "[5sygFZVcF8HaZhifDCb5aX-2018-10-16 17:01:53.279660] Launching\n",
      "[R7AtdVsqzbhhUWeSw5tfdB-2018-10-16 17:01:53.491731] Launching\n",
      "[JXV5wTKgtKEnUPycb9UsVh-2018-10-16 17:01:53.695147] Launching\n",
      "[rDjCnHv9bHuiDdXFouLFJa-2018-10-16 17:01:53.900301] Launching\n",
      "[8R73QTLYL9TC538CsAE5Ch-2018-10-16 17:01:54.104384] Launching\n",
      "[J7URo3BSi87yr7mMBEc34c-2018-10-16 17:01:54.300117] Launching\n",
      "[7B9zHh5LVLmVfhHz2zmD9A-2018-10-16 17:01:54.483588] Launching\n",
      "[Dgm8vbko3K5WgFdr23kBU7-2018-10-16 17:03:51.870598] Done\n",
      "[8R73QTLYL9TC538CsAE5Ch-2018-10-16 17:03:58.559995] Done\n",
      "[dQabNgUA6cxyW4maDWH9qX-2018-10-16 17:04:18.281789] Done\n",
      "[J7URo3BSi87yr7mMBEc34c-2018-10-16 17:04:23.952931] Done\n",
      "[JtJpTqDrxorHP2NuNmq6Lk-2018-10-16 17:04:36.146403] Done\n",
      "[R7AtdVsqzbhhUWeSw5tfdB-2018-10-16 17:04:44.849142] Done\n",
      "[7B9zHh5LVLmVfhHz2zmD9A-2018-10-16 17:04:46.942332] Done\n",
      "[JXV5wTKgtKEnUPycb9UsVh-2018-10-16 17:04:56.715987] Done\n",
      "[rDjCnHv9bHuiDdXFouLFJa-2018-10-16 17:05:02.928005] Done\n",
      "[5sygFZVcF8HaZhifDCb5aX-2018-10-16 17:05:42.852957] Done\n",
      "             precision    recall  f1-score   support\n",
      "\n",
      "        0.0       0.05      0.62      0.09       253\n",
      "        1.0       0.91      0.23      0.37      4099\n",
      "\n",
      "avg / total       0.86      0.26      0.36      4352\n",
      "\n",
      "--------------------------------------------------------------------------------\n",
      "CPU times: user 2.82 s, sys: 1.54 s, total: 4.35 s\n",
      "Wall time: 3min 51s\n"
     ]
    }
   ],
   "source": [
    "%%time\n",
    "svc_poly = KFoldExperiment(\n",
    "    clf=SVC(kernel='poly', probability=True), clsnum=sclasses,\n",
    "    data=data, pcls=\"nbg\", ncls=\"no-nbg\", sampler=ADASYN(),\n",
    "    X_columns=X_columns, y_column=\"nbg\")(\"small_sample\", nfolds=10)"
   ]
  },
  {
   "cell_type": "markdown",
   "metadata": {},
   "source": [
    "## Random Forest"
   ]
  },
  {
   "cell_type": "code",
   "execution_count": 9,
   "metadata": {},
   "outputs": [
    {
     "name": "stdout",
     "output_type": "stream",
     "text": [
      "[kAAWUZdmMmYFYE5QvpyuKG-2018-10-16 17:05:44.814461] Launching\n",
      "[LUZBS7BwFySfazQyoVXHcM-2018-10-16 17:05:44.997155] Launching\n",
      "[EEDUXuDVkdVtjnbLVeKJDe-2018-10-16 17:05:45.184904] Launching\n",
      "[epTZeMWtz4zm7WitQ6JBwf-2018-10-16 17:05:45.438058] Launching\n",
      "[9EEheQL7eDJaCeYQFmKaEU-2018-10-16 17:05:45.722568] Launching\n",
      "[SasprPqJDjXnnpDc63gVdV-2018-10-16 17:05:45.952046] Launching\n",
      "[8yocRVDqC39gZJtnBsFn4b-2018-10-16 17:05:46.211183] Launching\n",
      "[VDj9Fcf8cc5YfjPbh3YqVG-2018-10-16 17:05:46.391341] Launching\n",
      "[zTdcSFpobZSJ9aWF6CUjf3-2018-10-16 17:05:46.621794] Launching\n",
      "[rAipT2vKJEbazKFFKcVTQ7-2018-10-16 17:05:46.794714] Launching\n",
      "[kAAWUZdmMmYFYE5QvpyuKG-2018-10-16 17:08:22.677570] Done\n",
      "[VDj9Fcf8cc5YfjPbh3YqVG-2018-10-16 17:08:26.623494] Done\n",
      "[SasprPqJDjXnnpDc63gVdV-2018-10-16 17:08:27.876854] Done\n",
      "[zTdcSFpobZSJ9aWF6CUjf3-2018-10-16 17:08:28.548538] Done\n",
      "[8yocRVDqC39gZJtnBsFn4b-2018-10-16 17:08:32.579406] Done\n",
      "[epTZeMWtz4zm7WitQ6JBwf-2018-10-16 17:08:36.500510] Done\n",
      "[9EEheQL7eDJaCeYQFmKaEU-2018-10-16 17:08:37.797513] Done\n",
      "[rAipT2vKJEbazKFFKcVTQ7-2018-10-16 17:08:40.528330] Done\n",
      "[LUZBS7BwFySfazQyoVXHcM-2018-10-16 17:08:51.560213] Done\n",
      "[EEDUXuDVkdVtjnbLVeKJDe-2018-10-16 17:08:52.528539] Done\n",
      "             precision    recall  f1-score   support\n",
      "\n",
      "        0.0       0.03      0.04      0.03       253\n",
      "        1.0       0.94      0.92      0.93      4099\n",
      "\n",
      "avg / total       0.89      0.87      0.88      4352\n",
      "\n",
      "--------------------------------------------------------------------------------\n",
      "CPU times: user 2.74 s, sys: 1.58 s, total: 4.32 s\n",
      "Wall time: 3min 9s\n"
     ]
    }
   ],
   "source": [
    "%%time\n",
    "rf = KFoldExperiment(\n",
    "    clf=RandomForestClassifier(n_estimators=500, criterion=\"entropy\"), clsnum=sclasses, sampler=ADASYN(),\n",
    "    data=data, pcls=\"nbg\", ncls=\"no-nbg\", X_columns=X_columns, y_column=\"nbg\")(\"small_sample\", nfolds=10)"
   ]
  },
  {
   "cell_type": "markdown",
   "metadata": {},
   "source": [
    "## KNN"
   ]
  },
  {
   "cell_type": "code",
   "execution_count": 10,
   "metadata": {},
   "outputs": [
    {
     "name": "stdout",
     "output_type": "stream",
     "text": [
      "[3XeeYWGHvcZtcqN2w3A2o3-2018-10-16 17:08:54.366000] Launching\n",
      "[mpV4NkUbJgyNhNLCADqVjA-2018-10-16 17:08:54.531128] Launching\n",
      "[3kxUeBDXc64sqNMM7geMg7-2018-10-16 17:08:54.699884] Launching\n",
      "[szvVyjrJRVNPRyc22H5iCS-2018-10-16 17:08:54.871992] Launching\n",
      "[UA75AU85Z8iyQxeBBKeN43-2018-10-16 17:08:55.054885] Launching\n",
      "[gozkGLCPKpRLcX5V5ESrzE-2018-10-16 17:08:55.229692] Launching\n",
      "[CwmwFif4yiw48LjqrpRQLB-2018-10-16 17:08:55.443532] Launching\n",
      "[xT6PbXj7T53yJgbJh9HMa5-2018-10-16 17:08:55.638822] Launching\n",
      "[gTPHKL6D55xb7ZTUKsJ5m9-2018-10-16 17:08:55.839558] Launching\n",
      "[KZyYTXumvgNMsStxCE3qAo-2018-10-16 17:08:56.039536] Launching\n",
      "[3XeeYWGHvcZtcqN2w3A2o3-2018-10-16 17:08:59.561616] Done\n",
      "[3kxUeBDXc64sqNMM7geMg7-2018-10-16 17:08:59.846853] Done\n",
      "[UA75AU85Z8iyQxeBBKeN43-2018-10-16 17:09:00.114611] Done\n",
      "[mpV4NkUbJgyNhNLCADqVjA-2018-10-16 17:09:00.216378] Done\n",
      "[szvVyjrJRVNPRyc22H5iCS-2018-10-16 17:09:00.266707] Done\n",
      "[xT6PbXj7T53yJgbJh9HMa5-2018-10-16 17:09:00.759578] Done\n",
      "[CwmwFif4yiw48LjqrpRQLB-2018-10-16 17:09:00.790472] Done\n",
      "[gTPHKL6D55xb7ZTUKsJ5m9-2018-10-16 17:09:00.909783] Done\n",
      "[KZyYTXumvgNMsStxCE3qAo-2018-10-16 17:09:01.061506] Done\n",
      "[gozkGLCPKpRLcX5V5ESrzE-2018-10-16 17:09:01.184003] Done\n",
      "             precision    recall  f1-score   support\n",
      "\n",
      "        0.0       0.04      0.56      0.08       253\n",
      "        1.0       0.90      0.24      0.38      4099\n",
      "\n",
      "avg / total       0.85      0.26      0.36      4352\n",
      "\n",
      "--------------------------------------------------------------------------------\n",
      "CPU times: user 2.02 s, sys: 1.26 s, total: 3.29 s\n",
      "Wall time: 8.56 s\n"
     ]
    }
   ],
   "source": [
    "%%time\n",
    "knn = KFoldExperiment(\n",
    "    clf=KNeighborsClassifier(n_neighbors=50, weights='distance'), clsnum=sclasses, sampler=ADASYN(),\n",
    "    data=data, pcls=\"nbg\", ncls=\"no-nbg\", X_columns=X_columns, y_column=\"nbg\")(\"small_sample\", nfolds=10)"
   ]
  },
  {
   "cell_type": "code",
   "execution_count": 11,
   "metadata": {},
   "outputs": [
    {
     "data": {
      "image/png": "[encoded data removed]",
      "text/plain": [
       "<Figure size 432x288 with 1 Axes>"
      ]
     },
     "metadata": {},
     "output_type": "display_data"
    }
   ],
   "source": [
    "roc({\"KNN\": knn, \"RForest\": rf, \n",
    "     \"SVC Linear\": svc_linear,\n",
    "     \"SVC Polynomic\": svc_poly})"
   ]
  },
  {
   "cell_type": "code",
   "execution_count": null,
   "metadata": {},
   "outputs": [],
   "source": []
  }
 ],
 "metadata": {
  "kernelspec": {
   "display_name": "Python 2",
   "language": "python",
   "name": "python2"
  },
  "language_info": {
   "codemirror_mode": {
    "name": "ipython",
    "version": 2
   },
   "file_extension": ".py",
   "mimetype": "text/x-python",
   "name": "python",
   "nbconvert_exporter": "python",
   "pygments_lexer": "ipython2",
   "version": "2.7.14"
  }
 },
 "nbformat": 4,
 "nbformat_minor": 2
}
