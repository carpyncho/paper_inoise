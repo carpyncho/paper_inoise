{
 "cells": [
  {
   "cell_type": "code",
   "execution_count": 1,
   "metadata": {},
   "outputs": [],
   "source": [
    "% matplotlib inline\n",
    "\n",
    "import time\n",
    "import pandas as pd\n",
    "\n",
    "from IPython import display as d\n",
    "\n",
    "import seaborn as sns\n",
    "sns.set()\n",
    "\n",
    "from sklearn.svm import SVC\n",
    "from sklearn.tree import DecisionTreeClassifier\n",
    "from sklearn.ensemble import RandomForestClassifier\n",
    "from sklearn.neighbors import KNeighborsClassifier\n",
    "\n",
    "from imblearn.over_sampling import ADASYN\n",
    "\n",
    "from libs import container\n",
    "from libs.experiment import (\n",
    "    WithAnotherExperiment, KFoldExperiment, roc, \n",
    "    discretize_classes, clean_features)"
   ]
  },
  {
   "cell_type": "code",
   "execution_count": 2,
   "metadata": {},
   "outputs": [],
   "source": [
    "data = container.Container(sample=pd.read_pickle(\"data/sample.pkl\"))\n",
    "data[\"balanced\"] = pd.concat((\n",
    "    data.sample[data.sample.nbg == 1].sample(786),\n",
    "    data.sample[data.sample.nbg == 0]))\n",
    "data[\"small_sample\"] = pd.read_pickle(\"data/small_sample.pkl\")"
   ]
  },
  {
   "cell_type": "markdown",
   "metadata": {},
   "source": [
    "## Features cleaning"
   ]
  },
  {
   "cell_type": "code",
   "execution_count": 3,
   "metadata": {},
   "outputs": [
    {
     "data": {
      "text/plain": [
       "{'nbg': 1, 'no-nbg': 0}"
      ]
     },
     "execution_count": 3,
     "metadata": {},
     "output_type": "execute_result"
    }
   ],
   "source": [
    "sclasses = {\n",
    "    \"nbg\": 1,\n",
    "    \"no-nbg\": 0}\n",
    "sclasses"
   ]
  },
  {
   "cell_type": "code",
   "execution_count": 4,
   "metadata": {},
   "outputs": [
    {
     "data": {
      "text/plain": [
       "((12598, 161), (1572, 161), (4352, 161))"
      ]
     },
     "execution_count": 4,
     "metadata": {},
     "output_type": "execute_result"
    }
   ],
   "source": [
    "data.sample.shape, data.balanced.shape, data.small_sample.shape"
   ]
  },
  {
   "cell_type": "code",
   "execution_count": 5,
   "metadata": {},
   "outputs": [
    {
     "name": "stdout",
     "output_type": "stream",
     "text": [
      "Removing [] because null\n",
      "Removing ['src1_Freq1_harmonics_rel_phase_0', 'src1_Freq2_harmonics_rel_phase_0', 'src1_Freq3_harmonics_rel_phase_0', 'src2_Freq1_harmonics_rel_phase_0', 'src2_Freq2_harmonics_rel_phase_0', 'src2_Freq3_harmonics_rel_phase_0'] because lowvariance\n",
      "('Total features:', 114)\n"
     ]
    }
   ],
   "source": [
    "X_columns = clean_features(data, \"sample\")\n",
    "X_columns = X_columns[\n",
    "    ~(X_columns.str.contains(\"Freq2_\") | X_columns.str.contains(\"Freq3_\"))]\n",
    "print(\"Total features:\", X_columns.size)"
   ]
  },
  {
   "cell_type": "code",
   "execution_count": 6,
   "metadata": {},
   "outputs": [
    {
     "data": {
      "text/plain": [
       "{'Amplitude',\n",
       " 'AmplitudeH',\n",
       " 'AmplitudeJ',\n",
       " 'AmplitudeJH',\n",
       " 'AmplitudeJK',\n",
       " 'Autocor_length',\n",
       " 'Beyond1Std',\n",
       " 'CAR_mean',\n",
       " 'CAR_sigma',\n",
       " 'CAR_tau',\n",
       " 'Con',\n",
       " 'Eta_e',\n",
       " 'FluxPercentileRatioMid20',\n",
       " 'FluxPercentileRatioMid35',\n",
       " 'FluxPercentileRatioMid50',\n",
       " 'FluxPercentileRatioMid65',\n",
       " 'FluxPercentileRatioMid80',\n",
       " 'Freq1_harmonics_amplitude_0',\n",
       " 'Freq1_harmonics_amplitude_1',\n",
       " 'Freq1_harmonics_amplitude_2',\n",
       " 'Freq1_harmonics_amplitude_3',\n",
       " 'Freq1_harmonics_rel_phase_1',\n",
       " 'Freq1_harmonics_rel_phase_2',\n",
       " 'Freq1_harmonics_rel_phase_3',\n",
       " 'Gskew',\n",
       " 'LinearTrend',\n",
       " 'MaxSlope',\n",
       " 'Mean',\n",
       " 'Meanvariance',\n",
       " 'MedianAbsDev',\n",
       " 'MedianBRP',\n",
       " 'PairSlopeTrend',\n",
       " 'PercentAmplitude',\n",
       " 'PercentDifferenceFluxPercentile',\n",
       " 'PeriodLS',\n",
       " 'Period_fit',\n",
       " 'Psi_CS',\n",
       " 'Psi_eta',\n",
       " 'Q31',\n",
       " 'Rcs',\n",
       " 'Skew',\n",
       " 'SmallKurtosis',\n",
       " 'Std',\n",
       " 'c89_c3',\n",
       " 'c89_hk_color',\n",
       " 'c89_jh_color',\n",
       " 'c89_jk_color',\n",
       " 'c89_m2',\n",
       " 'c89_m4',\n",
       " 'cnt',\n",
       " 'n09_c3',\n",
       " 'n09_hk_color',\n",
       " 'n09_jh_color',\n",
       " 'n09_jk_color',\n",
       " 'n09_m2',\n",
       " 'n09_m4',\n",
       " 'ppmb'}"
      ]
     },
     "execution_count": 6,
     "metadata": {},
     "output_type": "execute_result"
    }
   ],
   "source": [
    "set(x.split(\"_\", 1)[-1] for x in X_columns)"
   ]
  },
  {
   "cell_type": "markdown",
   "metadata": {},
   "source": [
    "## SVM - Linear"
   ]
  },
  {
   "cell_type": "code",
   "execution_count": 7,
   "metadata": {},
   "outputs": [
    {
     "name": "stdout",
     "output_type": "stream",
     "text": [
      "[YsuTcRoBYKDEqguV2juu6g-2018-10-12 16:29:04.511380] Launching\n",
      "[PYXqtBabjNZcQ88ps9m6gH-2018-10-12 16:29:04.898088] Launching\n",
      "[MvtEcWZisD8mmJZ3WzCZbP-2018-10-12 16:29:05.280398] Launching\n",
      "[dwwcZvDsiyNrkKr44chaG9-2018-10-12 16:29:05.669769] Launching\n",
      "[jtF7StZQbykXMee7xoF32G-2018-10-12 16:29:06.060259] Launching\n",
      "[izhD9hSr8psmSXcLA6XG5D-2018-10-12 16:29:06.451972] Launching\n",
      "[QF6NX4r9Zt7cDZD4VLavnb-2018-10-12 16:29:06.847490] Launching\n",
      "[so9btqvo6QPJ4uJRuYzrW9-2018-10-12 16:29:07.248285] Launching\n",
      "[24FkJ77tqxwaGFPnHDLfmF-2018-10-12 16:29:07.650997] Launching\n",
      "[uj3adQJt2D3vey3J2pL53W-2018-10-12 16:29:08.045841] Launching\n",
      "[uj3adQJt2D3vey3J2pL53W-2018-10-12 16:32:45.074646] Done\n",
      "[QF6NX4r9Zt7cDZD4VLavnb-2018-10-12 16:32:48.275336] Done\n",
      "[so9btqvo6QPJ4uJRuYzrW9-2018-10-12 16:33:12.593604] Done\n",
      "[izhD9hSr8psmSXcLA6XG5D-2018-10-12 16:33:26.458240] Done\n",
      "[24FkJ77tqxwaGFPnHDLfmF-2018-10-12 16:33:27.998243] Done\n",
      "[YsuTcRoBYKDEqguV2juu6g-2018-10-12 16:33:38.799244] Done\n",
      "[MvtEcWZisD8mmJZ3WzCZbP-2018-10-12 16:33:50.657184] Done\n",
      "[PYXqtBabjNZcQ88ps9m6gH-2018-10-12 16:33:52.240478] Done\n",
      "[dwwcZvDsiyNrkKr44chaG9-2018-10-12 16:33:54.585646] Done\n",
      "[jtF7StZQbykXMee7xoF32G-2018-10-12 16:34:00.760759] Done\n",
      "             precision    recall  f1-score   support\n",
      "\n",
      "        0.0       0.05      0.40      0.09       253\n",
      "        1.0       0.94      0.56      0.70      4099\n",
      "\n",
      "avg / total       0.89      0.55      0.67      4352\n",
      "\n",
      "--------------------------------------------------------------------------------\n",
      "CPU times: user 4.76 s, sys: 1.39 s, total: 6.15 s\n",
      "Wall time: 4min 57s\n"
     ]
    }
   ],
   "source": [
    "%%time\n",
    "svc_linear = KFoldExperiment(\n",
    "    clf=SVC(kernel='linear', probability=True), clsnum=sclasses,\n",
    "    data=data, pcls=\"nbg\", ncls=\"no-nbg\", sampler=ADASYN(),\n",
    "    X_columns=X_columns, y_column=\"nbg\")(\"small_sample\", nfolds=10)"
   ]
  },
  {
   "cell_type": "markdown",
   "metadata": {},
   "source": [
    "## SVM - Poly"
   ]
  },
  {
   "cell_type": "code",
   "execution_count": 8,
   "metadata": {},
   "outputs": [
    {
     "name": "stdout",
     "output_type": "stream",
     "text": [
      "[bxneccJp7jHHWakhuTuJcC-2018-10-12 16:34:02.562136] Launching\n",
      "[gAarnztWr6GkgMN6dP4Eqi-2018-10-12 16:34:02.995124] Launching\n",
      "[mGAD2P3QjR4ppSGhxEpE2Q-2018-10-12 16:34:03.432562] Launching\n",
      "[w4HPQmuhuvtAJ4KfSP8xSd-2018-10-12 16:34:03.893897] Launching\n",
      "[gUpAtXjgX7xr3SEZuDa9WM-2018-10-12 16:34:04.336667] Launching\n",
      "[NgY2Cde4stmUoSdnEbzAnH-2018-10-12 16:34:04.784516] Launching\n",
      "[DBkftrVFMSyMUDD4aaU9Wg-2018-10-12 16:34:05.238305] Launching\n",
      "[Y3fgVHdANMFkTWXdRk357j-2018-10-12 16:34:05.695164] Launching\n",
      "[sdudS5JUZMmUkcTqjr6aP7-2018-10-12 16:34:06.163665] Launching\n",
      "[DHzfFtB3cSdUSwaFgwg9Kc-2018-10-12 16:34:06.628074] Launching\n",
      "[DBkftrVFMSyMUDD4aaU9Wg-2018-10-12 16:35:38.890683] Done\n",
      "[NgY2Cde4stmUoSdnEbzAnH-2018-10-12 16:35:45.116820] Done\n",
      "[Y3fgVHdANMFkTWXdRk357j-2018-10-12 16:35:46.675622] Done\n",
      "[sdudS5JUZMmUkcTqjr6aP7-2018-10-12 16:35:53.968598] Done\n",
      "[DHzfFtB3cSdUSwaFgwg9Kc-2018-10-12 16:36:12.809709] Done\n",
      "[gUpAtXjgX7xr3SEZuDa9WM-2018-10-12 16:36:13.766817] Done\n",
      "[gAarnztWr6GkgMN6dP4Eqi-2018-10-12 16:36:20.017359] Done\n",
      "[w4HPQmuhuvtAJ4KfSP8xSd-2018-10-12 16:36:20.771877] Done\n",
      "[bxneccJp7jHHWakhuTuJcC-2018-10-12 16:36:32.563058] Done\n",
      "[mGAD2P3QjR4ppSGhxEpE2Q-2018-10-12 16:36:42.715856] Done\n",
      "             precision    recall  f1-score   support\n",
      "\n",
      "        0.0       0.04      0.58      0.08       253\n",
      "        1.0       0.90      0.23      0.37      4099\n",
      "\n",
      "avg / total       0.85      0.25      0.35      4352\n",
      "\n",
      "--------------------------------------------------------------------------------\n",
      "CPU times: user 5.01 s, sys: 1.31 s, total: 6.32 s\n",
      "Wall time: 2min 41s\n"
     ]
    }
   ],
   "source": [
    "%%time\n",
    "svc_poly = KFoldExperiment(\n",
    "    clf=SVC(kernel='poly', probability=True), clsnum=sclasses,\n",
    "    data=data, pcls=\"nbg\", ncls=\"no-nbg\", sampler=ADASYN(),\n",
    "    X_columns=X_columns, y_column=\"nbg\")(\"small_sample\", nfolds=10)"
   ]
  },
  {
   "cell_type": "markdown",
   "metadata": {},
   "source": [
    "## Random Forest"
   ]
  },
  {
   "cell_type": "code",
   "execution_count": 9,
   "metadata": {},
   "outputs": [
    {
     "name": "stdout",
     "output_type": "stream",
     "text": [
      "[kyq7jumorbxZ66FGtsqRhE-2018-10-12 16:36:44.488413] Launching\n",
      "[UNkFozzsvTTD4eYc5FPXq8-2018-10-12 16:36:44.920713] Launching\n",
      "[jKvzLWyutT7QfE4VvVDVFk-2018-10-12 16:36:45.343569] Launching\n",
      "[RGK6gaFXA6eqMxg7VwwKDh-2018-10-12 16:36:45.747973] Launching\n",
      "[uzmaDX95vWjM2MpEAEQzei-2018-10-12 16:36:46.154936] Launching\n",
      "[8Px3Y3BJYYJqUkt9rspzvd-2018-10-12 16:36:46.574192] Launching\n",
      "[eT39vnADEUztUEJRZdQ7mC-2018-10-12 16:36:46.955594] Launching\n",
      "[FNx4CWfzewq9gsnMhbwXPP-2018-10-12 16:36:47.359068] Launching\n",
      "[HBapHJXrwkrZrPHu6AQLmH-2018-10-12 16:36:47.761608] Launching\n",
      "[o8ArqJNc3ii7VeP4nBXDEg-2018-10-12 16:36:48.158313] Launching\n",
      "[kyq7jumorbxZ66FGtsqRhE-2018-10-12 16:39:03.578008] Done\n",
      "[o8ArqJNc3ii7VeP4nBXDEg-2018-10-12 16:39:16.552793] Done\n",
      "[8Px3Y3BJYYJqUkt9rspzvd-2018-10-12 16:39:20.040931] Done\n",
      "[eT39vnADEUztUEJRZdQ7mC-2018-10-12 16:39:22.147866] Done\n",
      "[HBapHJXrwkrZrPHu6AQLmH-2018-10-12 16:39:22.427118] Done\n",
      "[FNx4CWfzewq9gsnMhbwXPP-2018-10-12 16:39:22.621565] Done\n",
      "[RGK6gaFXA6eqMxg7VwwKDh-2018-10-12 16:39:24.991620] Done\n",
      "[uzmaDX95vWjM2MpEAEQzei-2018-10-12 16:39:25.794737] Done\n",
      "[UNkFozzsvTTD4eYc5FPXq8-2018-10-12 16:39:27.390950] Done\n",
      "[jKvzLWyutT7QfE4VvVDVFk-2018-10-12 16:39:30.359930] Done\n",
      "             precision    recall  f1-score   support\n",
      "\n",
      "        0.0       0.02      0.03      0.02       253\n",
      "        1.0       0.94      0.89      0.92      4099\n",
      "\n",
      "avg / total       0.88      0.84      0.86      4352\n",
      "\n",
      "--------------------------------------------------------------------------------\n",
      "CPU times: user 4.43 s, sys: 1.18 s, total: 5.61 s\n",
      "Wall time: 2min 47s\n"
     ]
    }
   ],
   "source": [
    "%%time\n",
    "rf = KFoldExperiment(\n",
    "    clf=RandomForestClassifier(n_estimators=500, criterion=\"entropy\"), clsnum=sclasses, sampler=ADASYN(),\n",
    "    data=data, pcls=\"nbg\", ncls=\"no-nbg\", X_columns=X_columns, y_column=\"nbg\")(\"small_sample\", nfolds=10)"
   ]
  },
  {
   "cell_type": "markdown",
   "metadata": {},
   "source": [
    "## KNN"
   ]
  },
  {
   "cell_type": "code",
   "execution_count": 10,
   "metadata": {},
   "outputs": [
    {
     "name": "stdout",
     "output_type": "stream",
     "text": [
      "[FG2NMgM3zjKez4pSLisNAn-2018-10-12 16:39:32.179315] Launching\n",
      "[bZ3b5XaSPYfWBVqSAWCKBo-2018-10-12 16:39:32.558455] Launching\n",
      "[oGigJyizrhytVr3GuG5rhj-2018-10-12 16:39:32.927936] Launching\n",
      "[7XuZRxn2WsXVpg4cjibWte-2018-10-12 16:39:33.310121] Launching\n",
      "[zNYxv8YhMfr2P8cvBBkDaB-2018-10-12 16:39:33.679239] Launching\n",
      "[ZCZGxYnBXjduWKZXETD7KP-2018-10-12 16:39:34.063451] Launching\n",
      "[topk4k7kZGBTEcWAXYp5Cb-2018-10-12 16:39:34.509708] Launching\n",
      "[XBRiLTiyEfw9xR7wfPMikb-2018-10-12 16:39:34.959418] Launching\n",
      "[EPALCXwmiRWYb8LbfH3Rg4-2018-10-12 16:39:35.421579] Launching\n",
      "[ieSaWc32LrYw4ZixeJT69g-2018-10-12 16:39:35.878670] Launching\n",
      "[FG2NMgM3zjKez4pSLisNAn-2018-10-12 16:39:38.054961] Done\n",
      "[zNYxv8YhMfr2P8cvBBkDaB-2018-10-12 16:39:38.472858] Done\n",
      "[ZCZGxYnBXjduWKZXETD7KP-2018-10-12 16:39:38.512822] Done\n",
      "[oGigJyizrhytVr3GuG5rhj-2018-10-12 16:39:39.114520] Done\n",
      "[bZ3b5XaSPYfWBVqSAWCKBo-2018-10-12 16:39:39.268043] Done\n",
      "[7XuZRxn2WsXVpg4cjibWte-2018-10-12 16:39:40.450397] Done\n",
      "[EPALCXwmiRWYb8LbfH3Rg4-2018-10-12 16:39:40.771133] Done\n",
      "[topk4k7kZGBTEcWAXYp5Cb-2018-10-12 16:39:41.007751] Done\n",
      "[XBRiLTiyEfw9xR7wfPMikb-2018-10-12 16:39:41.534076] Done\n",
      "[ieSaWc32LrYw4ZixeJT69g-2018-10-12 16:39:41.933171] Done\n",
      "             precision    recall  f1-score   support\n",
      "\n",
      "        0.0       0.04      0.57      0.08       253\n",
      "        1.0       0.90      0.24      0.38      4099\n",
      "\n",
      "avg / total       0.85      0.26      0.36      4352\n",
      "\n",
      "--------------------------------------------------------------------------------\n",
      "CPU times: user 4.15 s, sys: 1.07 s, total: 5.23 s\n",
      "Wall time: 11.6 s\n"
     ]
    }
   ],
   "source": [
    "%%time\n",
    "knn = KFoldExperiment(\n",
    "    clf=KNeighborsClassifier(n_neighbors=50, weights='distance'), clsnum=sclasses, sampler=ADASYN(),\n",
    "    data=data, pcls=\"nbg\", ncls=\"no-nbg\", X_columns=X_columns, y_column=\"nbg\")(\"small_sample\", nfolds=10)"
   ]
  },
  {
   "cell_type": "code",
   "execution_count": 11,
   "metadata": {},
   "outputs": [
    {
     "data": {
      "image/png": "[encoded data removed]",
      "text/plain": [
       "<Figure size 432x288 with 1 Axes>"
      ]
     },
     "metadata": {},
     "output_type": "display_data"
    }
   ],
   "source": [
    "roc({\"KNN\": knn, \"RForest\": rf, \n",
    "     \"SVC Linear\": svc_linear,\n",
    "     \"SVC Polynomic\": svc_poly})"
   ]
  },
  {
   "cell_type": "code",
   "execution_count": null,
   "metadata": {},
   "outputs": [],
   "source": []
  }
 ],
 "metadata": {
  "kernelspec": {
   "display_name": "Python 2",
   "language": "python",
   "name": "python2"
  },
  "language_info": {
   "codemirror_mode": {
    "name": "ipython",
    "version": 2
   },
   "file_extension": ".py",
   "mimetype": "text/x-python",
   "name": "python",
   "nbconvert_exporter": "python",
   "pygments_lexer": "ipython2",
   "version": "2.7.14"
  }
 },
 "nbformat": 4,
 "nbformat_minor": 2
}
