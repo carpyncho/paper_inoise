{
 "cells": [
  {
   "cell_type": "code",
   "execution_count": 1,
   "metadata": {},
   "outputs": [],
   "source": [
    "% matplotlib inline\n",
    "\n",
    "import time\n",
    "import pandas as pd\n",
    "\n",
    "from IPython import display as d\n",
    "\n",
    "import seaborn as sns\n",
    "sns.set()\n",
    "\n",
    "from sklearn.svm import SVC\n",
    "from sklearn.tree import DecisionTreeClassifier\n",
    "from sklearn.ensemble import RandomForestClassifier\n",
    "from sklearn.neighbors import KNeighborsClassifier\n",
    "\n",
    "from imblearn.over_sampling import SMOTE\n",
    "\n",
    "from libs import container\n",
    "from libs.experiment import (\n",
    "    WithAnotherExperiment, KFoldExperiment, roc, \n",
    "    discretize_classes, clean_features)"
   ]
  },
  {
   "cell_type": "code",
   "execution_count": 2,
   "metadata": {},
   "outputs": [],
   "source": [
    "data = container.Container(sample=pd.read_pickle(\"data/sample.pkl\"))\n",
    "data[\"balanced\"] = pd.concat((\n",
    "    data.sample[data.sample.nbg == 1].sample(786),\n",
    "    data.sample[data.sample.nbg == 0]))\n",
    "data[\"small_sample\"] = pd.read_pickle(\"data/small_sample.pkl\")"
   ]
  },
  {
   "cell_type": "markdown",
   "metadata": {},
   "source": [
    "## Features cleaning"
   ]
  },
  {
   "cell_type": "code",
   "execution_count": 3,
   "metadata": {},
   "outputs": [
    {
     "data": {
      "text/plain": [
       "{'nbg': 1, 'no-nbg': 0}"
      ]
     },
     "execution_count": 3,
     "metadata": {},
     "output_type": "execute_result"
    }
   ],
   "source": [
    "sclasses = {\n",
    "    \"nbg\": 1,\n",
    "    \"no-nbg\": 0}\n",
    "sclasses"
   ]
  },
  {
   "cell_type": "code",
   "execution_count": 4,
   "metadata": {},
   "outputs": [
    {
     "data": {
      "text/plain": [
       "((12598, 161), (1572, 161), (4352, 161))"
      ]
     },
     "execution_count": 4,
     "metadata": {},
     "output_type": "execute_result"
    }
   ],
   "source": [
    "data.sample.shape, data.balanced.shape, data.small_sample.shape"
   ]
  },
  {
   "cell_type": "code",
   "execution_count": 5,
   "metadata": {},
   "outputs": [
    {
     "name": "stdout",
     "output_type": "stream",
     "text": [
      "Removing [] because null\n",
      "Removing ['src1_Freq1_harmonics_rel_phase_0', 'src1_Freq2_harmonics_rel_phase_0', 'src1_Freq3_harmonics_rel_phase_0', 'src2_Freq1_harmonics_rel_phase_0', 'src2_Freq2_harmonics_rel_phase_0', 'src2_Freq3_harmonics_rel_phase_0'] because lowvariance\n",
      "('Total features:', 112)\n"
     ]
    }
   ],
   "source": [
    "X_columns = clean_features(data, \"sample\")\n",
    "X_columns = X_columns[\n",
    "    ~(X_columns.str.contains(\"Freq2_\") | X_columns.str.contains(\"Freq3_\") | X_columns.str.contains(\"_cnt\"))]\n",
    "print(\"Total features:\", X_columns.size)"
   ]
  },
  {
   "cell_type": "code",
   "execution_count": 6,
   "metadata": {},
   "outputs": [
    {
     "data": {
      "text/plain": [
       "{'Amplitude',\n",
       " 'AmplitudeH',\n",
       " 'AmplitudeJ',\n",
       " 'AmplitudeJH',\n",
       " 'AmplitudeJK',\n",
       " 'Autocor_length',\n",
       " 'Beyond1Std',\n",
       " 'CAR_mean',\n",
       " 'CAR_sigma',\n",
       " 'CAR_tau',\n",
       " 'Con',\n",
       " 'Eta_e',\n",
       " 'FluxPercentileRatioMid20',\n",
       " 'FluxPercentileRatioMid35',\n",
       " 'FluxPercentileRatioMid50',\n",
       " 'FluxPercentileRatioMid65',\n",
       " 'FluxPercentileRatioMid80',\n",
       " 'Freq1_harmonics_amplitude_0',\n",
       " 'Freq1_harmonics_amplitude_1',\n",
       " 'Freq1_harmonics_amplitude_2',\n",
       " 'Freq1_harmonics_amplitude_3',\n",
       " 'Freq1_harmonics_rel_phase_1',\n",
       " 'Freq1_harmonics_rel_phase_2',\n",
       " 'Freq1_harmonics_rel_phase_3',\n",
       " 'Gskew',\n",
       " 'LinearTrend',\n",
       " 'MaxSlope',\n",
       " 'Mean',\n",
       " 'Meanvariance',\n",
       " 'MedianAbsDev',\n",
       " 'MedianBRP',\n",
       " 'PairSlopeTrend',\n",
       " 'PercentAmplitude',\n",
       " 'PercentDifferenceFluxPercentile',\n",
       " 'PeriodLS',\n",
       " 'Period_fit',\n",
       " 'Psi_CS',\n",
       " 'Psi_eta',\n",
       " 'Q31',\n",
       " 'Rcs',\n",
       " 'Skew',\n",
       " 'SmallKurtosis',\n",
       " 'Std',\n",
       " 'c89_c3',\n",
       " 'c89_hk_color',\n",
       " 'c89_jh_color',\n",
       " 'c89_jk_color',\n",
       " 'c89_m2',\n",
       " 'c89_m4',\n",
       " 'n09_c3',\n",
       " 'n09_hk_color',\n",
       " 'n09_jh_color',\n",
       " 'n09_jk_color',\n",
       " 'n09_m2',\n",
       " 'n09_m4',\n",
       " 'ppmb'}"
      ]
     },
     "execution_count": 6,
     "metadata": {},
     "output_type": "execute_result"
    }
   ],
   "source": [
    "set(x.split(\"_\", 1)[-1] for x in X_columns)"
   ]
  },
  {
   "cell_type": "markdown",
   "metadata": {},
   "source": [
    "## SVM - Linear"
   ]
  },
  {
   "cell_type": "code",
   "execution_count": 7,
   "metadata": {},
   "outputs": [
    {
     "name": "stdout",
     "output_type": "stream",
     "text": [
      "[JP3yeS2UZiuLNLapsCni7f-2018-10-16 16:55:35.698041] Launching\n",
      "[MhCEVZBqH7yv5ZKSguNUsF-2018-10-16 16:55:35.849173] Launching\n",
      "[cKSkJqjTm9vFFPwXjduuu8-2018-10-16 16:55:35.999297] Launching\n",
      "[VPR7TUbaPLo4tQQvXbQQvh-2018-10-16 16:55:36.156274] Launching\n",
      "[kxPpfMZKVgM38ZFNsskomX-2018-10-16 16:55:36.308743] Launching\n",
      "[sqNY6Tx5kiRwZZUA3DVYe4-2018-10-16 16:55:36.467535] Launching\n",
      "[TwaYeNXBqFr3sMWMEVbiER-2018-10-16 16:55:36.628597] Launching\n",
      "[6Si3Myi3HDFXNZmzinnWdB-2018-10-16 16:55:36.788934] Launching\n",
      "[SF8o4hciV3YZmuvMGUrhzc-2018-10-16 16:55:36.983638] Launching\n",
      "[RmYKbLfPUAxv6do4reyNPg-2018-10-16 16:55:37.206612] Launching\n",
      "[6Si3Myi3HDFXNZmzinnWdB-2018-10-16 16:59:07.916928] Done\n",
      "[RmYKbLfPUAxv6do4reyNPg-2018-10-16 16:59:44.377601] Done\n",
      "[kxPpfMZKVgM38ZFNsskomX-2018-10-16 16:59:45.688598] Done\n",
      "[SF8o4hciV3YZmuvMGUrhzc-2018-10-16 16:59:51.358656] Done\n",
      "[sqNY6Tx5kiRwZZUA3DVYe4-2018-10-16 17:00:24.842910] Done\n",
      "[JP3yeS2UZiuLNLapsCni7f-2018-10-16 17:00:25.931719] Done\n",
      "[cKSkJqjTm9vFFPwXjduuu8-2018-10-16 17:00:26.676302] Done\n",
      "[TwaYeNXBqFr3sMWMEVbiER-2018-10-16 17:00:34.183852] Done\n",
      "[VPR7TUbaPLo4tQQvXbQQvh-2018-10-16 17:00:36.286775] Done\n",
      "[MhCEVZBqH7yv5ZKSguNUsF-2018-10-16 17:00:36.673920] Done\n",
      "             precision    recall  f1-score   support\n",
      "\n",
      "        0.0       0.07      0.45      0.13       253\n",
      "        1.0       0.95      0.65      0.77      4099\n",
      "\n",
      "avg / total       0.90      0.64      0.74      4352\n",
      "\n",
      "--------------------------------------------------------------------------------\n",
      "CPU times: user 2.73 s, sys: 1.44 s, total: 4.17 s\n",
      "Wall time: 5min 2s\n"
     ]
    }
   ],
   "source": [
    "%%time\n",
    "svc_linear = KFoldExperiment(\n",
    "    clf=SVC(kernel='linear', probability=True), clsnum=sclasses,\n",
    "    data=data, pcls=\"nbg\", ncls=\"no-nbg\", sampler=SMOTE(),\n",
    "    X_columns=X_columns, y_column=\"nbg\")(\"small_sample\", nfolds=10)"
   ]
  },
  {
   "cell_type": "markdown",
   "metadata": {},
   "source": [
    "## SVM - Poly"
   ]
  },
  {
   "cell_type": "code",
   "execution_count": 8,
   "metadata": {},
   "outputs": [
    {
     "name": "stdout",
     "output_type": "stream",
     "text": [
      "[vrsqeUzUEAck4g2ouTr3TC-2018-10-16 17:00:38.527959] Launching\n",
      "[yZGRX5DRUqCS55xw5p3NUF-2018-10-16 17:00:38.728307] Launching\n",
      "[x5bknur5TzWMzpnk7CgPV7-2018-10-16 17:00:38.922155] Launching\n",
      "[nw86zsnTpxzhKHjFmqL2aX-2018-10-16 17:00:39.124402] Launching\n",
      "[3jbWViXJGTVfnMX7GoqEg7-2018-10-16 17:00:39.333998] Launching\n",
      "[Jy3i5kVVt3cStm5MBfg5vE-2018-10-16 17:00:39.544242] Launching\n",
      "[439b9rZZXRNoSKSmTBFRSL-2018-10-16 17:00:39.774101] Launching\n",
      "[f4QBGeZ8AXEgcFF8A4hidS-2018-10-16 17:00:39.978990] Launching\n",
      "[w9auVht2vxWuUUk5E86ZxN-2018-10-16 17:00:40.228598] Launching\n",
      "[bDTjSjohkR7LYkBC63dcYn-2018-10-16 17:00:40.430929] Launching\n",
      "[bDTjSjohkR7LYkBC63dcYn-2018-10-16 17:02:18.773516] Done\n",
      "[w9auVht2vxWuUUk5E86ZxN-2018-10-16 17:02:20.841810] Done\n",
      "[f4QBGeZ8AXEgcFF8A4hidS-2018-10-16 17:02:29.674085] Done\n",
      "[439b9rZZXRNoSKSmTBFRSL-2018-10-16 17:02:37.809674] Done\n",
      "[vrsqeUzUEAck4g2ouTr3TC-2018-10-16 17:03:05.914332] Done\n",
      "[3jbWViXJGTVfnMX7GoqEg7-2018-10-16 17:03:30.075753] Done\n",
      "[x5bknur5TzWMzpnk7CgPV7-2018-10-16 17:03:31.604897] Done\n",
      "[Jy3i5kVVt3cStm5MBfg5vE-2018-10-16 17:03:33.953154] Done\n",
      "[yZGRX5DRUqCS55xw5p3NUF-2018-10-16 17:03:41.568792] Done\n",
      "[nw86zsnTpxzhKHjFmqL2aX-2018-10-16 17:03:41.605139] Done\n",
      "             precision    recall  f1-score   support\n",
      "\n",
      "        0.0       0.14      0.34      0.20       253\n",
      "        1.0       0.96      0.87      0.91      4099\n",
      "\n",
      "avg / total       0.91      0.84      0.87      4352\n",
      "\n",
      "--------------------------------------------------------------------------------\n",
      "CPU times: user 2.66 s, sys: 1.35 s, total: 4.01 s\n",
      "Wall time: 3min 4s\n"
     ]
    }
   ],
   "source": [
    "%%time\n",
    "svc_poly = KFoldExperiment(\n",
    "    clf=SVC(kernel='poly', probability=True), clsnum=sclasses,\n",
    "    data=data, pcls=\"nbg\", ncls=\"no-nbg\", sampler=SMOTE(),\n",
    "    X_columns=X_columns, y_column=\"nbg\")(\"small_sample\", nfolds=10)"
   ]
  },
  {
   "cell_type": "markdown",
   "metadata": {},
   "source": [
    "## Random Forest"
   ]
  },
  {
   "cell_type": "code",
   "execution_count": 9,
   "metadata": {},
   "outputs": [
    {
     "name": "stdout",
     "output_type": "stream",
     "text": [
      "[VdjDcCs7HNk4NZgQpbZQMU-2018-10-16 17:03:43.128921] Launching\n",
      "[YwYDBDhvWhSQLaD2UrYZUV-2018-10-16 17:03:43.283581] Launching\n",
      "[Vc4b7mD3j5djeWsfZBasbH-2018-10-16 17:03:43.445874] Launching\n",
      "[gLu7439sFvgyYjQdqYwwkh-2018-10-16 17:03:43.607709] Launching\n",
      "[vdvseKUCC5zSVD8mfznDn7-2018-10-16 17:03:43.769631] Launching\n",
      "[YjExekXQd7zPx3dbnpwdLh-2018-10-16 17:03:43.927019] Launching\n",
      "[P8M6MJr8nABzeBLMqrhTYC-2018-10-16 17:03:44.090973] Launching\n",
      "[eG8VrnvrjfFHnPaGsCiJ5m-2018-10-16 17:03:44.244665] Launching\n",
      "[m7SsCVkAgXwaqsdLa8DFi5-2018-10-16 17:03:44.407105] Launching\n",
      "[D2DVPUxL6jP8PCRPygWKLB-2018-10-16 17:03:44.567797] Launching\n",
      "[D2DVPUxL6jP8PCRPygWKLB-2018-10-16 17:05:57.228919] Done\n",
      "[m7SsCVkAgXwaqsdLa8DFi5-2018-10-16 17:06:00.086010] Done\n",
      "[eG8VrnvrjfFHnPaGsCiJ5m-2018-10-16 17:06:03.411354] Done\n",
      "[YwYDBDhvWhSQLaD2UrYZUV-2018-10-16 17:06:04.502530] Done\n",
      "[VdjDcCs7HNk4NZgQpbZQMU-2018-10-16 17:06:07.425569] Done\n",
      "[gLu7439sFvgyYjQdqYwwkh-2018-10-16 17:06:07.519335] Done\n",
      "[Vc4b7mD3j5djeWsfZBasbH-2018-10-16 17:06:07.914924] Done\n",
      "[P8M6MJr8nABzeBLMqrhTYC-2018-10-16 17:06:07.966912] Done\n",
      "[vdvseKUCC5zSVD8mfznDn7-2018-10-16 17:06:09.798102] Done\n",
      "[YjExekXQd7zPx3dbnpwdLh-2018-10-16 17:06:10.179397] Done\n",
      "             precision    recall  f1-score   support\n",
      "\n",
      "        0.0       0.00      0.00      0.00       253\n",
      "        1.0       0.94      1.00      0.97      4099\n",
      "\n",
      "avg / total       0.89      0.94      0.91      4352\n",
      "\n",
      "--------------------------------------------------------------------------------\n",
      "CPU times: user 2.21 s, sys: 1.3 s, total: 3.51 s\n",
      "Wall time: 2min 28s\n"
     ]
    }
   ],
   "source": [
    "%%time\n",
    "rf = KFoldExperiment(\n",
    "    clf=RandomForestClassifier(n_estimators=500, criterion=\"entropy\"), clsnum=sclasses, sampler=SMOTE(),\n",
    "    data=data, pcls=\"nbg\", ncls=\"no-nbg\", X_columns=X_columns, y_column=\"nbg\")(\"small_sample\", nfolds=10)"
   ]
  },
  {
   "cell_type": "markdown",
   "metadata": {},
   "source": [
    "## KNN"
   ]
  },
  {
   "cell_type": "code",
   "execution_count": 10,
   "metadata": {},
   "outputs": [
    {
     "name": "stdout",
     "output_type": "stream",
     "text": [
      "[rZ2wiqskwzZVjnGNZ8hZmY-2018-10-16 17:06:12.013828] Launching\n",
      "[R3psiTJDUSkkK8NPGx35P8-2018-10-16 17:06:12.196507] Launching\n",
      "[kU5QNZChbtxkofTdEcX5hP-2018-10-16 17:06:12.371270] Launching\n",
      "[tAGZM9ydvbeMYxsQZesqZU-2018-10-16 17:06:12.569934] Launching\n",
      "[9FG2m2ZmURM7i3nkHmNA6W-2018-10-16 17:06:12.763251] Launching\n",
      "[uZPvW3u47EBEfartdymsnX-2018-10-16 17:06:12.974589] Launching\n",
      "[Uj6DW5cgakccGG6Gg5c2hE-2018-10-16 17:06:13.319058] Launching\n",
      "[2Q2fA8LWGzYcFwNdXehxTM-2018-10-16 17:06:13.576928] Launching\n",
      "[XAhCd8bPfgaBydMfJbGs52-2018-10-16 17:06:13.934432] Launching\n",
      "[asH6GUbMChhzHnPNxFnaeB-2018-10-16 17:06:14.236803] Launching\n",
      "[rZ2wiqskwzZVjnGNZ8hZmY-2018-10-16 17:06:16.634483] Done\n",
      "[Uj6DW5cgakccGG6Gg5c2hE-2018-10-16 17:06:17.869013] Done\n",
      "[2Q2fA8LWGzYcFwNdXehxTM-2018-10-16 17:06:18.114968] Done\n",
      "[XAhCd8bPfgaBydMfJbGs52-2018-10-16 17:06:18.281536] Done\n",
      "[asH6GUbMChhzHnPNxFnaeB-2018-10-16 17:06:18.445894] Done\n",
      "[kU5QNZChbtxkofTdEcX5hP-2018-10-16 17:06:21.111460] Done\n",
      "[uZPvW3u47EBEfartdymsnX-2018-10-16 17:06:21.820297] Done\n",
      "[9FG2m2ZmURM7i3nkHmNA6W-2018-10-16 17:06:24.582774] Done\n",
      "[tAGZM9ydvbeMYxsQZesqZU-2018-10-16 17:06:25.113736] Done\n",
      "[R3psiTJDUSkkK8NPGx35P8-2018-10-16 17:06:25.965068] Done\n",
      "             precision    recall  f1-score   support\n",
      "\n",
      "        0.0       0.06      0.66      0.11       253\n",
      "        1.0       0.95      0.38      0.54      4099\n",
      "\n",
      "avg / total       0.90      0.39      0.51      4352\n",
      "\n",
      "--------------------------------------------------------------------------------\n",
      "CPU times: user 2.53 s, sys: 1.21 s, total: 3.73 s\n",
      "Wall time: 15.8 s\n"
     ]
    }
   ],
   "source": [
    "%%time\n",
    "knn = KFoldExperiment(\n",
    "    clf=KNeighborsClassifier(n_neighbors=50, weights='distance'), clsnum=sclasses, sampler=SMOTE(),\n",
    "    data=data, pcls=\"nbg\", ncls=\"no-nbg\", X_columns=X_columns, y_column=\"nbg\")(\"small_sample\", nfolds=10)"
   ]
  },
  {
   "cell_type": "code",
   "execution_count": 11,
   "metadata": {},
   "outputs": [
    {
     "data": {
      "image/png": "[encoded data removed]",
      "text/plain": [
       "<Figure size 432x288 with 1 Axes>"
      ]
     },
     "metadata": {},
     "output_type": "display_data"
    }
   ],
   "source": [
    "roc({\"KNN\": knn, \"RForest\": rf, \n",
    "     \"SVC Linear\": svc_linear,\n",
    "     \"SVC Polynomic\": svc_poly})"
   ]
  },
  {
   "cell_type": "code",
   "execution_count": null,
   "metadata": {},
   "outputs": [],
   "source": []
  }
 ],
 "metadata": {
  "kernelspec": {
   "display_name": "Python 2",
   "language": "python",
   "name": "python2"
  },
  "language_info": {
   "codemirror_mode": {
    "name": "ipython",
    "version": 2
   },
   "file_extension": ".py",
   "mimetype": "text/x-python",
   "name": "python",
   "nbconvert_exporter": "python",
   "pygments_lexer": "ipython2",
   "version": "2.7.14"
  }
 },
 "nbformat": 4,
 "nbformat_minor": 2
}
