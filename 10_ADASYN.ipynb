{
 "cells": [
  {
   "cell_type": "code",
   "execution_count": 12,
   "metadata": {},
   "outputs": [],
   "source": [
    "% matplotlib inline\n",
    "\n",
    "import time\n",
    "import pandas as pd\n",
    "\n",
    "from IPython import display as d\n",
    "\n",
    "import seaborn as sns\n",
    "sns.set()\n",
    "\n",
    "from sklearn.svm import SVC\n",
    "from sklearn.tree import DecisionTreeClassifier\n",
    "from sklearn.ensemble import RandomForestClassifier\n",
    "from sklearn.neighbors import KNeighborsClassifier\n",
    "\n",
    "from imblearn.under_sampling import RandomUnderSampler\n",
    "\n",
    "from libs import container\n",
    "from libs.experiment import (\n",
    "    WithAnotherExperiment, KFoldExperiment, roc, \n",
    "    discretize_classes, clean_features)"
   ]
  },
  {
   "cell_type": "code",
   "execution_count": 13,
   "metadata": {},
   "outputs": [],
   "source": [
    "data = container.Container(sample=pd.read_pickle(\"data/sample.pkl\"))\n",
    "data[\"balanced\"] = pd.concat((\n",
    "    data.sample[data.sample.nbg == 1].sample(786),\n",
    "    data.sample[data.sample.nbg == 0]))\n",
    "data[\"small_sample\"] = pd.read_pickle(\"data/small_sample.pkl\")"
   ]
  },
  {
   "cell_type": "markdown",
   "metadata": {},
   "source": [
    "## Features cleaning"
   ]
  },
  {
   "cell_type": "code",
   "execution_count": 14,
   "metadata": {},
   "outputs": [
    {
     "data": {
      "text/plain": [
       "{'nbg': 1, 'no-nbg': 0}"
      ]
     },
     "execution_count": 14,
     "metadata": {},
     "output_type": "execute_result"
    }
   ],
   "source": [
    "sclasses = {\n",
    "    \"nbg\": 1,\n",
    "    \"no-nbg\": 0}\n",
    "sclasses"
   ]
  },
  {
   "cell_type": "code",
   "execution_count": 15,
   "metadata": {},
   "outputs": [
    {
     "data": {
      "text/plain": [
       "((12598, 161), (1572, 161), (4352, 161))"
      ]
     },
     "execution_count": 15,
     "metadata": {},
     "output_type": "execute_result"
    }
   ],
   "source": [
    "data.sample.shape, data.balanced.shape, data.small_sample.shape"
   ]
  },
  {
   "cell_type": "code",
   "execution_count": 16,
   "metadata": {},
   "outputs": [
    {
     "name": "stdout",
     "output_type": "stream",
     "text": [
      "Removing [] because null\n",
      "Removing ['src1_Freq1_harmonics_rel_phase_0', 'src1_Freq2_harmonics_rel_phase_0', 'src1_Freq3_harmonics_rel_phase_0', 'src2_Freq1_harmonics_rel_phase_0', 'src2_Freq2_harmonics_rel_phase_0', 'src2_Freq3_harmonics_rel_phase_0'] because lowvariance\n",
      "('Total features:', 114)\n"
     ]
    }
   ],
   "source": [
    "X_columns = clean_features(data, \"sample\")\n",
    "X_columns = X_columns[\n",
    "    ~(X_columns.str.contains(\"Freq2_\") | X_columns.str.contains(\"Freq3_\"))]\n",
    "print(\"Total features:\", X_columns.size)"
   ]
  },
  {
   "cell_type": "code",
   "execution_count": 17,
   "metadata": {},
   "outputs": [
    {
     "data": {
      "text/plain": [
       "{'Amplitude',\n",
       " 'AmplitudeH',\n",
       " 'AmplitudeJ',\n",
       " 'AmplitudeJH',\n",
       " 'AmplitudeJK',\n",
       " 'Autocor_length',\n",
       " 'Beyond1Std',\n",
       " 'CAR_mean',\n",
       " 'CAR_sigma',\n",
       " 'CAR_tau',\n",
       " 'Con',\n",
       " 'Eta_e',\n",
       " 'FluxPercentileRatioMid20',\n",
       " 'FluxPercentileRatioMid35',\n",
       " 'FluxPercentileRatioMid50',\n",
       " 'FluxPercentileRatioMid65',\n",
       " 'FluxPercentileRatioMid80',\n",
       " 'Freq1_harmonics_amplitude_0',\n",
       " 'Freq1_harmonics_amplitude_1',\n",
       " 'Freq1_harmonics_amplitude_2',\n",
       " 'Freq1_harmonics_amplitude_3',\n",
       " 'Freq1_harmonics_rel_phase_1',\n",
       " 'Freq1_harmonics_rel_phase_2',\n",
       " 'Freq1_harmonics_rel_phase_3',\n",
       " 'Gskew',\n",
       " 'LinearTrend',\n",
       " 'MaxSlope',\n",
       " 'Mean',\n",
       " 'Meanvariance',\n",
       " 'MedianAbsDev',\n",
       " 'MedianBRP',\n",
       " 'PairSlopeTrend',\n",
       " 'PercentAmplitude',\n",
       " 'PercentDifferenceFluxPercentile',\n",
       " 'PeriodLS',\n",
       " 'Period_fit',\n",
       " 'Psi_CS',\n",
       " 'Psi_eta',\n",
       " 'Q31',\n",
       " 'Rcs',\n",
       " 'Skew',\n",
       " 'SmallKurtosis',\n",
       " 'Std',\n",
       " 'c89_c3',\n",
       " 'c89_hk_color',\n",
       " 'c89_jh_color',\n",
       " 'c89_jk_color',\n",
       " 'c89_m2',\n",
       " 'c89_m4',\n",
       " 'cnt',\n",
       " 'n09_c3',\n",
       " 'n09_hk_color',\n",
       " 'n09_jh_color',\n",
       " 'n09_jk_color',\n",
       " 'n09_m2',\n",
       " 'n09_m4',\n",
       " 'ppmb'}"
      ]
     },
     "execution_count": 17,
     "metadata": {},
     "output_type": "execute_result"
    }
   ],
   "source": [
    "set(x.split(\"_\", 1)[-1] for x in X_columns)"
   ]
  },
  {
   "cell_type": "markdown",
   "metadata": {},
   "source": [
    "## SVM - Linear"
   ]
  },
  {
   "cell_type": "code",
   "execution_count": 18,
   "metadata": {},
   "outputs": [
    {
     "name": "stdout",
     "output_type": "stream",
     "text": [
      "[XofLmoe7LmURFk4MifNmX3-2018-10-12 16:48:38.075695] Launching\n",
      "[K3euQqycCcc25R3syyLR5a-2018-10-12 16:48:38.450533] Launching\n",
      "[JC7EBoLvJtD7JSeoc8rFam-2018-10-12 16:48:38.758028] Launching\n",
      "[YFnCTWWg7N9biHmShCgpra-2018-10-12 16:48:39.070181] Launching\n",
      "[hvxYiq2Jv2mXrANiQrajFA-2018-10-12 16:48:39.399195] Launching\n",
      "[u7pbVv9KLxEVeiUBp4PqmN-2018-10-12 16:48:39.711541] Launching\n",
      "[2RTokP8yNNYf7b5zcBqysY-2018-10-12 16:48:40.044720] Launching\n",
      "[K3euQqycCcc25R3syyLR5a-2018-10-12 16:48:40.382627] Done\n",
      "[wVgR8PpS3LtrB2nGrupxgR-2018-10-12 16:48:40.406917] Launching\n",
      "[XofLmoe7LmURFk4MifNmX3-2018-10-12 16:48:40.492812] Done\n",
      "[JC7EBoLvJtD7JSeoc8rFam-2018-10-12 16:48:40.752570] Done\n",
      "[yNr2vzGek248YPUDLWgJQJ-2018-10-12 16:48:40.788252] Launching\n",
      "[YFnCTWWg7N9biHmShCgpra-2018-10-12 16:48:40.946719] Done\n",
      "[hvxYiq2Jv2mXrANiQrajFA-2018-10-12 16:48:41.077446] Done\n",
      "[rRFcKvYEYaA9DEVvVXmCzn-2018-10-12 16:48:41.213989] Launching\n",
      "[u7pbVv9KLxEVeiUBp4PqmN-2018-10-12 16:48:41.411891] Done\n",
      "[2RTokP8yNNYf7b5zcBqysY-2018-10-12 16:48:41.639011] Done\n",
      "[wVgR8PpS3LtrB2nGrupxgR-2018-10-12 16:48:42.198125] Done\n",
      "[yNr2vzGek248YPUDLWgJQJ-2018-10-12 16:48:42.837583] Done\n",
      "[rRFcKvYEYaA9DEVvVXmCzn-2018-10-12 16:48:43.120035] Done\n",
      "             precision    recall  f1-score   support\n",
      "\n",
      "        0.0       0.07      0.48      0.13       253\n",
      "        1.0       0.95      0.62      0.75      4099\n",
      "\n",
      "avg / total       0.90      0.61      0.71      4352\n",
      "\n",
      "--------------------------------------------------------------------------------\n",
      "CPU times: user 3.58 s, sys: 1.42 s, total: 5 s\n",
      "Wall time: 7.15 s\n"
     ]
    }
   ],
   "source": [
    "%%time\n",
    "svc_linear = KFoldExperiment(\n",
    "    clf=SVC(kernel='linear', probability=True), clsnum=sclasses,\n",
    "    data=data, pcls=\"nbg\", ncls=\"no-nbg\", sampler=RandomUnderSampler(),\n",
    "    X_columns=X_columns, y_column=\"nbg\")(\"small_sample\", nfolds=10)"
   ]
  },
  {
   "cell_type": "markdown",
   "metadata": {},
   "source": [
    "## SVM - Poly"
   ]
  },
  {
   "cell_type": "code",
   "execution_count": 19,
   "metadata": {},
   "outputs": [
    {
     "name": "stdout",
     "output_type": "stream",
     "text": [
      "[HEaZRZc6VYoEGW3d8HZ3if-2018-10-12 16:48:45.766309] Launching\n",
      "[HEaZRZc6VYoEGW3d8HZ3if-2018-10-12 16:48:46.235155] Done\n",
      "[b4mVnsTbyWqnTc6UUfKThU-2018-10-12 16:48:46.250522] Launching\n",
      "[QdNZeNFR2unpMFy3Euo3Kn-2018-10-12 16:48:46.657022] Launching\n",
      "[b4mVnsTbyWqnTc6UUfKThU-2018-10-12 16:48:46.725975] Done\n",
      "[58mjPKpupb4AMeatjugk86-2018-10-12 16:48:47.054356] Launching\n",
      "[QdNZeNFR2unpMFy3Euo3Kn-2018-10-12 16:48:47.147302] Done\n",
      "[PwTBPzRhFunQG8xaabykPh-2018-10-12 16:48:47.461396] Launching\n",
      "[58mjPKpupb4AMeatjugk86-2018-10-12 16:48:47.533955] Done\n",
      "[wV6SHXRQUizxfK8HesEdbN-2018-10-12 16:48:47.844138] Launching\n",
      "[PwTBPzRhFunQG8xaabykPh-2018-10-12 16:48:47.953065] Done\n",
      "[2eNQGnAWaSFfiB7hzem8KK-2018-10-12 16:48:48.246533] Launching\n",
      "[wV6SHXRQUizxfK8HesEdbN-2018-10-12 16:48:48.318694] Done\n",
      "[v6qMSBNDyuUkfVSL7ZSeoZ-2018-10-12 16:48:48.631461] Launching\n",
      "[2eNQGnAWaSFfiB7hzem8KK-2018-10-12 16:48:48.710516] Done\n",
      "[azKQ4VbQs2BgjB37TV36oc-2018-10-12 16:48:49.037132] Launching\n",
      "[v6qMSBNDyuUkfVSL7ZSeoZ-2018-10-12 16:48:49.111132] Done\n",
      "[S6yvDdgibZ7jUR9pk2QhYd-2018-10-12 16:48:49.427181] Launching\n",
      "[azKQ4VbQs2BgjB37TV36oc-2018-10-12 16:48:49.518552] Done\n",
      "[S6yvDdgibZ7jUR9pk2QhYd-2018-10-12 16:48:49.894975] Done\n",
      "             precision    recall  f1-score   support\n",
      "\n",
      "        0.0       0.23      0.32      0.27       253\n",
      "        1.0       0.96      0.94      0.95      4099\n",
      "\n",
      "avg / total       0.91      0.90      0.91      4352\n",
      "\n",
      "--------------------------------------------------------------------------------\n",
      "CPU times: user 4.26 s, sys: 1.79 s, total: 6.05 s\n",
      "Wall time: 6.73 s\n"
     ]
    }
   ],
   "source": [
    "%%time\n",
    "svc_poly = KFoldExperiment(\n",
    "    clf=SVC(kernel='poly', probability=True), clsnum=sclasses,\n",
    "    data=data, pcls=\"nbg\", ncls=\"no-nbg\", sampler=RandomUnderSampler(),\n",
    "    X_columns=X_columns, y_column=\"nbg\")(\"small_sample\", nfolds=10)"
   ]
  },
  {
   "cell_type": "markdown",
   "metadata": {},
   "source": [
    "## Random Forest"
   ]
  },
  {
   "cell_type": "code",
   "execution_count": 20,
   "metadata": {},
   "outputs": [
    {
     "name": "stdout",
     "output_type": "stream",
     "text": [
      "[gsHAD7ASFe7XqQT9eHnhBE-2018-10-12 16:48:51.861794] Launching\n",
      "[3JdF4ydx2zCkviZfy2BUzh-2018-10-12 16:48:52.258836] Launching\n",
      "[M9rjaPz5zRakPR3jy2JsaY-2018-10-12 16:48:52.681470] Launching\n",
      "[qtszcwEzGYVBDCR3QkJcCk-2018-10-12 16:48:53.086720] Launching\n",
      "[KJCXADJgLdTaMKzMUzm8Nk-2018-10-12 16:48:53.446123] Launching\n",
      "[kLYWfzQc6fy8jFi6NvJGgG-2018-10-12 16:48:53.797668] Launching\n",
      "[SsLZDTc7kfyeZgSFuzZAPa-2018-10-12 16:48:54.139833] Launching\n",
      "[D76ppEeVJkfPim5io9DHTo-2018-10-12 16:48:54.447294] Launching\n",
      "[bdLZRca9Y4D3AneMUSn9Ch-2018-10-12 16:48:54.766227] Launching\n",
      "[N9s5bnRdvUKBjj3RCL89sL-2018-10-12 16:48:55.085970] Launching\n",
      "[gsHAD7ASFe7XqQT9eHnhBE-2018-10-12 16:48:59.489715] Done\n",
      "[3JdF4ydx2zCkviZfy2BUzh-2018-10-12 16:49:00.147733] Done\n",
      "[M9rjaPz5zRakPR3jy2JsaY-2018-10-12 16:49:00.376800] Done\n",
      "[qtszcwEzGYVBDCR3QkJcCk-2018-10-12 16:49:01.042376] Done\n",
      "[KJCXADJgLdTaMKzMUzm8Nk-2018-10-12 16:49:01.194326] Done\n",
      "[kLYWfzQc6fy8jFi6NvJGgG-2018-10-12 16:49:01.545171] Done\n",
      "[SsLZDTc7kfyeZgSFuzZAPa-2018-10-12 16:49:01.762775] Done\n",
      "[D76ppEeVJkfPim5io9DHTo-2018-10-12 16:49:01.979243] Done\n",
      "[N9s5bnRdvUKBjj3RCL89sL-2018-10-12 16:49:02.377550] Done\n",
      "[bdLZRca9Y4D3AneMUSn9Ch-2018-10-12 16:49:02.432115] Done\n",
      "             precision    recall  f1-score   support\n",
      "\n",
      "        0.0       0.09      0.68      0.15       253\n",
      "        1.0       0.97      0.56      0.71      4099\n",
      "\n",
      "avg / total       0.91      0.57      0.68      4352\n",
      "\n",
      "--------------------------------------------------------------------------------\n",
      "CPU times: user 3.77 s, sys: 1.2 s, total: 4.97 s\n",
      "Wall time: 12.5 s\n"
     ]
    }
   ],
   "source": [
    "%%time\n",
    "rf = KFoldExperiment(\n",
    "    clf=RandomForestClassifier(n_estimators=500, criterion=\"entropy\"), clsnum=sclasses, sampler=RandomUnderSampler(),\n",
    "    data=data, pcls=\"nbg\", ncls=\"no-nbg\", X_columns=X_columns, y_column=\"nbg\")(\"small_sample\", nfolds=10)"
   ]
  },
  {
   "cell_type": "markdown",
   "metadata": {},
   "source": [
    "## KNN"
   ]
  },
  {
   "cell_type": "code",
   "execution_count": 21,
   "metadata": {},
   "outputs": [
    {
     "name": "stdout",
     "output_type": "stream",
     "text": [
      "[EQSE9coyFnzfRRdLGUhKbQ-2018-10-12 16:49:04.616839] Launching\n",
      "[EQSE9coyFnzfRRdLGUhKbQ-2018-10-12 16:49:04.911291] Done\n",
      "[zWoRDaGP644A7cHRDdgsg9-2018-10-12 16:49:05.043135] Launching\n",
      "[zWoRDaGP644A7cHRDdgsg9-2018-10-12 16:49:05.334114] Done\n",
      "[YaKrGm8HNsc6Jta4FxCTBR-2018-10-12 16:49:05.445146] Launching\n",
      "[YaKrGm8HNsc6Jta4FxCTBR-2018-10-12 16:49:05.731665] Done\n",
      "[HqLkgJiUxikLVVZgxQ4YqR-2018-10-12 16:49:05.850095] Launching\n",
      "[HqLkgJiUxikLVVZgxQ4YqR-2018-10-12 16:49:06.137013] Done\n",
      "[g9jU2R293UmGiJJJd3zzFg-2018-10-12 16:49:06.281109] Launching\n",
      "[g9jU2R293UmGiJJJd3zzFg-2018-10-12 16:49:06.569284] Done\n",
      "[9gJuqfPvkUArnCD9z6VRBS-2018-10-12 16:49:06.683645] Launching\n",
      "[9gJuqfPvkUArnCD9z6VRBS-2018-10-12 16:49:06.973583] Done\n",
      "[CmEC5hFCDCESKy6XTgk4SA-2018-10-12 16:49:07.090845] Launching\n",
      "[CmEC5hFCDCESKy6XTgk4SA-2018-10-12 16:49:07.380249] Done\n",
      "[JReJHSKfcYC2Cg8hcMreGd-2018-10-12 16:49:07.584048] Launching\n",
      "[JReJHSKfcYC2Cg8hcMreGd-2018-10-12 16:49:07.882745] Done\n",
      "[L9H7mKwa6N5JFxkxoKcPMX-2018-10-12 16:49:08.123926] Launching\n",
      "[L9H7mKwa6N5JFxkxoKcPMX-2018-10-12 16:49:08.428098] Done\n",
      "[Eo8BRw7uGq2bmqtxjTuBLd-2018-10-12 16:49:08.571830] Launching\n",
      "[Eo8BRw7uGq2bmqtxjTuBLd-2018-10-12 16:49:08.871653] Done\n",
      "             precision    recall  f1-score   support\n",
      "\n",
      "        0.0       0.15      0.45      0.22       253\n",
      "        1.0       0.96      0.84      0.89      4099\n",
      "\n",
      "avg / total       0.91      0.81      0.86      4352\n",
      "\n",
      "--------------------------------------------------------------------------------\n",
      "CPU times: user 4.46 s, sys: 1.36 s, total: 5.82 s\n",
      "Wall time: 6.46 s\n"
     ]
    }
   ],
   "source": [
    "%%time\n",
    "knn = KFoldExperiment(\n",
    "    clf=KNeighborsClassifier(n_neighbors=50, weights='distance'), clsnum=sclasses, sampler=RandomUnderSampler(),\n",
    "    data=data, pcls=\"nbg\", ncls=\"no-nbg\", X_columns=X_columns, y_column=\"nbg\")(\"small_sample\", nfolds=10)"
   ]
  },
  {
   "cell_type": "code",
   "execution_count": 22,
   "metadata": {},
   "outputs": [
    {
     "data": {
      "image/png": "[encoded data removed]",
      "text/plain": [
       "<Figure size 432x288 with 1 Axes>"
      ]
     },
     "metadata": {},
     "output_type": "display_data"
    }
   ],
   "source": [
    "roc({\"KNN\": knn, \"RForest\": rf, \n",
    "     \"SVC Linear\": svc_linear,\n",
    "     \"SVC Polynomic\": svc_poly})"
   ]
  },
  {
   "cell_type": "code",
   "execution_count": null,
   "metadata": {},
   "outputs": [],
   "source": []
  }
 ],
 "metadata": {
  "kernelspec": {
   "display_name": "Python 2",
   "language": "python",
   "name": "python2"
  },
  "language_info": {
   "codemirror_mode": {
    "name": "ipython",
    "version": 2
   },
   "file_extension": ".py",
   "mimetype": "text/x-python",
   "name": "python",
   "nbconvert_exporter": "python",
   "pygments_lexer": "ipython2",
   "version": "2.7.14"
  }
 },
 "nbformat": 4,
 "nbformat_minor": 2
}
