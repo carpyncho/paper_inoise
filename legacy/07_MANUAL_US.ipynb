{
 "cells": [
  {
   "cell_type": "code",
   "execution_count": 1,
   "metadata": {},
   "outputs": [],
   "source": [
    "% matplotlib inline\n",
    "\n",
    "import time\n",
    "import pandas as pd\n",
    "\n",
    "from IPython import display as d\n",
    "\n",
    "import seaborn as sns\n",
    "sns.set()\n",
    "\n",
    "from sklearn.svm import SVC\n",
    "from sklearn.tree import DecisionTreeClassifier\n",
    "from sklearn.ensemble import RandomForestClassifier\n",
    "from sklearn.neighbors import KNeighborsClassifier\n",
    "\n",
    "# from imblearn.over_sampling import SMOTE\n",
    "\n",
    "from libs import container\n",
    "from libs.experiment import (\n",
    "    WithAnotherExperiment, KFoldExperiment, roc, \n",
    "    discretize_classes, clean_features)"
   ]
  },
  {
   "cell_type": "code",
   "execution_count": 2,
   "metadata": {},
   "outputs": [],
   "source": [
    "data = container.Container(sample=pd.read_pickle(\"data/sample.pkl\"))\n",
    "data[\"balanced\"] = pd.concat((\n",
    "    data.sample[data.sample.nbg == 1].sample(786),\n",
    "    data.sample[data.sample.nbg == 0]))\n",
    "data[\"small_sample\"] = pd.read_pickle(\"data/small_sample.pkl\")"
   ]
  },
  {
   "cell_type": "markdown",
   "metadata": {},
   "source": [
    "## Features cleaning"
   ]
  },
  {
   "cell_type": "code",
   "execution_count": 3,
   "metadata": {},
   "outputs": [
    {
     "data": {
      "text/plain": [
       "{'nbg': 1, 'no-nbg': 0}"
      ]
     },
     "execution_count": 3,
     "metadata": {},
     "output_type": "execute_result"
    }
   ],
   "source": [
    "sclasses = {\n",
    "    \"nbg\": 1,\n",
    "    \"no-nbg\": 0}\n",
    "sclasses"
   ]
  },
  {
   "cell_type": "code",
   "execution_count": 4,
   "metadata": {},
   "outputs": [
    {
     "data": {
      "text/plain": [
       "((12598, 161), (1572, 161), (4352, 161))"
      ]
     },
     "execution_count": 4,
     "metadata": {},
     "output_type": "execute_result"
    }
   ],
   "source": [
    "data.sample.shape, data.balanced.shape, data.small_sample.shape"
   ]
  },
  {
   "cell_type": "code",
   "execution_count": 7,
   "metadata": {},
   "outputs": [
    {
     "name": "stdout",
     "output_type": "stream",
     "text": [
      "Removing [] because null\n",
      "Removing ['src1_Freq1_harmonics_rel_phase_0', 'src1_Freq2_harmonics_rel_phase_0', 'src1_Freq3_harmonics_rel_phase_0', 'src2_Freq1_harmonics_rel_phase_0', 'src2_Freq2_harmonics_rel_phase_0', 'src2_Freq3_harmonics_rel_phase_0'] because lowvariance\n",
      "('Total features:', 112)\n"
     ]
    }
   ],
   "source": [
    "X_columns = clean_features(data, \"sample\")\n",
    "X_columns = X_columns[\n",
    "    ~(X_columns.str.contains(\"Freq2_\") | X_columns.str.contains(\"Freq3_\") | X_columns.str.contains(\"_cnt\"))]\n",
    "print(\"Total features:\", X_columns.size)"
   ]
  },
  {
   "cell_type": "code",
   "execution_count": 8,
   "metadata": {},
   "outputs": [
    {
     "data": {
      "text/plain": [
       "{'Amplitude',\n",
       " 'AmplitudeH',\n",
       " 'AmplitudeJ',\n",
       " 'AmplitudeJH',\n",
       " 'AmplitudeJK',\n",
       " 'Autocor_length',\n",
       " 'Beyond1Std',\n",
       " 'CAR_mean',\n",
       " 'CAR_sigma',\n",
       " 'CAR_tau',\n",
       " 'Con',\n",
       " 'Eta_e',\n",
       " 'FluxPercentileRatioMid20',\n",
       " 'FluxPercentileRatioMid35',\n",
       " 'FluxPercentileRatioMid50',\n",
       " 'FluxPercentileRatioMid65',\n",
       " 'FluxPercentileRatioMid80',\n",
       " 'Freq1_harmonics_amplitude_0',\n",
       " 'Freq1_harmonics_amplitude_1',\n",
       " 'Freq1_harmonics_amplitude_2',\n",
       " 'Freq1_harmonics_amplitude_3',\n",
       " 'Freq1_harmonics_rel_phase_1',\n",
       " 'Freq1_harmonics_rel_phase_2',\n",
       " 'Freq1_harmonics_rel_phase_3',\n",
       " 'Gskew',\n",
       " 'LinearTrend',\n",
       " 'MaxSlope',\n",
       " 'Mean',\n",
       " 'Meanvariance',\n",
       " 'MedianAbsDev',\n",
       " 'MedianBRP',\n",
       " 'PairSlopeTrend',\n",
       " 'PercentAmplitude',\n",
       " 'PercentDifferenceFluxPercentile',\n",
       " 'PeriodLS',\n",
       " 'Period_fit',\n",
       " 'Psi_CS',\n",
       " 'Psi_eta',\n",
       " 'Q31',\n",
       " 'Rcs',\n",
       " 'Skew',\n",
       " 'SmallKurtosis',\n",
       " 'Std',\n",
       " 'c89_c3',\n",
       " 'c89_hk_color',\n",
       " 'c89_jh_color',\n",
       " 'c89_jk_color',\n",
       " 'c89_m2',\n",
       " 'c89_m4',\n",
       " 'n09_c3',\n",
       " 'n09_hk_color',\n",
       " 'n09_jh_color',\n",
       " 'n09_jk_color',\n",
       " 'n09_m2',\n",
       " 'n09_m4',\n",
       " 'ppmb'}"
      ]
     },
     "execution_count": 8,
     "metadata": {},
     "output_type": "execute_result"
    }
   ],
   "source": [
    "set(x.split(\"_\", 1)[-1] for x in X_columns)"
   ]
  },
  {
   "cell_type": "markdown",
   "metadata": {},
   "source": [
    "## SVM - Linear"
   ]
  },
  {
   "cell_type": "code",
   "execution_count": 9,
   "metadata": {},
   "outputs": [
    {
     "name": "stdout",
     "output_type": "stream",
     "text": [
      "[KBSjEKjYDFhxcMc3GDNkHa-2018-10-16 16:53:31.542374] Launching\n",
      "[Fcwc7ptKUNPPs4o4Poh3pb-2018-10-16 16:53:31.688060] Launching\n",
      "[59FYLFjbn2HnscyrwEXj8N-2018-10-16 16:53:31.858211] Launching\n",
      "[JUoGEZ2X8EMuzhT9M887BK-2018-10-16 16:53:32.013051] Launching\n",
      "[XpSP7pGSxSbwj55xt2RfnM-2018-10-16 16:53:32.168544] Launching\n",
      "[xyNKc2EgaoVKe2s62jWsah-2018-10-16 16:53:32.340659] Launching\n",
      "[AXt56WHJVMy4Xohh6YnzND-2018-10-16 16:53:32.549714] Launching\n",
      "[7f5ywh6qj3rX5CXVmFQoAJ-2018-10-16 16:53:32.730508] Launching\n",
      "[4MTo4j6BHjihhdwmK46i5E-2018-10-16 16:53:32.874657] Launching\n",
      "[FxzUwWbZdeQnsAoSC4JD4e-2018-10-16 16:53:33.015390] Launching\n",
      "[KBSjEKjYDFhxcMc3GDNkHa-2018-10-16 16:53:44.278653] Done\n",
      "[JUoGEZ2X8EMuzhT9M887BK-2018-10-16 16:53:44.423213] Done\n",
      "[Fcwc7ptKUNPPs4o4Poh3pb-2018-10-16 16:53:44.506750] Done\n",
      "[FxzUwWbZdeQnsAoSC4JD4e-2018-10-16 16:53:44.976278] Done\n",
      "[7f5ywh6qj3rX5CXVmFQoAJ-2018-10-16 16:53:45.052469] Done\n",
      "[xyNKc2EgaoVKe2s62jWsah-2018-10-16 16:53:45.513654] Done\n",
      "[4MTo4j6BHjihhdwmK46i5E-2018-10-16 16:53:45.537860] Done\n",
      "[59FYLFjbn2HnscyrwEXj8N-2018-10-16 16:53:47.374745] Done\n",
      "[AXt56WHJVMy4Xohh6YnzND-2018-10-16 16:53:47.440272] Done\n",
      "[XpSP7pGSxSbwj55xt2RfnM-2018-10-16 16:53:48.466071] Done\n",
      "             precision    recall  f1-score   support\n",
      "\n",
      "        0.0       0.60      0.57      0.58       786\n",
      "        1.0       0.59      0.61      0.60       786\n",
      "\n",
      "avg / total       0.59      0.59      0.59      1572\n",
      "\n",
      "--------------------------------------------------------------------------------\n"
     ]
    }
   ],
   "source": [
    "svc_linear = KFoldExperiment(\n",
    "    clf=SVC(kernel='linear', probability=True), clsnum=sclasses,\n",
    "    data=data, pcls=\"nbg\", ncls=\"no-nbg\", \n",
    "    X_columns=X_columns, y_column=\"nbg\")(\"balanced\", nfolds=10)"
   ]
  },
  {
   "cell_type": "markdown",
   "metadata": {},
   "source": [
    "## SVM - Poly"
   ]
  },
  {
   "cell_type": "code",
   "execution_count": 10,
   "metadata": {},
   "outputs": [
    {
     "name": "stdout",
     "output_type": "stream",
     "text": [
      "[hAXnpX54sCWSm3Y4bKdAX3-2018-10-16 16:53:50.013774] Launching\n",
      "[x3QrPQjXZPhPTkfkfUKJmZ-2018-10-16 16:53:50.161311] Launching\n",
      "[4HznQfPQKuAYprHN7EAKgK-2018-10-16 16:53:50.323124] Launching\n",
      "[3p5EBVpbWvF8Acm8uwm3rb-2018-10-16 16:53:50.503465] Launching\n",
      "[fVtYqXjay6kDehYJzqWMUZ-2018-10-16 16:53:50.698479] Launching\n",
      "[TVepEhXrg7583guY4TDDDB-2018-10-16 16:53:50.902354] Launching\n",
      "[6xpuvFSFkmGYiybdxN7J8d-2018-10-16 16:53:51.059104] Launching\n",
      "[dr2Z2pgDFW7g7bAoTHLiQh-2018-10-16 16:53:51.224410] Launching\n",
      "[KexAwBPB6mxLkCPE6uGMSH-2018-10-16 16:53:51.412617] Launching\n",
      "[6sC7aMUpNZDvgTEmnVus8b-2018-10-16 16:53:51.552754] Launching\n",
      "[x3QrPQjXZPhPTkfkfUKJmZ-2018-10-16 16:53:53.179807] Done\n",
      "[4HznQfPQKuAYprHN7EAKgK-2018-10-16 16:53:53.204314] Done\n",
      "[hAXnpX54sCWSm3Y4bKdAX3-2018-10-16 16:53:53.213782] Done\n",
      "[3p5EBVpbWvF8Acm8uwm3rb-2018-10-16 16:53:53.449525] Done\n",
      "[fVtYqXjay6kDehYJzqWMUZ-2018-10-16 16:53:53.668564] Done\n",
      "[TVepEhXrg7583guY4TDDDB-2018-10-16 16:53:53.784932] Done\n",
      "[6xpuvFSFkmGYiybdxN7J8d-2018-10-16 16:53:53.870392] Done\n",
      "[dr2Z2pgDFW7g7bAoTHLiQh-2018-10-16 16:53:54.075078] Done\n",
      "[KexAwBPB6mxLkCPE6uGMSH-2018-10-16 16:53:54.309658] Done\n",
      "[6sC7aMUpNZDvgTEmnVus8b-2018-10-16 16:53:54.403195] Done\n",
      "             precision    recall  f1-score   support\n",
      "\n",
      "        0.0       0.59      0.74      0.66       786\n",
      "        1.0       0.65      0.47      0.55       786\n",
      "\n",
      "avg / total       0.62      0.61      0.60      1572\n",
      "\n",
      "--------------------------------------------------------------------------------\n",
      "CPU times: user 1.83 s, sys: 903 ms, total: 2.74 s\n",
      "Wall time: 5.79 s\n"
     ]
    }
   ],
   "source": [
    "%%time\n",
    "svc_poly = KFoldExperiment(\n",
    "    clf=SVC(kernel='poly', probability=True), clsnum=sclasses,\n",
    "    data=data, pcls=\"nbg\", ncls=\"no-nbg\", \n",
    "    X_columns=X_columns, y_column=\"nbg\")(\"balanced\", nfolds=10)"
   ]
  },
  {
   "cell_type": "markdown",
   "metadata": {},
   "source": [
    "## Random Forest"
   ]
  },
  {
   "cell_type": "code",
   "execution_count": 11,
   "metadata": {},
   "outputs": [
    {
     "name": "stdout",
     "output_type": "stream",
     "text": [
      "[Ja4kFEnpMMwC88PjCtQGe4-2018-10-16 16:53:55.887010] Launching\n",
      "[jJtDsxJnozX8gMEXwSwDnB-2018-10-16 16:53:56.066929] Launching\n",
      "[PXZ7wZ8iMnyVSk8Z9vz9DV-2018-10-16 16:53:56.222137] Launching\n",
      "[kqUHtUVFBeqaDFVA2mQYYa-2018-10-16 16:53:56.371376] Launching\n",
      "[k69w9DngCv3wDXVEd8UAEk-2018-10-16 16:53:56.556052] Launching\n",
      "[dN64xXLt78abovobnWnAM9-2018-10-16 16:53:56.709212] Launching\n",
      "[uA5VMKmjrP5nFteb8AEHnG-2018-10-16 16:53:56.880501] Launching\n",
      "[qf3sCS78KpeeS9kdLooPKo-2018-10-16 16:53:57.070288] Launching\n",
      "[f8Uwp8MJYXEfrJxBCmbPHb-2018-10-16 16:53:57.226539] Launching\n",
      "[VYwjHvxD4jNNUZyWD9W2yg-2018-10-16 16:53:57.393008] Launching\n",
      "[Ja4kFEnpMMwC88PjCtQGe4-2018-10-16 16:54:18.408327] Done\n",
      "[PXZ7wZ8iMnyVSk8Z9vz9DV-2018-10-16 16:54:18.759210] Done\n",
      "[jJtDsxJnozX8gMEXwSwDnB-2018-10-16 16:54:19.106866] Done\n",
      "[kqUHtUVFBeqaDFVA2mQYYa-2018-10-16 16:54:19.182822] Done\n",
      "[VYwjHvxD4jNNUZyWD9W2yg-2018-10-16 16:54:19.771155] Done\n",
      "[k69w9DngCv3wDXVEd8UAEk-2018-10-16 16:54:19.860172] Done\n",
      "[dN64xXLt78abovobnWnAM9-2018-10-16 16:54:20.130021] Done\n",
      "[qf3sCS78KpeeS9kdLooPKo-2018-10-16 16:54:20.171114] Done\n",
      "[uA5VMKmjrP5nFteb8AEHnG-2018-10-16 16:54:20.217149] Done\n",
      "[f8Uwp8MJYXEfrJxBCmbPHb-2018-10-16 16:54:20.326689] Done\n",
      "             precision    recall  f1-score   support\n",
      "\n",
      "        0.0       0.62      0.85      0.72       786\n",
      "        1.0       0.76      0.47      0.58       786\n",
      "\n",
      "avg / total       0.69      0.66      0.65      1572\n",
      "\n",
      "--------------------------------------------------------------------------------\n",
      "CPU times: user 1.83 s, sys: 954 ms, total: 2.78 s\n",
      "Wall time: 25.9 s\n"
     ]
    }
   ],
   "source": [
    "%%time\n",
    "rf = KFoldExperiment(\n",
    "    clf=RandomForestClassifier(n_estimators=500, criterion=\"entropy\"), clsnum=sclasses, \n",
    "    data=data, pcls=\"nbg\", ncls=\"no-nbg\", X_columns=X_columns, y_column=\"nbg\")(\"balanced\", nfolds=10)"
   ]
  },
  {
   "cell_type": "markdown",
   "metadata": {},
   "source": [
    "## KNN"
   ]
  },
  {
   "cell_type": "code",
   "execution_count": 12,
   "metadata": {},
   "outputs": [
    {
     "name": "stdout",
     "output_type": "stream",
     "text": [
      "[eURoiEfztWJcnnSSDCSEvP-2018-10-16 16:54:21.867180] Launching\n",
      "[KYw29PzuZRHQE57cEpzwqW-2018-10-16 16:54:22.001907] Launching\n",
      "[eURoiEfztWJcnnSSDCSEvP-2018-10-16 16:54:22.136205] Done\n",
      "[danTxR3CHvcPceL3Y9mzLP-2018-10-16 16:54:22.140876] Launching\n",
      "[zu8L2ANRnqBgzkCih7w848-2018-10-16 16:54:22.274872] Launching\n",
      "[KYw29PzuZRHQE57cEpzwqW-2018-10-16 16:54:22.285712] Done\n",
      "[danTxR3CHvcPceL3Y9mzLP-2018-10-16 16:54:22.405765] Done\n",
      "[3juJ62krCYYGKfhrJM98j3-2018-10-16 16:54:22.410449] Launching\n",
      "[zu8L2ANRnqBgzkCih7w848-2018-10-16 16:54:22.534100] Done\n",
      "[fKraU6cvJhQGMnLP78CJ6R-2018-10-16 16:54:22.543150] Launching\n",
      "[3juJ62krCYYGKfhrJM98j3-2018-10-16 16:54:22.670185] Done\n",
      "[BXUfuhGGnmMaBEKgPxAhH8-2018-10-16 16:54:22.717334] Launching\n",
      "[fKraU6cvJhQGMnLP78CJ6R-2018-10-16 16:54:22.797977] Done\n",
      "[r2dETgmGUkYJEvz9m9MiEa-2018-10-16 16:54:22.864072] Launching\n",
      "[BXUfuhGGnmMaBEKgPxAhH8-2018-10-16 16:54:22.990200] Done\n",
      "[jVNcNbzmxTvXuU8JwNj62K-2018-10-16 16:54:23.006669] Launching\n",
      "[r2dETgmGUkYJEvz9m9MiEa-2018-10-16 16:54:23.118761] Done\n",
      "[c3C9zqa9XPYmjMir8hcKn4-2018-10-16 16:54:23.145062] Launching\n",
      "[jVNcNbzmxTvXuU8JwNj62K-2018-10-16 16:54:23.266506] Done\n",
      "[c3C9zqa9XPYmjMir8hcKn4-2018-10-16 16:54:23.400950] Done\n",
      "             precision    recall  f1-score   support\n",
      "\n",
      "        0.0       0.73      0.53      0.61       786\n",
      "        1.0       0.63      0.80      0.70       786\n",
      "\n",
      "avg / total       0.68      0.66      0.66      1572\n",
      "\n",
      "--------------------------------------------------------------------------------\n",
      "CPU times: user 1.62 s, sys: 945 ms, total: 2.57 s\n",
      "Wall time: 3.04 s\n"
     ]
    }
   ],
   "source": [
    "%%time\n",
    "knn = KFoldExperiment(\n",
    "    clf=KNeighborsClassifier(n_neighbors=50, weights='distance'), clsnum=sclasses, \n",
    "    data=data, pcls=\"nbg\", ncls=\"no-nbg\", X_columns=X_columns, y_column=\"nbg\")(\"balanced\", nfolds=10)"
   ]
  },
  {
   "cell_type": "code",
   "execution_count": 13,
   "metadata": {},
   "outputs": [
    {
     "data": {
      "image/png": "[encoded data removed]",
      "text/plain": [
       "<Figure size 432x288 with 1 Axes>"
      ]
     },
     "metadata": {},
     "output_type": "display_data"
    }
   ],
   "source": [
    "roc({\"KNN\": knn, \"RForest\": rf, \n",
    "     \"SVC Linear\": svc_linear,\n",
    "     \"SVC Polynomic\": svc_poly})"
   ]
  },
  {
   "cell_type": "code",
   "execution_count": null,
   "metadata": {},
   "outputs": [],
   "source": []
  }
 ],
 "metadata": {
  "kernelspec": {
   "display_name": "Python 2",
   "language": "python",
   "name": "python2"
  },
  "language_info": {
   "codemirror_mode": {
    "name": "ipython",
    "version": 2
   },
   "file_extension": ".py",
   "mimetype": "text/x-python",
   "name": "python",
   "nbconvert_exporter": "python",
   "pygments_lexer": "ipython2",
   "version": "2.7.14"
  }
 },
 "nbformat": 4,
 "nbformat_minor": 2
}
