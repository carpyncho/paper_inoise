{
 "cells": [
  {
   "cell_type": "code",
   "execution_count": 34,
   "metadata": {},
   "outputs": [],
   "source": [
    "from collections import namedtuple\n",
    "import numpy as np\n",
    "\n",
    "import pandas as pd"
   ]
  },
  {
   "cell_type": "code",
   "execution_count": 35,
   "metadata": {},
   "outputs": [],
   "source": [
    "Best = namedtuple(\"Best\", [\"src_1\", \"src_2\", \"n_1\", \"n_2\", \"int_12\", \"mmjd_1\", \"mmjd_2\", \"mmjd_diff\"])\n",
    "fields = list(Best._fields)\n",
    "\n",
    "def select_nbg(df):\n",
    "    cleaned = []\n",
    "    while len(df):\n",
    "        selected = df.sort_values([\"mmjd_diff\", \"int_12\"]).iloc[0]\n",
    "        rm_key = map(int, [selected.src_1, selected.src_2])\n",
    "        df = df[~(df.src_1.isin(rm_key)) & ~(df.src_2.isin(rm_key))]\n",
    "        cleaned.append(selected.to_dict())\n",
    "    try:\n",
    "        return pd.DataFrame(cleaned)[fields]\n",
    "    except:\n",
    "        pass\n",
    "\n",
    "def select_no_nbg(df):\n",
    "    cleaned = []\n",
    "    while len(df):\n",
    "        selected = df.sort_values([\"mmjd_diff\", \"int_12\"], ascending=False).iloc[0]\n",
    "        rm_key = map(int, [selected.src_1, selected.src_2])\n",
    "        df = df[~(df.src_1.isin(rm_key)) & ~(df.src_2.isin(rm_key))]\n",
    "        cleaned.append(selected.to_dict())\n",
    "    try:\n",
    "        return pd.DataFrame(cleaned)[fields]\n",
    "    except:\n",
    "        pass"
   ]
  },
  {
   "cell_type": "code",
   "execution_count": 36,
   "metadata": {},
   "outputs": [],
   "source": [
    "nbgs, no_nbgs = [], []\n",
    "for idx in [\"\", \"2\", \"3\"]:\n",
    "    no_df = pd.read_pickle(\"data/no_nbgs{}.pkl\".format(idx))\n",
    "    df = pd.read_pickle(\"data/nbgs{}.pkl\".format(idx))\n",
    "    nbgs.append(df)\n",
    "    no_nbgs.append(no_df)"
   ]
  },
  {
   "cell_type": "code",
   "execution_count": 37,
   "metadata": {},
   "outputs": [],
   "source": [
    "nbgs = pd.concat(nbgs)\n",
    "no_nbgs = pd.concat(no_nbgs)"
   ]
  },
  {
   "cell_type": "code",
   "execution_count": 38,
   "metadata": {},
   "outputs": [
    {
     "name": "stdout",
     "output_type": "stream",
     "text": [
      "CPU times: user 1min 32s, sys: 29 ms, total: 1min 32s\n",
      "Wall time: 1min 32s\n"
     ]
    }
   ],
   "source": [
    "%time nbgs = select_nbg(nbgs)"
   ]
  },
  {
   "cell_type": "code",
   "execution_count": 39,
   "metadata": {},
   "outputs": [
    {
     "name": "stdout",
     "output_type": "stream",
     "text": [
      "CPU times: user 3.43 s, sys: 2 ms, total: 3.44 s\n",
      "Wall time: 3.43 s\n"
     ]
    }
   ],
   "source": [
    "%time no_nbgs = select_no_nbg(no_nbgs)"
   ]
  },
  {
   "cell_type": "code",
   "execution_count": 42,
   "metadata": {},
   "outputs": [
    {
     "data": {
      "text/plain": [
       "True"
      ]
     },
     "execution_count": 42,
     "metadata": {},
     "output_type": "execute_result"
    }
   ],
   "source": [
    "np.unique(nbgs[[\"src_1\", \"src_2\"]].values.flatten()).shape == nbgs[[\"src_1\", \"src_2\"]].values.flatten().shape"
   ]
  },
  {
   "cell_type": "code",
   "execution_count": 43,
   "metadata": {},
   "outputs": [
    {
     "data": {
      "text/plain": [
       "True"
      ]
     },
     "execution_count": 43,
     "metadata": {},
     "output_type": "execute_result"
    }
   ],
   "source": [
    "np.unique(no_nbgs[[\"src_1\", \"src_2\"]].values.flatten()).shape == no_nbgs[[\"src_1\", \"src_2\"]].values.flatten().shape"
   ]
  },
  {
   "cell_type": "code",
   "execution_count": null,
   "metadata": {},
   "outputs": [],
   "source": [
    "nbgs.to_pickle(\"data/\")"
   ]
  }
 ],
 "metadata": {
  "kernelspec": {
   "display_name": "Python 2",
   "language": "python",
   "name": "python2"
  },
  "language_info": {
   "codemirror_mode": {
    "name": "ipython",
    "version": 2
   },
   "file_extension": ".py",
   "mimetype": "text/x-python",
   "name": "python",
   "nbconvert_exporter": "python",
   "pygments_lexer": "ipython2",
   "version": "2.7.14"
  }
 },
 "nbformat": 4,
 "nbformat_minor": 2
}
