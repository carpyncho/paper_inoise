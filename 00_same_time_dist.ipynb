{
 "cells": [
  {
   "cell_type": "markdown",
   "metadata": {},
   "source": [
    "# Calculo de la distribucion de tiempos en comun\n",
    "\n",
    "En este notebook se genera un informe sobre la distribucion de tiempos\n",
    "en comun que pueden tener las observaciones hermanas.\n",
    "\n",
    "Consideraciones:\n",
    "\n",
    "- Nos interesa los tiempos relativos a la observacion. Por eso se usa los MJD\n",
    "- Dado que los MJD son unicos al pawprint para lograr mayor eficiencia de computo\n",
    "  se utilizan los ID de los pawprint para contar"
   ]
  },
  {
   "cell_type": "code",
   "execution_count": 2,
   "metadata": {},
   "outputs": [],
   "source": [
    "import sys\n",
    "import os\n",
    "import gc\n",
    "import itertools as it\n",
    "import tempfile\n",
    "from collections import Counter, namedtuple\n",
    "import multiprocessing as mp\n",
    "import datetime as dt\n",
    "\n",
    "\n",
    "import numpy as np\n",
    "import pandas as pd\n",
    "\n",
    "from joblib import Parallel, delayed, cpu_count, load, dump, Memory\n",
    "\n",
    "%matplotlib inline\n",
    "import matplotlib.pyplot as plt"
   ]
  },
  {
   "cell_type": "code",
   "execution_count": 3,
   "metadata": {},
   "outputs": [
    {
     "name": "stderr",
     "output_type": "stream",
     "text": [
      "/home/jbcabral/.conda/envs/carpyncho3/lib/python2.7/site-packages/psycopg2/__init__.py:144: UserWarning: The psycopg2 wheel package will be renamed from release 2.8; in order to keep installing from binary please use \"pip install psycopg2-binary\" instead. For details see: <http://initd.org/psycopg/docs/install.html#binary-install-from-pypi>.\n",
      "  \"\"\")\n"
     ]
    }
   ],
   "source": [
    "# corral startup\n",
    "sys.path.insert(1, \"/home/jbcabral/carpyncho3\")\n",
    "os.environ.setdefault(\"CORRAL_SETTINGS_MODULE\", \"carpyncho.settings\")\n",
    "\n",
    "from corral import core\n",
    "core.setup_environment()\n",
    "\n",
    "from corral import db\n",
    "from carpyncho.models import LightCurves"
   ]
  },
  {
   "cell_type": "code",
   "execution_count": 4,
   "metadata": {},
   "outputs": [
    {
     "name": "stderr",
     "output_type": "stream",
     "text": [
      "[carpyncho-sqlalchemy.engine.base.Engine-INFO@2018-09-20 12:35:12,630] select version()\n",
      "[carpyncho-sqlalchemy.engine.base.Engine-INFO@2018-09-20 12:35:12,632] {}\n",
      "[carpyncho-sqlalchemy.engine.base.Engine-INFO@2018-09-20 12:35:12,637] select current_schema()\n",
      "[carpyncho-sqlalchemy.engine.base.Engine-INFO@2018-09-20 12:35:12,639] {}\n",
      "[carpyncho-sqlalchemy.engine.base.Engine-INFO@2018-09-20 12:35:12,644] SELECT CAST('test plain returns' AS VARCHAR(60)) AS anon_1\n",
      "[carpyncho-sqlalchemy.engine.base.Engine-INFO@2018-09-20 12:35:12,645] {}\n",
      "[carpyncho-sqlalchemy.engine.base.Engine-INFO@2018-09-20 12:35:12,648] SELECT CAST('test unicode returns' AS VARCHAR(60)) AS anon_1\n",
      "[carpyncho-sqlalchemy.engine.base.Engine-INFO@2018-09-20 12:35:12,649] {}\n",
      "[carpyncho-sqlalchemy.engine.base.Engine-INFO@2018-09-20 12:35:12,655] show standard_conforming_strings\n",
      "[carpyncho-sqlalchemy.engine.base.Engine-INFO@2018-09-20 12:35:12,656] {}\n",
      "[carpyncho-sqlalchemy.engine.base.Engine-INFO@2018-09-20 12:35:12,661] BEGIN (implicit)\n",
      "[carpyncho-sqlalchemy.engine.base.Engine-INFO@2018-09-20 12:35:12,665] SELECT \"LightCurves\".src_obs_cnt AS \"LightCurves_src_obs_cnt\", \"LightCurves\".id AS \"LightCurves_id\", \"LightCurves\".tile_id AS \"LightCurves_tile_id\", \"Tile_1\".raw_filename AS \"Tile_1_raw_filename\", \"Tile_1\".npy_filename AS \"Tile_1_npy_filename\", \"Tile_1\".id AS \"Tile_1_id\", \"Tile_1\".name AS \"Tile_1_name\", \"Tile_1\".size AS \"Tile_1_size\", \"Tile_1\".status AS \"Tile_1_status\", \"Tile_1\".ogle3_tagged_number AS \"Tile_1_ogle3_tagged_number\", \"Tile_1\".ready AS \"Tile_1_ready\" \n",
      "FROM \"LightCurves\" LEFT OUTER JOIN \"Tile\" AS \"Tile_1\" ON \"Tile_1\".id = \"LightCurves\".tile_id \n",
      "WHERE EXISTS (SELECT 1 \n",
      "FROM \"Tile\" \n",
      "WHERE \"Tile\".id = \"LightCurves\".tile_id AND \"Tile\".name = %(name_1)s)\n",
      "[carpyncho-sqlalchemy.engine.base.Engine-INFO@2018-09-20 12:35:12,666] {'name_1': 'b396'}\n",
      "[carpyncho-sqlalchemy.engine.base.Engine-INFO@2018-09-20 12:35:50,354] COMMIT\n"
     ]
    }
   ],
   "source": [
    "with db.session_scope() as session:\n",
    "    lc = session.query(LightCurves).filter(LightCurves.tile.has(name=\"b396\")).one()\n",
    "    obs_counter = lc.obs_counter\n",
    "    observations = lc.observations"
   ]
  },
  {
   "cell_type": "code",
   "execution_count": 4,
   "metadata": {},
   "outputs": [
    {
     "data": {
      "text/plain": [
       "<matplotlib.legend.Legend at 0x7ff76a6201d0>"
      ]
     },
     "execution_count": 4,
     "metadata": {},
     "output_type": "execute_result"
    },
    {
     "data": {
      "image/png": "[encoded data removed]",
      "text/plain": [
       "<Figure size 432x288 with 1 Axes>"
      ]
     },
     "metadata": {},
     "output_type": "display_data"
    }
   ],
   "source": [
    "median = np.percentile(obs_counter[\"cnt\"], 50)\n",
    "ax = plt.gca()\n",
    "ax.hist(obs_counter[\"cnt\"], bins=20);\n",
    "ax.axvline(median, color=\"r\", label=\"Median \" + str(median))\n",
    "ax.legend()"
   ]
  },
  {
   "cell_type": "code",
   "execution_count": 27,
   "metadata": {},
   "outputs": [],
   "source": [
    "obs_min = np.random.choice(\n",
    "    obs_counter[obs_counter[\"cnt\"] >= 87][\"id\"], 5000, False)\n",
    "\n",
    "df = pd.DataFrame(observations[['bm_src_id', u'pwp_id']])\n",
    "df = df[df.bm_src_id.isin(obs_min)]"
   ]
  },
  {
   "cell_type": "code",
   "execution_count": 28,
   "metadata": {},
   "outputs": [
    {
     "name": "stdout",
     "output_type": "stream",
     "text": [
      "CPU times: user 999 µs, sys: 0 ns, total: 999 µs\n",
      "Wall time: 628 µs\n"
     ]
    }
   ],
   "source": [
    "%time groups = df.groupby(\"bm_src_id\")"
   ]
  },
  {
   "cell_type": "code",
   "execution_count": 29,
   "metadata": {},
   "outputs": [],
   "source": [
    "temp_folder = \"./cache\"\n",
    "filename = os.path.join(temp_folder, 'groups.mmap')\n",
    "dump(groups, filename)\n",
    "groups = load(filename, mmap_mode='r+')"
   ]
  },
  {
   "cell_type": "code",
   "execution_count": 30,
   "metadata": {},
   "outputs": [
    {
     "name": "stdout",
     "output_type": "stream",
     "text": [
      "CPU times: user 16.3 s, sys: 2.12 s, total: 18.5 s\n",
      "Wall time: 18.5 s\n"
     ]
    }
   ],
   "source": [
    "%time combinations = tuple(it.combinations(obs_min, 2))"
   ]
  },
  {
   "cell_type": "code",
   "execution_count": 31,
   "metadata": {},
   "outputs": [
    {
     "name": "stdout",
     "output_type": "stream",
     "text": [
      "CPU times: user 10.3 s, sys: 39 ms, total: 10.4 s\n",
      "Wall time: 10.4 s\n"
     ]
    }
   ],
   "source": [
    "%time split_combs = np.array_split(combinations, 100)"
   ]
  },
  {
   "cell_type": "code",
   "execution_count": 5,
   "metadata": {},
   "outputs": [
    {
     "ename": "NameError",
     "evalue": "name 'split_combs' is not defined",
     "output_type": "error",
     "traceback": [
      "\u001b[0;31m---------------------------------------------------------------------------\u001b[0m",
      "\u001b[0;31mNameError\u001b[0m                                 Traceback (most recent call last)",
      "\u001b[0;32m<ipython-input-5-16ea8c456434>\u001b[0m in \u001b[0;36m<module>\u001b[0;34m()\u001b[0m\n\u001b[1;32m     55\u001b[0m \u001b[0mtotal\u001b[0m \u001b[0;34m=\u001b[0m \u001b[0mcpu_count\u001b[0m\u001b[0;34m(\u001b[0m\u001b[0;34m)\u001b[0m\u001b[0;34m\u001b[0m\u001b[0m\n\u001b[1;32m     56\u001b[0m \u001b[0mresults\u001b[0m\u001b[0;34m,\u001b[0m \u001b[0mlens\u001b[0m \u001b[0;34m=\u001b[0m \u001b[0;34m[\u001b[0m\u001b[0;34m]\u001b[0m\u001b[0;34m,\u001b[0m \u001b[0;34m[\u001b[0m\u001b[0;34m]\u001b[0m\u001b[0;34m\u001b[0m\u001b[0m\n\u001b[0;32m---> 57\u001b[0;31m \u001b[0;32mfor\u001b[0m \u001b[0mcomb_group\u001b[0m \u001b[0;32min\u001b[0m \u001b[0msplit_combs\u001b[0m\u001b[0;34m:\u001b[0m\u001b[0;34m\u001b[0m\u001b[0m\n\u001b[0m\u001b[1;32m     58\u001b[0m     \u001b[0mprocs\u001b[0m \u001b[0;34m=\u001b[0m \u001b[0;34m[\u001b[0m\u001b[0;34m]\u001b[0m\u001b[0;34m\u001b[0m\u001b[0m\n\u001b[1;32m     59\u001b[0m     \u001b[0;32mfor\u001b[0m \u001b[0midx\u001b[0m\u001b[0;34m,\u001b[0m \u001b[0mfor_cpu\u001b[0m \u001b[0;32min\u001b[0m \u001b[0menumerate\u001b[0m\u001b[0;34m(\u001b[0m\u001b[0mnp\u001b[0m\u001b[0;34m.\u001b[0m\u001b[0marray_split\u001b[0m\u001b[0;34m(\u001b[0m\u001b[0mcomb_group\u001b[0m\u001b[0;34m,\u001b[0m \u001b[0mtotal\u001b[0m\u001b[0;34m)\u001b[0m\u001b[0;34m)\u001b[0m\u001b[0;34m:\u001b[0m\u001b[0;34m\u001b[0m\u001b[0m\n",
      "\u001b[0;31mNameError\u001b[0m: name 'split_combs' is not defined"
     ]
    }
   ],
   "source": [
    "Best = namedtuple(\"Best\", [\"src_1\", \"src_2\", \"n_1\", \"n_2\", \"mmjd_1\", \"mmjd_2\", \"mmjd_diff\"])\n",
    "\n",
    "class NbgCalc(mp.Process):\n",
    "    \n",
    "    def __init__(self, idx, total, combs, groups):\n",
    "        super(NbgCalc, self).__init__()\n",
    "        self.idx = idx\n",
    "        self.total = total\n",
    "        self.combs = combs\n",
    "        self.groups = groups\n",
    "        self.size = len(combs)\n",
    "        self._cache = {}\n",
    "        self.queue = mp.Queue()\n",
    "        \n",
    "    def get_group(self, k):\n",
    "        if k not in self._cache:\n",
    "            self._cache[k] = frozenset(self.groups.get_group(k)[\"pwp_id\"].values)\n",
    "        return self._cache[k]\n",
    "        \n",
    "    def run(self):\n",
    "        start = dt.datetime.now()\n",
    "        print(\"[{}] Starting {}/{} with {} combs\".format(\n",
    "            start, self.idx, self.total, self.size))\n",
    "        cnt = Counter()\n",
    "        for k1, k2 in self.combs:\n",
    "            g1, g2 = self.get_group(k1), self.get_group(k2)\n",
    "            intersection = len(g1.intersection(g2))\n",
    "            cnt.update([intersection])\n",
    "        end = dt.datetime.now()\n",
    "        \n",
    "        print(\"[{}] Done {}/{}\".format(end, self.idx, self.total))\n",
    "        \n",
    "        values_sum = sum(cnt.values())\n",
    "        if values_sum != self.size:\n",
    "            ex = ValueError(\"Combs {}/{} with diferent result sizes {} != {}\".format(\n",
    "                self.idx, self.total, self.size, values_sum))\n",
    "            self.queue.put(ex)\n",
    "        else:\n",
    "            self.queue.put(cnt)\n",
    "        \n",
    "    def result(self):\n",
    "        return self.queue.get()\n",
    "\n",
    "def serialize(combs_chunks):\n",
    "    serialized, total = [], len(combs_chunks)\n",
    "    for idx, combs in enumerate(combs_chunks):\n",
    "        combs = np.array(list(combs))\n",
    "        fname = 'combs_{}.mmap'.format(idx)\n",
    "        filename = os.path.join(temp_folder, fname)\n",
    "        dump(combs, filename)\n",
    "        combs = load(filename, mmap_mode='r+')\n",
    "        print(\"[{}] {}/{} serialized\".format(dt.datetime.now(), idx, total))\n",
    "        yield idx, combs\n",
    "    \n",
    "total = cpu_count()\n",
    "results, lens = [], []\n",
    "for comb_group in split_combs:\n",
    "    procs = []\n",
    "    for idx, for_cpu in enumerate(np.array_split(comb_group, total)):\n",
    "        lens.append(len(for_cpu))\n",
    "        proc = NbgCalc(idx=idx, combs=for_cpu, total=total, groups=groups)\n",
    "        proc.start()\n",
    "        procs.append(proc)\n",
    "    for proc in procs:\n",
    "        proc.join()\n",
    "        presult = proc.result()\n",
    "        results.append(presult)\n",
    "    del procs"
   ]
  },
  {
   "cell_type": "code",
   "execution_count": null,
   "metadata": {},
   "outputs": [],
   "source": [
    "# grouped_chunks = np.array_split(it.tee(it.combinations(obs_min, 2), total), 10)\n",
    "\n",
    "# partial = []\n",
    "# for combs_chunks in grouped_chunks:\n",
    "#     procs = []\n",
    "#     for idx, combs in serialize(combs_chunks):\n",
    "#         proc = NbgCalc(idx, len(combs_chunks), combs, groups)\n",
    "#         proc.start()\n",
    "#         procs.append(proc)\n",
    "#     for proc in procs:\n",
    "#         proc.join()\n",
    "#         partial.append(proc.result())\n",
    "#     del procs, combs\n",
    "#     gc.collect()\n",
    "\n",
    "# del combs_chunks\n",
    "# gc.collect()"
   ]
  },
  {
   "cell_type": "code",
   "execution_count": null,
   "metadata": {},
   "outputs": [],
   "source": []
  },
  {
   "cell_type": "code",
   "execution_count": null,
   "metadata": {},
   "outputs": [],
   "source": []
  },
  {
   "cell_type": "markdown",
   "metadata": {},
   "source": [
    "### Store the result to continue in another notebook"
   ]
  },
  {
   "cell_type": "code",
   "execution_count": 33,
   "metadata": {},
   "outputs": [],
   "source": [
    "import pickle\n",
    "with open(\"./data/count.pkl\", \"w\") as fp:\n",
    "    pickle.dump(results, fp)"
   ]
  }
 ],
 "metadata": {
  "kernelspec": {
   "display_name": "Python 2",
   "language": "python",
   "name": "python2"
  },
  "language_info": {
   "codemirror_mode": {
    "name": "ipython",
    "version": 2
   },
   "file_extension": ".py",
   "mimetype": "text/x-python",
   "name": "python",
   "nbconvert_exporter": "python",
   "pygments_lexer": "ipython2",
   "version": "2.7.14"
  }
 },
 "nbformat": 4,
 "nbformat_minor": 2
}
