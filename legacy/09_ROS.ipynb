{
 "cells": [
  {
   "cell_type": "code",
   "execution_count": 1,
   "metadata": {},
   "outputs": [],
   "source": [
    "% matplotlib inline\n",
    "\n",
    "import time\n",
    "import pandas as pd\n",
    "\n",
    "from IPython import display as d\n",
    "\n",
    "import seaborn as sns\n",
    "sns.set()\n",
    "\n",
    "from sklearn.svm import SVC\n",
    "from sklearn.tree import DecisionTreeClassifier\n",
    "from sklearn.ensemble import RandomForestClassifier\n",
    "from sklearn.neighbors import KNeighborsClassifier\n",
    "\n",
    "from imblearn.over_sampling import RandomOverSampler\n",
    "\n",
    "from libs import container\n",
    "from libs.experiment import (\n",
    "    WithAnotherExperiment, KFoldExperiment, roc, \n",
    "    discretize_classes, clean_features)"
   ]
  },
  {
   "cell_type": "code",
   "execution_count": 2,
   "metadata": {},
   "outputs": [],
   "source": [
    "data = container.Container(sample=pd.read_pickle(\"data/sample.pkl\"))\n",
    "data[\"balanced\"] = pd.concat((\n",
    "    data.sample[data.sample.nbg == 1].sample(786),\n",
    "    data.sample[data.sample.nbg == 0]))\n",
    "data[\"small_sample\"] = pd.read_pickle(\"data/small_sample.pkl\")"
   ]
  },
  {
   "cell_type": "markdown",
   "metadata": {},
   "source": [
    "## Features cleaning"
   ]
  },
  {
   "cell_type": "code",
   "execution_count": 3,
   "metadata": {},
   "outputs": [
    {
     "data": {
      "text/plain": [
       "{'nbg': 1, 'no-nbg': 0}"
      ]
     },
     "execution_count": 3,
     "metadata": {},
     "output_type": "execute_result"
    }
   ],
   "source": [
    "sclasses = {\n",
    "    \"nbg\": 1,\n",
    "    \"no-nbg\": 0}\n",
    "sclasses"
   ]
  },
  {
   "cell_type": "code",
   "execution_count": 4,
   "metadata": {},
   "outputs": [
    {
     "data": {
      "text/plain": [
       "((12598, 161), (1572, 161), (4352, 161))"
      ]
     },
     "execution_count": 4,
     "metadata": {},
     "output_type": "execute_result"
    }
   ],
   "source": [
    "data.sample.shape, data.balanced.shape, data.small_sample.shape"
   ]
  },
  {
   "cell_type": "code",
   "execution_count": 5,
   "metadata": {},
   "outputs": [
    {
     "name": "stdout",
     "output_type": "stream",
     "text": [
      "Removing [] because null\n",
      "Removing ['src1_Freq1_harmonics_rel_phase_0', 'src1_Freq2_harmonics_rel_phase_0', 'src1_Freq3_harmonics_rel_phase_0', 'src2_Freq1_harmonics_rel_phase_0', 'src2_Freq2_harmonics_rel_phase_0', 'src2_Freq3_harmonics_rel_phase_0'] because lowvariance\n",
      "('Total features:', 112)\n"
     ]
    }
   ],
   "source": [
    "X_columns = clean_features(data, \"sample\")\n",
    "X_columns = X_columns[\n",
    "    ~(X_columns.str.contains(\"Freq2_\") | X_columns.str.contains(\"Freq3_\") | X_columns.str.contains(\"_cnt\"))]\n",
    "print(\"Total features:\", X_columns.size)"
   ]
  },
  {
   "cell_type": "code",
   "execution_count": 6,
   "metadata": {},
   "outputs": [
    {
     "data": {
      "text/plain": [
       "{'Amplitude',\n",
       " 'AmplitudeH',\n",
       " 'AmplitudeJ',\n",
       " 'AmplitudeJH',\n",
       " 'AmplitudeJK',\n",
       " 'Autocor_length',\n",
       " 'Beyond1Std',\n",
       " 'CAR_mean',\n",
       " 'CAR_sigma',\n",
       " 'CAR_tau',\n",
       " 'Con',\n",
       " 'Eta_e',\n",
       " 'FluxPercentileRatioMid20',\n",
       " 'FluxPercentileRatioMid35',\n",
       " 'FluxPercentileRatioMid50',\n",
       " 'FluxPercentileRatioMid65',\n",
       " 'FluxPercentileRatioMid80',\n",
       " 'Freq1_harmonics_amplitude_0',\n",
       " 'Freq1_harmonics_amplitude_1',\n",
       " 'Freq1_harmonics_amplitude_2',\n",
       " 'Freq1_harmonics_amplitude_3',\n",
       " 'Freq1_harmonics_rel_phase_1',\n",
       " 'Freq1_harmonics_rel_phase_2',\n",
       " 'Freq1_harmonics_rel_phase_3',\n",
       " 'Gskew',\n",
       " 'LinearTrend',\n",
       " 'MaxSlope',\n",
       " 'Mean',\n",
       " 'Meanvariance',\n",
       " 'MedianAbsDev',\n",
       " 'MedianBRP',\n",
       " 'PairSlopeTrend',\n",
       " 'PercentAmplitude',\n",
       " 'PercentDifferenceFluxPercentile',\n",
       " 'PeriodLS',\n",
       " 'Period_fit',\n",
       " 'Psi_CS',\n",
       " 'Psi_eta',\n",
       " 'Q31',\n",
       " 'Rcs',\n",
       " 'Skew',\n",
       " 'SmallKurtosis',\n",
       " 'Std',\n",
       " 'c89_c3',\n",
       " 'c89_hk_color',\n",
       " 'c89_jh_color',\n",
       " 'c89_jk_color',\n",
       " 'c89_m2',\n",
       " 'c89_m4',\n",
       " 'n09_c3',\n",
       " 'n09_hk_color',\n",
       " 'n09_jh_color',\n",
       " 'n09_jk_color',\n",
       " 'n09_m2',\n",
       " 'n09_m4',\n",
       " 'ppmb'}"
      ]
     },
     "execution_count": 6,
     "metadata": {},
     "output_type": "execute_result"
    }
   ],
   "source": [
    "set(x.split(\"_\", 1)[-1] for x in X_columns)"
   ]
  },
  {
   "cell_type": "markdown",
   "metadata": {},
   "source": [
    "## SVM - Linear"
   ]
  },
  {
   "cell_type": "code",
   "execution_count": 7,
   "metadata": {},
   "outputs": [
    {
     "name": "stdout",
     "output_type": "stream",
     "text": [
      "[PVXhtEgxeXST6fBuFnr86j-2018-10-16 16:55:41.515082] Launching\n",
      "[jBmp7Garpwo5aKaY3jqUJi-2018-10-16 16:55:41.694096] Launching\n",
      "[sekBwJFWMwerA7dxRo9qSH-2018-10-16 16:55:41.894129] Launching\n",
      "[F9KfZxwAFUqa4JvgTcoK9X-2018-10-16 16:55:42.101660] Launching\n",
      "[XgrL7saXFFZq4X4RKVX63W-2018-10-16 16:55:42.329270] Launching\n",
      "[AZGvuwW5prcs4Ho6cDCp3f-2018-10-16 16:55:42.535686] Launching\n",
      "[bwxutp9qCD2h6EqRtz2G8X-2018-10-16 16:55:42.767038] Launching\n",
      "[Z9iso7JmNge8Si3NkopvaG-2018-10-16 16:55:42.982487] Launching\n",
      "[4byGHQrsLzZJuATcxNhp7A-2018-10-16 16:55:43.213522] Launching\n",
      "[faDT9E5w7gXgqnxQ9RP9HK-2018-10-16 16:55:43.426418] Launching\n",
      "[XgrL7saXFFZq4X4RKVX63W-2018-10-16 17:01:31.416581] Done\n",
      "[jBmp7Garpwo5aKaY3jqUJi-2018-10-16 17:01:49.540149] Done\n",
      "[Z9iso7JmNge8Si3NkopvaG-2018-10-16 17:02:09.051483] Done\n",
      "[sekBwJFWMwerA7dxRo9qSH-2018-10-16 17:02:30.707921] Done\n",
      "[F9KfZxwAFUqa4JvgTcoK9X-2018-10-16 17:02:46.297793] Done\n",
      "[PVXhtEgxeXST6fBuFnr86j-2018-10-16 17:03:08.030725] Done\n",
      "[4byGHQrsLzZJuATcxNhp7A-2018-10-16 17:03:16.690553] Done\n",
      "[AZGvuwW5prcs4Ho6cDCp3f-2018-10-16 17:03:26.200422] Done\n",
      "[faDT9E5w7gXgqnxQ9RP9HK-2018-10-16 17:03:39.849523] Done\n",
      "[bwxutp9qCD2h6EqRtz2G8X-2018-10-16 17:04:35.088563] Done\n",
      "             precision    recall  f1-score   support\n",
      "\n",
      "        0.0       0.08      0.46      0.13       253\n",
      "        1.0       0.95      0.66      0.78      4099\n",
      "\n",
      "avg / total       0.90      0.65      0.74      4352\n",
      "\n",
      "--------------------------------------------------------------------------------\n",
      "CPU times: user 3.76 s, sys: 1.62 s, total: 5.38 s\n",
      "Wall time: 8min 55s\n"
     ]
    }
   ],
   "source": [
    "%%time\n",
    "svc_linear = KFoldExperiment(\n",
    "    clf=SVC(kernel='linear', probability=True), clsnum=sclasses,\n",
    "    data=data, pcls=\"nbg\", ncls=\"no-nbg\", sampler=RandomOverSampler(),\n",
    "    X_columns=X_columns, y_column=\"nbg\")(\"small_sample\", nfolds=10)"
   ]
  },
  {
   "cell_type": "markdown",
   "metadata": {},
   "source": [
    "## SVM - Poly"
   ]
  },
  {
   "cell_type": "code",
   "execution_count": 8,
   "metadata": {},
   "outputs": [
    {
     "name": "stdout",
     "output_type": "stream",
     "text": [
      "[Rco9Xm6mzKe5rf4eJ4uV38-2018-10-16 17:04:36.894120] Launching\n",
      "[QFxpSWMDrDyxjeSxFah6aX-2018-10-16 17:04:37.060669] Launching\n",
      "[PN65SKmeyieES8feSWJVQS-2018-10-16 17:04:37.270935] Launching\n",
      "[HSJdK9dCpsJU6yyGiWzXXb-2018-10-16 17:04:37.408427] Launching\n",
      "[hn9utaD77Z2yddPe9r78C3-2018-10-16 17:04:37.590579] Launching\n",
      "[zrCTZJbvG5Mjo4ZYsNvCK7-2018-10-16 17:04:37.785596] Launching\n",
      "[qw9G8qWnn9teMUMqCGzXe2-2018-10-16 17:04:37.953839] Launching\n",
      "[U3wm3n9oFJWBLQYocK7AHk-2018-10-16 17:04:38.175115] Launching\n",
      "[cxqvBm5CauycuqGBssHtVf-2018-10-16 17:04:38.417932] Launching\n",
      "[LbxjUTiUq4idimb3fYLDe2-2018-10-16 17:04:38.621010] Launching\n",
      "[U3wm3n9oFJWBLQYocK7AHk-2018-10-16 17:06:01.623979] Done\n",
      "[zrCTZJbvG5Mjo4ZYsNvCK7-2018-10-16 17:06:09.743167] Done\n",
      "[cxqvBm5CauycuqGBssHtVf-2018-10-16 17:06:12.579061] Done\n",
      "[PN65SKmeyieES8feSWJVQS-2018-10-16 17:06:32.103426] Done\n",
      "[Rco9Xm6mzKe5rf4eJ4uV38-2018-10-16 17:06:46.051849] Done\n",
      "[LbxjUTiUq4idimb3fYLDe2-2018-10-16 17:07:12.526947] Done\n",
      "[QFxpSWMDrDyxjeSxFah6aX-2018-10-16 17:07:59.659365] Done\n",
      "[qw9G8qWnn9teMUMqCGzXe2-2018-10-16 17:08:01.197168] Done\n",
      "[HSJdK9dCpsJU6yyGiWzXXb-2018-10-16 17:08:34.636401] Done\n",
      "[hn9utaD77Z2yddPe9r78C3-2018-10-16 17:08:36.679427] Done\n",
      "             precision    recall  f1-score   support\n",
      "\n",
      "        0.0       0.28      0.25      0.26       253\n",
      "        1.0       0.95      0.96      0.96      4099\n",
      "\n",
      "avg / total       0.91      0.92      0.92      4352\n",
      "\n",
      "--------------------------------------------------------------------------------\n",
      "CPU times: user 2.71 s, sys: 1.47 s, total: 4.18 s\n",
      "Wall time: 4min 1s\n"
     ]
    }
   ],
   "source": [
    "%%time\n",
    "svc_poly = KFoldExperiment(\n",
    "    clf=SVC(kernel='poly', probability=True), clsnum=sclasses,\n",
    "    data=data, pcls=\"nbg\", ncls=\"no-nbg\", sampler=RandomOverSampler(),\n",
    "    X_columns=X_columns, y_column=\"nbg\")(\"small_sample\", nfolds=10)"
   ]
  },
  {
   "cell_type": "markdown",
   "metadata": {},
   "source": [
    "## Random Forest"
   ]
  },
  {
   "cell_type": "code",
   "execution_count": 9,
   "metadata": {},
   "outputs": [
    {
     "name": "stdout",
     "output_type": "stream",
     "text": [
      "[tLqZjXGQm3pTdNuEDtTRkZ-2018-10-16 17:08:38.092680] Launching\n",
      "[HNJzVJbzn8Ag8ZHkTwksh5-2018-10-16 17:08:38.249217] Launching\n",
      "[UqbL8cFALRaCwqA8GwfGNe-2018-10-16 17:08:38.413008] Launching\n",
      "[v4wQQSTnmBg2kQ4BdXp2E8-2018-10-16 17:08:38.572878] Launching\n",
      "[Weo7UbfyUZQfPWWRr8cCo3-2018-10-16 17:08:38.725961] Launching\n",
      "[cf7DQ8e6uKcRCAMKkJhwrS-2018-10-16 17:08:38.888191] Launching\n",
      "[SHDzNwdHayXXb8J2mw5wya-2018-10-16 17:08:39.038846] Launching\n",
      "[nik2UomMCtjsp3urVif8bL-2018-10-16 17:08:39.190469] Launching\n",
      "[pFzpLuVZp2Vsoqkkfe7jLA-2018-10-16 17:08:39.346497] Launching\n",
      "[swY2iHod5a45rmS7zD354H-2018-10-16 17:08:39.492794] Launching\n",
      "[cf7DQ8e6uKcRCAMKkJhwrS-2018-10-16 17:09:45.618427] Done\n",
      "[SHDzNwdHayXXb8J2mw5wya-2018-10-16 17:09:45.686285] Done\n",
      "[swY2iHod5a45rmS7zD354H-2018-10-16 17:09:45.710354] Done\n",
      "[nik2UomMCtjsp3urVif8bL-2018-10-16 17:09:46.081012] Done\n",
      "[tLqZjXGQm3pTdNuEDtTRkZ-2018-10-16 17:09:46.119980] Done\n",
      "[pFzpLuVZp2Vsoqkkfe7jLA-2018-10-16 17:09:47.604224] Done\n",
      "[UqbL8cFALRaCwqA8GwfGNe-2018-10-16 17:09:48.299018] Done\n",
      "[Weo7UbfyUZQfPWWRr8cCo3-2018-10-16 17:09:50.394733] Done\n",
      "[v4wQQSTnmBg2kQ4BdXp2E8-2018-10-16 17:09:50.601230] Done\n",
      "[HNJzVJbzn8Ag8ZHkTwksh5-2018-10-16 17:09:50.915795] Done\n",
      "             precision    recall  f1-score   support\n",
      "\n",
      "        0.0       0.00      0.00      0.00       253\n",
      "        1.0       0.94      1.00      0.97      4099\n",
      "\n",
      "avg / total       0.89      0.94      0.91      4352\n",
      "\n",
      "--------------------------------------------------------------------------------\n",
      "CPU times: user 1.85 s, sys: 1.1 s, total: 2.96 s\n",
      "Wall time: 1min 14s\n"
     ]
    }
   ],
   "source": [
    "%%time\n",
    "rf = KFoldExperiment(\n",
    "    clf=RandomForestClassifier(n_estimators=500, criterion=\"entropy\"), clsnum=sclasses, sampler=RandomOverSampler(),\n",
    "    data=data, pcls=\"nbg\", ncls=\"no-nbg\", X_columns=X_columns, y_column=\"nbg\")(\"small_sample\", nfolds=10)"
   ]
  },
  {
   "cell_type": "markdown",
   "metadata": {},
   "source": [
    "## KNN"
   ]
  },
  {
   "cell_type": "code",
   "execution_count": 10,
   "metadata": {},
   "outputs": [
    {
     "name": "stdout",
     "output_type": "stream",
     "text": [
      "[ziaYbMwbS6niKCeRK8Az48-2018-10-16 17:09:52.562802] Launching\n",
      "[YdrnKnNEx9foT7ormbBdji-2018-10-16 17:09:52.714357] Launching\n",
      "[taKznHpLNeMAZet7tqdtbH-2018-10-16 17:09:52.866748] Launching\n",
      "[gaVZkdzDwagz2aiXvypaf9-2018-10-16 17:09:53.019987] Launching\n",
      "[J2GL3jgA5J7SzP88YzCACA-2018-10-16 17:09:53.234029] Launching\n",
      "[kT2pnXDJHJRpPRATKtapNX-2018-10-16 17:09:53.404692] Launching\n",
      "[uhtifHChu2B2EojUeFR3CR-2018-10-16 17:09:53.598677] Launching\n",
      "[wXF94mCrL4XbUz99Czn37e-2018-10-16 17:09:53.795026] Launching\n",
      "[DBZSsNg3MaDBMoujmqyFea-2018-10-16 17:09:54.015962] Launching\n",
      "[ha72mE4hGRr3dMvkUyvz6Z-2018-10-16 17:09:54.195003] Launching\n",
      "[ziaYbMwbS6niKCeRK8Az48-2018-10-16 17:09:56.755207] Done\n",
      "[YdrnKnNEx9foT7ormbBdji-2018-10-16 17:09:56.982061] Done\n",
      "[taKznHpLNeMAZet7tqdtbH-2018-10-16 17:09:57.320917] Done\n",
      "[kT2pnXDJHJRpPRATKtapNX-2018-10-16 17:09:57.771496] Done\n",
      "[gaVZkdzDwagz2aiXvypaf9-2018-10-16 17:09:57.972480] Done\n",
      "[J2GL3jgA5J7SzP88YzCACA-2018-10-16 17:09:58.116822] Done\n",
      "[uhtifHChu2B2EojUeFR3CR-2018-10-16 17:09:58.389291] Done\n",
      "[wXF94mCrL4XbUz99Czn37e-2018-10-16 17:09:58.648382] Done\n",
      "[ha72mE4hGRr3dMvkUyvz6Z-2018-10-16 17:09:58.916798] Done\n",
      "[DBZSsNg3MaDBMoujmqyFea-2018-10-16 17:10:00.045013] Done\n",
      "             precision    recall  f1-score   support\n",
      "\n",
      "        0.0       0.08      0.47      0.14       253\n",
      "        1.0       0.95      0.68      0.80      4099\n",
      "\n",
      "avg / total       0.90      0.67      0.76      4352\n",
      "\n",
      "--------------------------------------------------------------------------------\n",
      "CPU times: user 1.9 s, sys: 1.12 s, total: 3.01 s\n",
      "Wall time: 9.09 s\n"
     ]
    }
   ],
   "source": [
    "%%time\n",
    "knn = KFoldExperiment(\n",
    "    clf=KNeighborsClassifier(n_neighbors=50, weights='distance'), clsnum=sclasses, sampler=RandomOverSampler(),\n",
    "    data=data, pcls=\"nbg\", ncls=\"no-nbg\", X_columns=X_columns, y_column=\"nbg\")(\"small_sample\", nfolds=10)"
   ]
  },
  {
   "cell_type": "code",
   "execution_count": 11,
   "metadata": {},
   "outputs": [
    {
     "data": {
      "image/png": "[encoded data removed]",
      "text/plain": [
       "<Figure size 432x288 with 1 Axes>"
      ]
     },
     "metadata": {},
     "output_type": "display_data"
    }
   ],
   "source": [
    "roc({\"KNN\": knn, \"RForest\": rf, \n",
    "     \"SVC Linear\": svc_linear,\n",
    "     \"SVC Polynomic\": svc_poly})"
   ]
  },
  {
   "cell_type": "code",
   "execution_count": null,
   "metadata": {},
   "outputs": [],
   "source": []
  }
 ],
 "metadata": {
  "kernelspec": {
   "display_name": "Python 2",
   "language": "python",
   "name": "python2"
  },
  "language_info": {
   "codemirror_mode": {
    "name": "ipython",
    "version": 2
   },
   "file_extension": ".py",
   "mimetype": "text/x-python",
   "name": "python",
   "nbconvert_exporter": "python",
   "pygments_lexer": "ipython2",
   "version": "2.7.14"
  }
 },
 "nbformat": 4,
 "nbformat_minor": 2
}
