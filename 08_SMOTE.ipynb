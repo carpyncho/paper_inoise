{
 "cells": [
  {
   "cell_type": "code",
   "execution_count": 1,
   "metadata": {},
   "outputs": [],
   "source": [
    "% matplotlib inline\n",
    "\n",
    "import time\n",
    "import pandas as pd\n",
    "\n",
    "from IPython import display as d\n",
    "\n",
    "import seaborn as sns\n",
    "sns.set()\n",
    "\n",
    "from sklearn.svm import SVC\n",
    "from sklearn.tree import DecisionTreeClassifier\n",
    "from sklearn.ensemble import RandomForestClassifier\n",
    "from sklearn.neighbors import KNeighborsClassifier\n",
    "\n",
    "from imblearn.over_sampling import SMOTE\n",
    "\n",
    "from libs import container\n",
    "from libs.experiment import (\n",
    "    WithAnotherExperiment, KFoldExperiment, roc, \n",
    "    discretize_classes, clean_features)"
   ]
  },
  {
   "cell_type": "code",
   "execution_count": 2,
   "metadata": {},
   "outputs": [],
   "source": [
    "data = container.Container(sample=pd.read_pickle(\"data/sample.pkl\"))\n",
    "data[\"balanced\"] = pd.concat((\n",
    "    data.sample[data.sample.nbg == 1].sample(786),\n",
    "    data.sample[data.sample.nbg == 0]))\n",
    "data[\"small_sample\"] = pd.read_pickle(\"data/small_sample.pkl\")"
   ]
  },
  {
   "cell_type": "markdown",
   "metadata": {},
   "source": [
    "## Features cleaning"
   ]
  },
  {
   "cell_type": "code",
   "execution_count": 3,
   "metadata": {},
   "outputs": [
    {
     "data": {
      "text/plain": [
       "{'nbg': 1, 'no-nbg': 0}"
      ]
     },
     "execution_count": 3,
     "metadata": {},
     "output_type": "execute_result"
    }
   ],
   "source": [
    "sclasses = {\n",
    "    \"nbg\": 1,\n",
    "    \"no-nbg\": 0}\n",
    "sclasses"
   ]
  },
  {
   "cell_type": "code",
   "execution_count": 4,
   "metadata": {},
   "outputs": [
    {
     "data": {
      "text/plain": [
       "((12598, 161), (1572, 161), (4352, 161))"
      ]
     },
     "execution_count": 4,
     "metadata": {},
     "output_type": "execute_result"
    }
   ],
   "source": [
    "data.sample.shape, data.balanced.shape, data.small_sample.shape"
   ]
  },
  {
   "cell_type": "code",
   "execution_count": 5,
   "metadata": {},
   "outputs": [
    {
     "name": "stdout",
     "output_type": "stream",
     "text": [
      "Removing [] because null\n",
      "Removing ['src1_Freq1_harmonics_rel_phase_0', 'src1_Freq2_harmonics_rel_phase_0', 'src1_Freq3_harmonics_rel_phase_0', 'src2_Freq1_harmonics_rel_phase_0', 'src2_Freq2_harmonics_rel_phase_0', 'src2_Freq3_harmonics_rel_phase_0'] because lowvariance\n",
      "('Total features:', 114)\n"
     ]
    }
   ],
   "source": [
    "X_columns = clean_features(data, \"sample\")\n",
    "X_columns = X_columns[\n",
    "    ~(X_columns.str.contains(\"Freq2_\") | X_columns.str.contains(\"Freq3_\"))]\n",
    "print(\"Total features:\", X_columns.size)"
   ]
  },
  {
   "cell_type": "code",
   "execution_count": 6,
   "metadata": {},
   "outputs": [
    {
     "data": {
      "text/plain": [
       "{'Amplitude',\n",
       " 'AmplitudeH',\n",
       " 'AmplitudeJ',\n",
       " 'AmplitudeJH',\n",
       " 'AmplitudeJK',\n",
       " 'Autocor_length',\n",
       " 'Beyond1Std',\n",
       " 'CAR_mean',\n",
       " 'CAR_sigma',\n",
       " 'CAR_tau',\n",
       " 'Con',\n",
       " 'Eta_e',\n",
       " 'FluxPercentileRatioMid20',\n",
       " 'FluxPercentileRatioMid35',\n",
       " 'FluxPercentileRatioMid50',\n",
       " 'FluxPercentileRatioMid65',\n",
       " 'FluxPercentileRatioMid80',\n",
       " 'Freq1_harmonics_amplitude_0',\n",
       " 'Freq1_harmonics_amplitude_1',\n",
       " 'Freq1_harmonics_amplitude_2',\n",
       " 'Freq1_harmonics_amplitude_3',\n",
       " 'Freq1_harmonics_rel_phase_1',\n",
       " 'Freq1_harmonics_rel_phase_2',\n",
       " 'Freq1_harmonics_rel_phase_3',\n",
       " 'Gskew',\n",
       " 'LinearTrend',\n",
       " 'MaxSlope',\n",
       " 'Mean',\n",
       " 'Meanvariance',\n",
       " 'MedianAbsDev',\n",
       " 'MedianBRP',\n",
       " 'PairSlopeTrend',\n",
       " 'PercentAmplitude',\n",
       " 'PercentDifferenceFluxPercentile',\n",
       " 'PeriodLS',\n",
       " 'Period_fit',\n",
       " 'Psi_CS',\n",
       " 'Psi_eta',\n",
       " 'Q31',\n",
       " 'Rcs',\n",
       " 'Skew',\n",
       " 'SmallKurtosis',\n",
       " 'Std',\n",
       " 'c89_c3',\n",
       " 'c89_hk_color',\n",
       " 'c89_jh_color',\n",
       " 'c89_jk_color',\n",
       " 'c89_m2',\n",
       " 'c89_m4',\n",
       " 'cnt',\n",
       " 'n09_c3',\n",
       " 'n09_hk_color',\n",
       " 'n09_jh_color',\n",
       " 'n09_jk_color',\n",
       " 'n09_m2',\n",
       " 'n09_m4',\n",
       " 'ppmb'}"
      ]
     },
     "execution_count": 6,
     "metadata": {},
     "output_type": "execute_result"
    }
   ],
   "source": [
    "set(x.split(\"_\", 1)[-1] for x in X_columns)"
   ]
  },
  {
   "cell_type": "markdown",
   "metadata": {},
   "source": [
    "## SVM - Linear"
   ]
  },
  {
   "cell_type": "code",
   "execution_count": 7,
   "metadata": {},
   "outputs": [
    {
     "name": "stdout",
     "output_type": "stream",
     "text": [
      "[qMpcQaTpTibGcGJHnbEeah-2018-10-12 16:02:08.853242] Launching\n",
      "[UnNZY2B2jMax9XLmeG9Mu6-2018-10-12 16:02:09.245554] Launching\n",
      "[xt87Pr9DnV3beZygJcgpH8-2018-10-12 16:02:09.630296] Launching\n",
      "[2rQu6i6Rt6bJNyEbt4wKj6-2018-10-12 16:02:10.020305] Launching\n",
      "[avWb7BNVj7fi5SXKUakLQF-2018-10-12 16:02:10.423501] Launching\n",
      "[JgKBetFU8oNthUad9DXpef-2018-10-12 16:02:10.835804] Launching\n",
      "[8zKAWQRpof2WvX4DREyv3j-2018-10-12 16:02:11.261148] Launching\n",
      "[i3coK6gu3Rrm4AHprkfctH-2018-10-12 16:02:11.702482] Launching\n",
      "[8hSd89fSqZKRNSEAPnzJMR-2018-10-12 16:02:12.165499] Launching\n",
      "[x43KRbCG7qpQdXbfqfZpAN-2018-10-12 16:02:12.658476] Launching\n",
      "[x43KRbCG7qpQdXbfqfZpAN-2018-10-12 16:06:56.732536] Done\n",
      "[UnNZY2B2jMax9XLmeG9Mu6-2018-10-12 16:08:14.533578] Done\n",
      "[JgKBetFU8oNthUad9DXpef-2018-10-12 16:08:24.075711] Done\n",
      "[i3coK6gu3Rrm4AHprkfctH-2018-10-12 16:08:59.058097] Done\n",
      "[avWb7BNVj7fi5SXKUakLQF-2018-10-12 16:09:08.795821] Done\n",
      "[xt87Pr9DnV3beZygJcgpH8-2018-10-12 16:09:14.075443] Done\n",
      "[2rQu6i6Rt6bJNyEbt4wKj6-2018-10-12 16:09:24.172384] Done\n",
      "[8zKAWQRpof2WvX4DREyv3j-2018-10-12 16:09:31.096606] Done\n",
      "[qMpcQaTpTibGcGJHnbEeah-2018-10-12 16:09:34.297562] Done\n",
      "[8hSd89fSqZKRNSEAPnzJMR-2018-10-12 16:09:34.947722] Done\n",
      "             precision    recall  f1-score   support\n",
      "\n",
      "        0.0       0.08      0.46      0.13       253\n",
      "        1.0       0.95      0.65      0.77      4099\n",
      "\n",
      "avg / total       0.90      0.64      0.73      4352\n",
      "\n",
      "--------------------------------------------------------------------------------\n",
      "CPU times: user 5.14 s, sys: 1.58 s, total: 6.71 s\n",
      "Wall time: 7min 27s\n"
     ]
    }
   ],
   "source": [
    "%%time\n",
    "svc_linear = KFoldExperiment(\n",
    "    clf=SVC(kernel='linear', probability=True), clsnum=sclasses,\n",
    "    data=data, pcls=\"nbg\", ncls=\"no-nbg\", sampler=SMOTE(),\n",
    "    X_columns=X_columns, y_column=\"nbg\")(\"small_sample\", nfolds=10)"
   ]
  },
  {
   "cell_type": "markdown",
   "metadata": {},
   "source": [
    "## SVM - Poly"
   ]
  },
  {
   "cell_type": "code",
   "execution_count": 8,
   "metadata": {},
   "outputs": [
    {
     "name": "stdout",
     "output_type": "stream",
     "text": [
      "[9pRFpXkRPqbdqFNzf9qWgg-2018-10-12 16:09:36.648790] Launching\n",
      "[Qgz7mcPmbBjHXpuoFMEgmb-2018-10-12 16:09:37.019617] Launching\n",
      "[XNnZZvhmF78mnmx8DUth2T-2018-10-12 16:09:37.391013] Launching\n",
      "[kU9aNCvCRjXzSKzdBaLVo7-2018-10-12 16:09:37.766104] Launching\n",
      "[6q4aa3etYbKiNU3Hs3ZpXi-2018-10-12 16:09:38.095557] Launching\n",
      "[YJfejtXNJgGWbQimeZQd3h-2018-10-12 16:09:38.433225] Launching\n",
      "[g7LYhqSYeQN5hqq52NuqRZ-2018-10-12 16:09:38.779494] Launching\n",
      "[aVKwnuncfdz4ecNp6GGEiQ-2018-10-12 16:09:39.126782] Launching\n",
      "[duJfBhxfdigs427wkZV2PH-2018-10-12 16:09:39.488481] Launching\n",
      "[S8uCnwZZBEQZHVQq3SoqEa-2018-10-12 16:09:39.977429] Launching\n",
      "[YJfejtXNJgGWbQimeZQd3h-2018-10-12 16:11:06.434162] Done\n",
      "[XNnZZvhmF78mnmx8DUth2T-2018-10-12 16:11:16.140997] Done\n",
      "[aVKwnuncfdz4ecNp6GGEiQ-2018-10-12 16:11:31.085245] Done\n",
      "[duJfBhxfdigs427wkZV2PH-2018-10-12 16:11:33.570115] Done\n",
      "[Qgz7mcPmbBjHXpuoFMEgmb-2018-10-12 16:11:41.449087] Done\n",
      "[S8uCnwZZBEQZHVQq3SoqEa-2018-10-12 16:11:50.043001] Done\n",
      "[9pRFpXkRPqbdqFNzf9qWgg-2018-10-12 16:11:51.879028] Done\n",
      "[g7LYhqSYeQN5hqq52NuqRZ-2018-10-12 16:11:52.010869] Done\n",
      "[6q4aa3etYbKiNU3Hs3ZpXi-2018-10-12 16:11:53.600712] Done\n",
      "[kU9aNCvCRjXzSKzdBaLVo7-2018-10-12 16:11:55.598795] Done\n",
      "             precision    recall  f1-score   support\n",
      "\n",
      "        0.0       0.13      0.32      0.19       253\n",
      "        1.0       0.95      0.87      0.91      4099\n",
      "\n",
      "avg / total       0.91      0.84      0.87      4352\n",
      "\n",
      "--------------------------------------------------------------------------------\n",
      "CPU times: user 4.16 s, sys: 1.2 s, total: 5.37 s\n",
      "Wall time: 2min 20s\n"
     ]
    }
   ],
   "source": [
    "%%time\n",
    "svc_poly = KFoldExperiment(\n",
    "    clf=SVC(kernel='poly', probability=True), clsnum=sclasses,\n",
    "    data=data, pcls=\"nbg\", ncls=\"no-nbg\", sampler=SMOTE(),\n",
    "    X_columns=X_columns, y_column=\"nbg\")(\"small_sample\", nfolds=10)"
   ]
  },
  {
   "cell_type": "markdown",
   "metadata": {},
   "source": [
    "## Random Forest"
   ]
  },
  {
   "cell_type": "code",
   "execution_count": 9,
   "metadata": {},
   "outputs": [
    {
     "name": "stdout",
     "output_type": "stream",
     "text": [
      "[rra9Csww7xt9guncumKhfQ-2018-10-12 16:11:57.924692] Launching\n",
      "[wDM86nzqoW7H3i4eWT3niW-2018-10-12 16:11:58.272388] Launching\n",
      "[woWnCn35MjwUvivk4nvZ6V-2018-10-12 16:11:58.594040] Launching\n",
      "[5ZGDGAZnQeb6iSP28Wuagf-2018-10-12 16:11:58.918290] Launching\n",
      "[2LT8b568ssDZBKwDT3D6qP-2018-10-12 16:11:59.244809] Launching\n",
      "[27pU2AyKVcSjMyhKizqeFi-2018-10-12 16:11:59.573180] Launching\n",
      "[ay9ZTcU49YL3abnvGNF69m-2018-10-12 16:11:59.895170] Launching\n",
      "[mg6V25gbeEpEXA2HEMn4ZU-2018-10-12 16:12:00.219575] Launching\n",
      "[FGCDBfF4fpfu2YBWkLQeEE-2018-10-12 16:12:00.544676] Launching\n",
      "[vCRQd4uy8jYkAhiasYxA3i-2018-10-12 16:12:00.864784] Launching\n",
      "[vCRQd4uy8jYkAhiasYxA3i-2018-10-12 16:14:08.550795] Done\n",
      "[27pU2AyKVcSjMyhKizqeFi-2018-10-12 16:14:12.423579] Done\n",
      "[FGCDBfF4fpfu2YBWkLQeEE-2018-10-12 16:14:13.112597] Done\n",
      "[2LT8b568ssDZBKwDT3D6qP-2018-10-12 16:14:13.695710] Done\n",
      "[mg6V25gbeEpEXA2HEMn4ZU-2018-10-12 16:14:15.457220] Done\n",
      "[5ZGDGAZnQeb6iSP28Wuagf-2018-10-12 16:14:15.529221] Done\n",
      "[ay9ZTcU49YL3abnvGNF69m-2018-10-12 16:14:15.537134] Done\n",
      "[wDM86nzqoW7H3i4eWT3niW-2018-10-12 16:14:15.988108] Done\n",
      "[woWnCn35MjwUvivk4nvZ6V-2018-10-12 16:14:17.068189] Done\n",
      "[rra9Csww7xt9guncumKhfQ-2018-10-12 16:14:17.544830] Done\n",
      "             precision    recall  f1-score   support\n",
      "\n",
      "        0.0       0.05      0.00      0.01       253\n",
      "        1.0       0.94      1.00      0.97      4099\n",
      "\n",
      "avg / total       0.89      0.94      0.91      4352\n",
      "\n",
      "--------------------------------------------------------------------------------\n",
      "CPU times: user 3.75 s, sys: 1.67 s, total: 5.42 s\n",
      "Wall time: 2min 21s\n"
     ]
    }
   ],
   "source": [
    "%%time\n",
    "rf = KFoldExperiment(\n",
    "    clf=RandomForestClassifier(n_estimators=500, criterion=\"entropy\"), clsnum=sclasses, sampler=SMOTE(),\n",
    "    data=data, pcls=\"nbg\", ncls=\"no-nbg\", X_columns=X_columns, y_column=\"nbg\")(\"small_sample\", nfolds=10)"
   ]
  },
  {
   "cell_type": "markdown",
   "metadata": {},
   "source": [
    "## KNN"
   ]
  },
  {
   "cell_type": "code",
   "execution_count": 10,
   "metadata": {},
   "outputs": [
    {
     "name": "stdout",
     "output_type": "stream",
     "text": [
      "[r2a8U8Fu3t452TJGaccCLb-2018-10-12 16:14:19.858314] Launching\n",
      "[yz2hzZqFxjWEA2UPD6AVGo-2018-10-12 16:14:20.291916] Launching\n",
      "[tMzErUcnGX9rCFRLfUmmgm-2018-10-12 16:14:20.687347] Launching\n",
      "[u9zE2yG49ATvh4GyKontuF-2018-10-12 16:14:21.042481] Launching\n",
      "[zC6FUg47TNeg8S2XT65WSi-2018-10-12 16:14:21.489423] Launching\n",
      "[b2NyKkjJSBaMUjbSPaCTm2-2018-10-12 16:14:21.922964] Launching\n",
      "[52VpAbpfrdyBoe37qpbWFg-2018-10-12 16:14:22.213064] Launching\n",
      "[BYMWeCW7AJwJ3hwYEv3j5X-2018-10-12 16:14:22.548010] Launching\n",
      "[zxW2xJZmxLsgNX3Y2qq2bk-2018-10-12 16:14:22.881605] Launching\n",
      "[mxrrbCRUq2APKRsQnfbAsV-2018-10-12 16:14:23.219580] Launching\n",
      "[r2a8U8Fu3t452TJGaccCLb-2018-10-12 16:14:24.147238] Done\n",
      "[u9zE2yG49ATvh4GyKontuF-2018-10-12 16:14:25.612788] Done\n",
      "[tMzErUcnGX9rCFRLfUmmgm-2018-10-12 16:14:26.837647] Done\n",
      "[yz2hzZqFxjWEA2UPD6AVGo-2018-10-12 16:14:28.034007] Done\n",
      "[BYMWeCW7AJwJ3hwYEv3j5X-2018-10-12 16:14:28.164444] Done\n",
      "[52VpAbpfrdyBoe37qpbWFg-2018-10-12 16:14:28.360270] Done\n",
      "[zxW2xJZmxLsgNX3Y2qq2bk-2018-10-12 16:14:28.583519] Done\n",
      "[mxrrbCRUq2APKRsQnfbAsV-2018-10-12 16:14:28.607780] Done\n",
      "[zC6FUg47TNeg8S2XT65WSi-2018-10-12 16:14:28.735686] Done\n",
      "[b2NyKkjJSBaMUjbSPaCTm2-2018-10-12 16:14:28.956359] Done\n",
      "             precision    recall  f1-score   support\n",
      "\n",
      "        0.0       0.06      0.68      0.12       253\n",
      "        1.0       0.95      0.39      0.55      4099\n",
      "\n",
      "avg / total       0.90      0.41      0.53      4352\n",
      "\n",
      "--------------------------------------------------------------------------------\n",
      "CPU times: user 3.97 s, sys: 1.53 s, total: 5.5 s\n",
      "Wall time: 11.4 s\n"
     ]
    }
   ],
   "source": [
    "%%time\n",
    "knn = KFoldExperiment(\n",
    "    clf=KNeighborsClassifier(n_neighbors=50, weights='distance'), clsnum=sclasses, sampler=SMOTE(),\n",
    "    data=data, pcls=\"nbg\", ncls=\"no-nbg\", X_columns=X_columns, y_column=\"nbg\")(\"small_sample\", nfolds=10)"
   ]
  },
  {
   "cell_type": "code",
   "execution_count": 11,
   "metadata": {},
   "outputs": [
    {
     "data": {
      "image/png": "[encoded data removed]",
      "text/plain": [
       "<Figure size 432x288 with 1 Axes>"
      ]
     },
     "metadata": {},
     "output_type": "display_data"
    }
   ],
   "source": [
    "roc({\"KNN\": knn, \"RForest\": rf, \n",
    "     \"SVC Linear\": svc_linear,\n",
    "     \"SVC Polynomic\": svc_poly})"
   ]
  },
  {
   "cell_type": "code",
   "execution_count": null,
   "metadata": {},
   "outputs": [],
   "source": []
  }
 ],
 "metadata": {
  "kernelspec": {
   "display_name": "Python 2",
   "language": "python",
   "name": "python2"
  },
  "language_info": {
   "codemirror_mode": {
    "name": "ipython",
    "version": 2
   },
   "file_extension": ".py",
   "mimetype": "text/x-python",
   "name": "python",
   "nbconvert_exporter": "python",
   "pygments_lexer": "ipython2",
   "version": "2.7.14"
  }
 },
 "nbformat": 4,
 "nbformat_minor": 2
}
