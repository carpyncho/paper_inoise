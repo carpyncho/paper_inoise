{
 "cells": [
  {
   "cell_type": "code",
   "execution_count": 23,
   "metadata": {},
   "outputs": [],
   "source": [
    "import sys\n",
    "import os\n",
    "import gc\n",
    "import itertools as it\n",
    "import tempfile\n",
    "from collections import Counter, namedtuple\n",
    "import multiprocessing as mp\n",
    "import datetime as dt\n",
    "\n",
    "\n",
    "import numpy as np\n",
    "import pandas as pd\n",
    "\n",
    "from joblib import Parallel, delayed, cpu_count, load, dump, Memory\n",
    "\n",
    "%matplotlib inline\n",
    "import matplotlib.pyplot as plt"
   ]
  },
  {
   "cell_type": "code",
   "execution_count": 24,
   "metadata": {},
   "outputs": [],
   "source": [
    "df = pd.read_pickle(\"data/train_vs_test.pkl\")"
   ]
  },
  {
   "cell_type": "code",
   "execution_count": 25,
   "metadata": {},
   "outputs": [
    {
     "data": {
      "text/html": [
       "<div>\n",
       "<style>\n",
       "    .dataframe thead tr:only-child th {\n",
       "        text-align: right;\n",
       "    }\n",
       "\n",
       "    .dataframe thead th {\n",
       "        text-align: left;\n",
       "    }\n",
       "\n",
       "    .dataframe tbody tr th {\n",
       "        vertical-align: top;\n",
       "    }\n",
       "</style>\n",
       "<table border=\"1\" class=\"dataframe\">\n",
       "  <thead>\n",
       "    <tr style=\"text-align: right;\">\n",
       "      <th></th>\n",
       "      <th>b261</th>\n",
       "      <th>b262</th>\n",
       "      <th>b263</th>\n",
       "      <th>b264</th>\n",
       "      <th>b278</th>\n",
       "    </tr>\n",
       "  </thead>\n",
       "  <tbody>\n",
       "    <tr>\n",
       "      <th>b261</th>\n",
       "      <td>NaN</td>\n",
       "      <td>0.771084</td>\n",
       "      <td>0.760234</td>\n",
       "      <td>0.784158</td>\n",
       "      <td>0.708333</td>\n",
       "    </tr>\n",
       "    <tr>\n",
       "      <th>b262</th>\n",
       "      <td>0.821159</td>\n",
       "      <td>NaN</td>\n",
       "      <td>0.769826</td>\n",
       "      <td>0.793774</td>\n",
       "      <td>0.736390</td>\n",
       "    </tr>\n",
       "    <tr>\n",
       "      <th>b263</th>\n",
       "      <td>0.839506</td>\n",
       "      <td>0.800000</td>\n",
       "      <td>NaN</td>\n",
       "      <td>0.844278</td>\n",
       "      <td>0.746518</td>\n",
       "    </tr>\n",
       "    <tr>\n",
       "      <th>b264</th>\n",
       "      <td>0.829630</td>\n",
       "      <td>0.786389</td>\n",
       "      <td>0.795497</td>\n",
       "      <td>NaN</td>\n",
       "      <td>0.744382</td>\n",
       "    </tr>\n",
       "    <tr>\n",
       "      <th>b278</th>\n",
       "      <td>0.835000</td>\n",
       "      <td>0.817326</td>\n",
       "      <td>0.778828</td>\n",
       "      <td>0.803089</td>\n",
       "      <td>NaN</td>\n",
       "    </tr>\n",
       "  </tbody>\n",
       "</table>\n",
       "</div>"
      ],
      "text/plain": [
       "          b261      b262      b263      b264      b278\n",
       "b261       NaN  0.771084  0.760234  0.784158  0.708333\n",
       "b262  0.821159       NaN  0.769826  0.793774  0.736390\n",
       "b263  0.839506  0.800000       NaN  0.844278  0.746518\n",
       "b264  0.829630  0.786389  0.795497       NaN  0.744382\n",
       "b278  0.835000  0.817326  0.778828  0.803089       NaN"
      ]
     },
     "execution_count": 25,
     "metadata": {},
     "output_type": "execute_result"
    }
   ],
   "source": [
    "df"
   ]
  },
  {
   "cell_type": "code",
   "execution_count": 27,
   "metadata": {},
   "outputs": [
    {
     "data": {
      "text/plain": [
       "b261    0.755953\n",
       "b262    0.780287\n",
       "b263    0.807575\n",
       "b264    0.788975\n",
       "b278    0.808561\n",
       "dtype: float64"
      ]
     },
     "execution_count": 27,
     "metadata": {},
     "output_type": "execute_result"
    }
   ],
   "source": [
    "df.mean(axis=1)"
   ]
  },
  {
   "cell_type": "code",
   "execution_count": 4,
   "metadata": {},
   "outputs": [
    {
     "name": "stderr",
     "output_type": "stream",
     "text": [
      "/home/jbcabral/.conda/envs/carpyncho3/lib/python2.7/site-packages/psycopg2/__init__.py:144: UserWarning: The psycopg2 wheel package will be renamed from release 2.8; in order to keep installing from binary please use \"pip install psycopg2-binary\" instead. For details see: <http://initd.org/psycopg/docs/install.html#binary-install-from-pypi>.\n",
      "  \"\"\")\n"
     ]
    }
   ],
   "source": [
    "# corral startup\n",
    "sys.path.insert(1, \"/home/jbcabral/carpyncho3\")\n",
    "os.environ.setdefault(\"CORRAL_SETTINGS_MODULE\", \"carpyncho.settings\")\n",
    "\n",
    "from corral import core\n",
    "core.setup_environment()\n",
    "\n",
    "from corral import db\n",
    "from carpyncho.models import *"
   ]
  },
  {
   "cell_type": "code",
   "execution_count": 5,
   "metadata": {},
   "outputs": [
    {
     "name": "stderr",
     "output_type": "stream",
     "text": [
      "[carpyncho-sqlalchemy.engine.base.Engine-INFO@2018-10-22 14:28:18,800] select version()\n",
      "[carpyncho-sqlalchemy.engine.base.Engine-INFO@2018-10-22 14:28:18,801] {}\n",
      "[carpyncho-sqlalchemy.engine.base.Engine-INFO@2018-10-22 14:28:18,806] select current_schema()\n",
      "[carpyncho-sqlalchemy.engine.base.Engine-INFO@2018-10-22 14:28:18,808] {}\n",
      "[carpyncho-sqlalchemy.engine.base.Engine-INFO@2018-10-22 14:28:18,812] SELECT CAST('test plain returns' AS VARCHAR(60)) AS anon_1\n",
      "[carpyncho-sqlalchemy.engine.base.Engine-INFO@2018-10-22 14:28:18,814] {}\n",
      "[carpyncho-sqlalchemy.engine.base.Engine-INFO@2018-10-22 14:28:18,818] SELECT CAST('test unicode returns' AS VARCHAR(60)) AS anon_1\n",
      "[carpyncho-sqlalchemy.engine.base.Engine-INFO@2018-10-22 14:28:18,819] {}\n",
      "[carpyncho-sqlalchemy.engine.base.Engine-INFO@2018-10-22 14:28:18,824] show standard_conforming_strings\n",
      "[carpyncho-sqlalchemy.engine.base.Engine-INFO@2018-10-22 14:28:18,826] {}\n",
      "[carpyncho-sqlalchemy.engine.base.Engine-INFO@2018-10-22 14:28:18,830] BEGIN (implicit)\n",
      "[carpyncho-sqlalchemy.engine.base.Engine-INFO@2018-10-22 14:28:18,833] SELECT \"PawprintStack\".mjd AS \"PawprintStack_mjd\" \n",
      "FROM \"PawprintStack\" JOIN \"PawprintStackXTile\" ON \"PawprintStack\".id = \"PawprintStackXTile\".pawprint_stack_id \n",
      "WHERE EXISTS (SELECT 1 \n",
      "FROM \"Tile\" \n",
      "WHERE \"Tile\".id = \"PawprintStackXTile\".tile_id AND \"Tile\".name = %(name_1)s)\n",
      "[carpyncho-sqlalchemy.engine.base.Engine-INFO@2018-10-22 14:28:18,835] {'name_1': 'b261'}\n",
      "[carpyncho-sqlalchemy.engine.base.Engine-INFO@2018-10-22 14:28:18,847] SELECT \"PawprintStack\".mjd AS \"PawprintStack_mjd\" \n",
      "FROM \"PawprintStack\" JOIN \"PawprintStackXTile\" ON \"PawprintStack\".id = \"PawprintStackXTile\".pawprint_stack_id \n",
      "WHERE EXISTS (SELECT 1 \n",
      "FROM \"Tile\" \n",
      "WHERE \"Tile\".id = \"PawprintStackXTile\".tile_id AND \"Tile\".name = %(name_1)s)\n",
      "[carpyncho-sqlalchemy.engine.base.Engine-INFO@2018-10-22 14:28:18,849] {'name_1': 'b262'}\n",
      "[carpyncho-sqlalchemy.engine.base.Engine-INFO@2018-10-22 14:28:18,858] SELECT \"PawprintStack\".mjd AS \"PawprintStack_mjd\" \n",
      "FROM \"PawprintStack\" JOIN \"PawprintStackXTile\" ON \"PawprintStack\".id = \"PawprintStackXTile\".pawprint_stack_id \n",
      "WHERE EXISTS (SELECT 1 \n",
      "FROM \"Tile\" \n",
      "WHERE \"Tile\".id = \"PawprintStackXTile\".tile_id AND \"Tile\".name = %(name_1)s)\n",
      "[carpyncho-sqlalchemy.engine.base.Engine-INFO@2018-10-22 14:28:18,860] {'name_1': 'b263'}\n",
      "[carpyncho-sqlalchemy.engine.base.Engine-INFO@2018-10-22 14:28:18,871] SELECT \"PawprintStack\".mjd AS \"PawprintStack_mjd\" \n",
      "FROM \"PawprintStack\" JOIN \"PawprintStackXTile\" ON \"PawprintStack\".id = \"PawprintStackXTile\".pawprint_stack_id \n",
      "WHERE EXISTS (SELECT 1 \n",
      "FROM \"Tile\" \n",
      "WHERE \"Tile\".id = \"PawprintStackXTile\".tile_id AND \"Tile\".name = %(name_1)s)\n",
      "[carpyncho-sqlalchemy.engine.base.Engine-INFO@2018-10-22 14:28:18,873] {'name_1': 'b264'}\n",
      "[carpyncho-sqlalchemy.engine.base.Engine-INFO@2018-10-22 14:28:18,883] SELECT \"PawprintStack\".mjd AS \"PawprintStack_mjd\" \n",
      "FROM \"PawprintStack\" JOIN \"PawprintStackXTile\" ON \"PawprintStack\".id = \"PawprintStackXTile\".pawprint_stack_id \n",
      "WHERE EXISTS (SELECT 1 \n",
      "FROM \"Tile\" \n",
      "WHERE \"Tile\".id = \"PawprintStackXTile\".tile_id AND \"Tile\".name = %(name_1)s)\n",
      "[carpyncho-sqlalchemy.engine.base.Engine-INFO@2018-10-22 14:28:18,885] {'name_1': 'b278'}\n",
      "[carpyncho-sqlalchemy.engine.base.Engine-INFO@2018-10-22 14:28:18,893] COMMIT\n"
     ]
    },
    {
     "name": "stdout",
     "output_type": "stream",
     "text": [
      "b261\n",
      "b262\n",
      "b263\n",
      "b264\n",
      "b278\n"
     ]
    }
   ],
   "source": [
    "mjds = {}\n",
    "with db.session_scope() as session:\n",
    "    for tname in df.index:\n",
    "        print tname\n",
    "        pxts = session.query(PawprintStack.mjd).join(PawprintStackXTile).filter(PawprintStackXTile.tile.has(name=tname))\n",
    "        mjds[tname] = np.sort(np.array([pxt[0] for pxt in pxts.all()]))"
   ]
  },
  {
   "cell_type": "code",
   "execution_count": 6,
   "metadata": {},
   "outputs": [
    {
     "data": {
      "text/plain": [
       "{'b261': 371, 'b262': 372, 'b263': 514, 'b264': 515, 'b278': 342}"
      ]
     },
     "execution_count": 6,
     "metadata": {},
     "output_type": "execute_result"
    }
   ],
   "source": [
    "epochs = {k: len(v) for k, v in mjds.items()}\n",
    "epochs"
   ]
  },
  {
   "cell_type": "code",
   "execution_count": 7,
   "metadata": {},
   "outputs": [],
   "source": [
    "def find_nearest(array, value):\n",
    "    array = np.asarray(array)\n",
    "    idx = (np.abs(array - value)).argmin()\n",
    "    return array[idx]\n",
    "\n",
    "def compute(aname, bname):\n",
    "    a, b = mjds[aname], mjds[bname]\n",
    "    if len(a) > len(b):\n",
    "        a, b = b, a\n",
    "    to_diff = np.array([find_nearest(b, i) for i in a])\n",
    "    return np.abs(a - to_diff).mean()"
   ]
  },
  {
   "cell_type": "code",
   "execution_count": 8,
   "metadata": {},
   "outputs": [],
   "source": [
    "columns = list(df.columns)"
   ]
  },
  {
   "cell_type": "code",
   "execution_count": 9,
   "metadata": {},
   "outputs": [],
   "source": [
    "df.loc[:,'b261_md'] = pd.Series(np.array([compute(name, \"b261\") for name in columns]), index=df.index)\n",
    "df.loc[:,'b262_md'] = pd.Series(np.array([compute(name, \"b262\") for name in columns]), index=df.index)\n",
    "df.loc[:,'b263_md'] = pd.Series(np.array([compute(name, \"b263\") for name in columns]), index=df.index)\n",
    "df.loc[:,'b264_md'] = pd.Series(np.array([compute(name, \"b264\") for name in columns]), index=df.index)\n",
    "df.loc[:,'b278_md'] = pd.Series(np.array([compute(name, \"b278\") for name in columns]), index=df.index)"
   ]
  },
  {
   "cell_type": "code",
   "execution_count": 11,
   "metadata": {},
   "outputs": [],
   "source": [
    "columns = list(df.columns)\n",
    "columns.sort()"
   ]
  },
  {
   "cell_type": "code",
   "execution_count": 12,
   "metadata": {},
   "outputs": [],
   "source": [
    "df = df[columns]"
   ]
  },
  {
   "cell_type": "code",
   "execution_count": 13,
   "metadata": {},
   "outputs": [
    {
     "data": {
      "text/html": [
       "<div>\n",
       "<style>\n",
       "    .dataframe thead tr:only-child th {\n",
       "        text-align: right;\n",
       "    }\n",
       "\n",
       "    .dataframe thead th {\n",
       "        text-align: left;\n",
       "    }\n",
       "\n",
       "    .dataframe tbody tr th {\n",
       "        vertical-align: top;\n",
       "    }\n",
       "</style>\n",
       "<table border=\"1\" class=\"dataframe\">\n",
       "  <thead>\n",
       "    <tr style=\"text-align: right;\">\n",
       "      <th></th>\n",
       "      <th>b261</th>\n",
       "      <th>b261_md</th>\n",
       "      <th>b262</th>\n",
       "      <th>b262_md</th>\n",
       "      <th>b263</th>\n",
       "      <th>b263_md</th>\n",
       "      <th>b264</th>\n",
       "      <th>b264_md</th>\n",
       "      <th>b278</th>\n",
       "      <th>b278_md</th>\n",
       "    </tr>\n",
       "  </thead>\n",
       "  <tbody>\n",
       "    <tr>\n",
       "      <th>b261</th>\n",
       "      <td>NaN</td>\n",
       "      <td>0.000000</td>\n",
       "      <td>0.771084</td>\n",
       "      <td>0.034503</td>\n",
       "      <td>0.760234</td>\n",
       "      <td>2.339552</td>\n",
       "      <td>0.784158</td>\n",
       "      <td>2.415895</td>\n",
       "      <td>0.708333</td>\n",
       "      <td>36.403409</td>\n",
       "    </tr>\n",
       "    <tr>\n",
       "      <th>b262</th>\n",
       "      <td>0.821159</td>\n",
       "      <td>0.034503</td>\n",
       "      <td>NaN</td>\n",
       "      <td>0.000000</td>\n",
       "      <td>0.769826</td>\n",
       "      <td>2.309310</td>\n",
       "      <td>0.793774</td>\n",
       "      <td>2.418570</td>\n",
       "      <td>0.736390</td>\n",
       "      <td>36.457655</td>\n",
       "    </tr>\n",
       "    <tr>\n",
       "      <th>b263</th>\n",
       "      <td>0.839506</td>\n",
       "      <td>2.339552</td>\n",
       "      <td>0.800000</td>\n",
       "      <td>2.309310</td>\n",
       "      <td>NaN</td>\n",
       "      <td>0.000000</td>\n",
       "      <td>0.844278</td>\n",
       "      <td>0.083686</td>\n",
       "      <td>0.746518</td>\n",
       "      <td>9.558696</td>\n",
       "    </tr>\n",
       "    <tr>\n",
       "      <th>b264</th>\n",
       "      <td>0.829630</td>\n",
       "      <td>2.415895</td>\n",
       "      <td>0.786389</td>\n",
       "      <td>2.418570</td>\n",
       "      <td>0.795497</td>\n",
       "      <td>0.083686</td>\n",
       "      <td>NaN</td>\n",
       "      <td>0.000000</td>\n",
       "      <td>0.744382</td>\n",
       "      <td>9.557587</td>\n",
       "    </tr>\n",
       "    <tr>\n",
       "      <th>b278</th>\n",
       "      <td>0.835000</td>\n",
       "      <td>36.403409</td>\n",
       "      <td>0.817326</td>\n",
       "      <td>36.457655</td>\n",
       "      <td>0.778828</td>\n",
       "      <td>9.558696</td>\n",
       "      <td>0.803089</td>\n",
       "      <td>9.557587</td>\n",
       "      <td>NaN</td>\n",
       "      <td>0.000000</td>\n",
       "    </tr>\n",
       "  </tbody>\n",
       "</table>\n",
       "</div>"
      ],
      "text/plain": [
       "          b261    b261_md      b262    b262_md      b263   b263_md      b264  \\\n",
       "b261       NaN   0.000000  0.771084   0.034503  0.760234  2.339552  0.784158   \n",
       "b262  0.821159   0.034503       NaN   0.000000  0.769826  2.309310  0.793774   \n",
       "b263  0.839506   2.339552  0.800000   2.309310       NaN  0.000000  0.844278   \n",
       "b264  0.829630   2.415895  0.786389   2.418570  0.795497  0.083686       NaN   \n",
       "b278  0.835000  36.403409  0.817326  36.457655  0.778828  9.558696  0.803089   \n",
       "\n",
       "       b264_md      b278    b278_md  \n",
       "b261  2.415895  0.708333  36.403409  \n",
       "b262  2.418570  0.736390  36.457655  \n",
       "b263  0.083686  0.746518   9.558696  \n",
       "b264  0.000000  0.744382   9.557587  \n",
       "b278  9.557587       NaN   0.000000  "
      ]
     },
     "execution_count": 13,
     "metadata": {},
     "output_type": "execute_result"
    }
   ],
   "source": [
    "df"
   ]
  },
  {
   "cell_type": "code",
   "execution_count": 14,
   "metadata": {},
   "outputs": [
    {
     "data": {
      "text/plain": [
       "<matplotlib.axes._subplots.AxesSubplot at 0x7f08c27bf750>"
      ]
     },
     "execution_count": 14,
     "metadata": {},
     "output_type": "execute_result"
    },
    {
     "data": {
      "image/png": "[encoded data removed]",
      "text/plain": [
       "<Figure size 432x288 with 1 Axes>"
      ]
     },
     "metadata": {},
     "output_type": "display_data"
    }
   ],
   "source": []
  },
  {
   "cell_type": "code",
   "execution_count": 18,
   "metadata": {},
   "outputs": [
    {
     "name": "stderr",
     "output_type": "stream",
     "text": [
      "[carpyncho-sqlalchemy.engine.base.Engine-INFO@2018-10-22 14:38:08,318] BEGIN (implicit)\n",
      "[carpyncho-sqlalchemy.engine.base.Engine-INFO@2018-10-22 14:38:08,321] SELECT \"Tile\".raw_filename AS \"Tile_raw_filename\", \"Tile\".npy_filename AS \"Tile_npy_filename\", \"Tile\".id AS \"Tile_id\", \"Tile\".name AS \"Tile_name\", \"Tile\".size AS \"Tile_size\", \"Tile\".status AS \"Tile_status\", \"Tile\".ogle3_tagged_number AS \"Tile_ogle3_tagged_number\", \"Tile\".ready AS \"Tile_ready\" \n",
      "FROM \"Tile\"\n",
      "[carpyncho-sqlalchemy.engine.base.Engine-INFO@2018-10-22 14:38:08,323] {}\n",
      "[carpyncho-sqlalchemy.engine.base.Engine-INFO@2018-10-22 14:38:08,331] SELECT \"PawprintStack\".mjd AS \"PawprintStack_mjd\" \n",
      "FROM \"PawprintStack\" JOIN \"PawprintStackXTile\" ON \"PawprintStack\".id = \"PawprintStackXTile\".pawprint_stack_id \n",
      "WHERE EXISTS (SELECT 1 \n",
      "FROM \"Tile\" \n",
      "WHERE \"Tile\".id = \"PawprintStackXTile\".tile_id AND \"Tile\".name = %(name_1)s)\n",
      "[carpyncho-sqlalchemy.engine.base.Engine-INFO@2018-10-22 14:38:08,333] {'name_1': u'b262'}\n",
      "[carpyncho-sqlalchemy.engine.base.Engine-INFO@2018-10-22 14:38:08,343] SELECT \"PawprintStack\".mjd AS \"PawprintStack_mjd\" \n",
      "FROM \"PawprintStack\" JOIN \"PawprintStackXTile\" ON \"PawprintStack\".id = \"PawprintStackXTile\".pawprint_stack_id \n",
      "WHERE EXISTS (SELECT 1 \n",
      "FROM \"Tile\" \n",
      "WHERE \"Tile\".id = \"PawprintStackXTile\".tile_id AND \"Tile\".name = %(name_1)s)\n",
      "[carpyncho-sqlalchemy.engine.base.Engine-INFO@2018-10-22 14:38:08,345] {'name_1': u'b263'}\n",
      "[carpyncho-sqlalchemy.engine.base.Engine-INFO@2018-10-22 14:38:08,356] SELECT \"PawprintStack\".mjd AS \"PawprintStack_mjd\" \n",
      "FROM \"PawprintStack\" JOIN \"PawprintStackXTile\" ON \"PawprintStack\".id = \"PawprintStackXTile\".pawprint_stack_id \n",
      "WHERE EXISTS (SELECT 1 \n",
      "FROM \"Tile\" \n",
      "WHERE \"Tile\".id = \"PawprintStackXTile\".tile_id AND \"Tile\".name = %(name_1)s)\n",
      "[carpyncho-sqlalchemy.engine.base.Engine-INFO@2018-10-22 14:38:08,358] {'name_1': u'b261'}\n",
      "[carpyncho-sqlalchemy.engine.base.Engine-INFO@2018-10-22 14:38:08,370] SELECT \"PawprintStack\".mjd AS \"PawprintStack_mjd\" \n",
      "FROM \"PawprintStack\" JOIN \"PawprintStackXTile\" ON \"PawprintStack\".id = \"PawprintStackXTile\".pawprint_stack_id \n",
      "WHERE EXISTS (SELECT 1 \n",
      "FROM \"Tile\" \n",
      "WHERE \"Tile\".id = \"PawprintStackXTile\".tile_id AND \"Tile\".name = %(name_1)s)\n",
      "[carpyncho-sqlalchemy.engine.base.Engine-INFO@2018-10-22 14:38:08,372] {'name_1': u'b264'}\n",
      "[carpyncho-sqlalchemy.engine.base.Engine-INFO@2018-10-22 14:38:08,382] SELECT \"PawprintStack\".mjd AS \"PawprintStack_mjd\" \n",
      "FROM \"PawprintStack\" JOIN \"PawprintStackXTile\" ON \"PawprintStack\".id = \"PawprintStackXTile\".pawprint_stack_id \n",
      "WHERE EXISTS (SELECT 1 \n",
      "FROM \"Tile\" \n",
      "WHERE \"Tile\".id = \"PawprintStackXTile\".tile_id AND \"Tile\".name = %(name_1)s)\n",
      "[carpyncho-sqlalchemy.engine.base.Engine-INFO@2018-10-22 14:38:08,384] {'name_1': u'b278'}\n",
      "[carpyncho-sqlalchemy.engine.base.Engine-INFO@2018-10-22 14:38:08,395] SELECT \"PawprintStack\".mjd AS \"PawprintStack_mjd\" \n",
      "FROM \"PawprintStack\" JOIN \"PawprintStackXTile\" ON \"PawprintStack\".id = \"PawprintStackXTile\".pawprint_stack_id \n",
      "WHERE EXISTS (SELECT 1 \n",
      "FROM \"Tile\" \n",
      "WHERE \"Tile\".id = \"PawprintStackXTile\".tile_id AND \"Tile\".name = %(name_1)s)\n",
      "[carpyncho-sqlalchemy.engine.base.Engine-INFO@2018-10-22 14:38:08,396] {'name_1': u'b220'}\n",
      "[carpyncho-sqlalchemy.engine.base.Engine-INFO@2018-10-22 14:38:08,406] SELECT \"PawprintStack\".mjd AS \"PawprintStack_mjd\" \n",
      "FROM \"PawprintStack\" JOIN \"PawprintStackXTile\" ON \"PawprintStack\".id = \"PawprintStackXTile\".pawprint_stack_id \n",
      "WHERE EXISTS (SELECT 1 \n",
      "FROM \"Tile\" \n",
      "WHERE \"Tile\".id = \"PawprintStackXTile\".tile_id AND \"Tile\".name = %(name_1)s)\n",
      "[carpyncho-sqlalchemy.engine.base.Engine-INFO@2018-10-22 14:38:08,408] {'name_1': u'b410'}\n",
      "[carpyncho-sqlalchemy.engine.base.Engine-INFO@2018-10-22 14:38:08,415] SELECT \"PawprintStack\".mjd AS \"PawprintStack_mjd\" \n",
      "FROM \"PawprintStack\" JOIN \"PawprintStackXTile\" ON \"PawprintStack\".id = \"PawprintStackXTile\".pawprint_stack_id \n",
      "WHERE EXISTS (SELECT 1 \n",
      "FROM \"Tile\" \n",
      "WHERE \"Tile\".id = \"PawprintStackXTile\".tile_id AND \"Tile\".name = %(name_1)s)\n",
      "[carpyncho-sqlalchemy.engine.base.Engine-INFO@2018-10-22 14:38:08,417] {'name_1': u'b437'}\n",
      "[carpyncho-sqlalchemy.engine.base.Engine-INFO@2018-10-22 14:38:08,425] SELECT \"PawprintStack\".mjd AS \"PawprintStack_mjd\" \n",
      "FROM \"PawprintStack\" JOIN \"PawprintStackXTile\" ON \"PawprintStack\".id = \"PawprintStackXTile\".pawprint_stack_id \n",
      "WHERE EXISTS (SELECT 1 \n",
      "FROM \"Tile\" \n",
      "WHERE \"Tile\".id = \"PawprintStackXTile\".tile_id AND \"Tile\".name = %(name_1)s)\n",
      "[carpyncho-sqlalchemy.engine.base.Engine-INFO@2018-10-22 14:38:08,426] {'name_1': u'b396'}\n",
      "[carpyncho-sqlalchemy.engine.base.Engine-INFO@2018-10-22 14:38:08,435] COMMIT\n"
     ]
    },
    {
     "name": "stdout",
     "output_type": "stream",
     "text": [
      "<Tile 'b262'>\n",
      "<Tile 'b263'>\n",
      "<Tile 'b261'>\n",
      "<Tile 'b264'>\n",
      "<Tile 'b278'>\n",
      "<Tile 'b220'>\n",
      "<Tile 'b410'>\n",
      "<Tile 'b437'>\n",
      "<Tile 'b396'>\n"
     ]
    }
   ],
   "source": [
    "mjds = {}\n",
    "with db.session_scope() as session:\n",
    "    for t in session.query(Tile):\n",
    "        print t\n",
    "        pxts = session.query(PawprintStack.mjd).join(PawprintStackXTile).filter(PawprintStackXTile.tile.has(name=t.name))\n",
    "        mjds[t.name] = np.sort(np.array([pxt[0] for pxt in pxts.all()]))"
   ]
  },
  {
   "cell_type": "code",
   "execution_count": 22,
   "metadata": {},
   "outputs": [
    {
     "data": {
      "text/plain": [
       "{u'b220': (56386.577573654104, 390.02629976663746),\n",
       " u'b261': (56354.809640219508, 381.51638502332219),\n",
       " u'b262': (56357.238610203705, 383.79596313898287),\n",
       " u'b263': (56450.74349398187, 422.09062791300931),\n",
       " u'b264': (56451.204669857245, 421.4903623614004),\n",
       " u'b278': (56404.879761224212, 449.74635756473936),\n",
       " u'b396': (56401.087239206885, 406.41134792184477)}"
      ]
     },
     "execution_count": 22,
     "metadata": {},
     "output_type": "execute_result"
    }
   ],
   "source": [
    "{k: (v.mean(), v.std()) for k, v in mjds.items() if not k.startswith(\"b4\")}"
   ]
  },
  {
   "cell_type": "code",
   "execution_count": null,
   "metadata": {},
   "outputs": [],
   "source": []
  }
 ],
 "metadata": {
  "kernelspec": {
   "display_name": "Python 2",
   "language": "python",
   "name": "python2"
  },
  "language_info": {
   "codemirror_mode": {
    "name": "ipython",
    "version": 2
   },
   "file_extension": ".py",
   "mimetype": "text/x-python",
   "name": "python",
   "nbconvert_exporter": "python",
   "pygments_lexer": "ipython2",
   "version": "2.7.14"
  }
 },
 "nbformat": 4,
 "nbformat_minor": 2
}
