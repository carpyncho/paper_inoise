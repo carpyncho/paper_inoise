{
 "cells": [
  {
   "cell_type": "code",
   "execution_count": 1,
   "metadata": {},
   "outputs": [],
   "source": [
    "from __future__ import print_function\n",
    "\n",
    "from sklearn import datasets\n",
    "from sklearn.model_selection import train_test_split\n",
    "from sklearn.model_selection import GridSearchCV\n",
    "from sklearn.metrics import classification_report\n",
    "from sklearn.svm import SVC\n",
    "\n",
    "import pickle\n",
    "\n",
    "import numpy as np\n",
    "\n",
    "import pandas as pd\n",
    "\n",
    "% matplotlib inline\n",
    "import matplotlib.pyplot as plt\n",
    "import seaborn as sns\n",
    "# sns.set()\n",
    "\n",
    "from sklearn.svm import SVC\n",
    "from sklearn.tree import DecisionTreeClassifier\n",
    "from sklearn.ensemble import RandomForestClassifier\n",
    "from sklearn.neighbors import KNeighborsClassifier\n",
    "\n",
    "from sklearn.preprocessing import StandardScaler\n",
    "\n",
    "import joblib\n",
    "\n",
    "from libs.container import Container\n",
    "from libs.display import d\n",
    "from libs.experiment import KFoldExperiment, WithAnotherExperiment, roc"
   ]
  },
  {
   "cell_type": "code",
   "execution_count": 2,
   "metadata": {},
   "outputs": [],
   "source": [
    "cpu = joblib.cpu_count()"
   ]
  },
  {
   "cell_type": "code",
   "execution_count": 3,
   "metadata": {},
   "outputs": [
    {
     "data": {
      "text/plain": [
       "16"
      ]
     },
     "execution_count": 3,
     "metadata": {},
     "output_type": "execute_result"
    }
   ],
   "source": [
    "cpu"
   ]
  },
  {
   "cell_type": "code",
   "execution_count": 4,
   "metadata": {},
   "outputs": [],
   "source": [
    "sample = pd.read_pickle(\"data/scaled/sample.pkl.bz2\")\n",
    "sample[\"tile\"] = sample[\"id\"].apply(lambda i: \"b\" + str(i)[1:4])\n",
    "\n",
    "no_features = [\"id\", \"vs_catalog\", \"vs_type\", \"ra_k\", \"dec_k\", \"tile\", \"cls\"] \n",
    "X_columns = [c for c in sample.columns if c not in no_features]\n",
    "\n",
    "grouped = sample.groupby(\"tile\")\n",
    "data = Container({k: grouped.get_group(k).copy() for k in grouped.groups.keys()})\n",
    "\n",
    "del grouped, sample"
   ]
  },
  {
   "cell_type": "code",
   "execution_count": 5,
   "metadata": {},
   "outputs": [
    {
     "name": "stdout",
     "output_type": "stream",
     "text": [
      "{'b261': 1, 'b278': 0}\n"
     ]
    }
   ],
   "source": [
    "df = pd.concat([data.b278, data.b261])\n",
    "\n",
    "cls = {name: idx for idx, name in enumerate(df.tile.unique())}\n",
    "df[\"cls\"] = df.tile.apply(cls.get)\n",
    "\n",
    "print(cls)"
   ]
  },
  {
   "cell_type": "code",
   "execution_count": 6,
   "metadata": {},
   "outputs": [],
   "source": [
    "X = df[X_columns].values\n",
    "y = df.cls.values"
   ]
  },
  {
   "cell_type": "code",
   "execution_count": 7,
   "metadata": {},
   "outputs": [
    {
     "name": "stdout",
     "output_type": "stream",
     "text": [
      "# Tuning hyper-parameters for precision\n",
      "\n",
      "Best parameters set found on development set:\n",
      "\n",
      "{'kernel': 'rbf', 'C': 1000, 'gamma': 0.001}\n",
      "\n",
      "Grid scores on development set:\n",
      "\n",
      "0.629 (+/-0.058) for {'kernel': 'rbf', 'C': 1, 'gamma': 0.001}\n",
      "0.525 (+/-0.188) for {'kernel': 'rbf', 'C': 1, 'gamma': 0.0001}\n",
      "0.686 (+/-0.022) for {'kernel': 'rbf', 'C': 10, 'gamma': 0.001}\n",
      "0.652 (+/-0.053) for {'kernel': 'rbf', 'C': 10, 'gamma': 0.0001}\n",
      "0.711 (+/-0.021) for {'kernel': 'rbf', 'C': 100, 'gamma': 0.001}\n",
      "0.676 (+/-0.022) for {'kernel': 'rbf', 'C': 100, 'gamma': 0.0001}\n",
      "0.734 (+/-0.022) for {'kernel': 'rbf', 'C': 1000, 'gamma': 0.001}\n",
      "0.694 (+/-0.034) for {'kernel': 'rbf', 'C': 1000, 'gamma': 0.0001}\n",
      "0.680 (+/-0.036) for {'kernel': 'linear', 'C': 1}\n",
      "0.692 (+/-0.045) for {'kernel': 'linear', 'C': 10}\n",
      "0.696 (+/-0.045) for {'kernel': 'linear', 'C': 100}\n",
      "0.693 (+/-0.054) for {'kernel': 'linear', 'C': 1000}\n",
      "\n",
      "Detailed classification report:\n",
      "\n",
      "The model is trained on the full development set.\n",
      "The scores are computed on the full evaluation set.\n",
      "\n",
      "              precision    recall  f1-score   support\n",
      "\n",
      "           0       0.76      0.72      0.74       214\n",
      "           1       0.69      0.74      0.72       184\n",
      "\n",
      "   micro avg       0.73      0.73      0.73       398\n",
      "   macro avg       0.73      0.73      0.73       398\n",
      "weighted avg       0.73      0.73      0.73       398\n",
      "\n",
      "\n",
      "# Tuning hyper-parameters for recall\n",
      "\n",
      "Best parameters set found on development set:\n",
      "\n",
      "{'kernel': 'rbf', 'C': 1000, 'gamma': 0.001}\n",
      "\n",
      "Grid scores on development set:\n",
      "\n",
      "0.603 (+/-0.044) for {'kernel': 'rbf', 'C': 1, 'gamma': 0.001}\n",
      "0.503 (+/-0.014) for {'kernel': 'rbf', 'C': 1, 'gamma': 0.0001}\n",
      "0.683 (+/-0.026) for {'kernel': 'rbf', 'C': 10, 'gamma': 0.001}\n",
      "0.621 (+/-0.035) for {'kernel': 'rbf', 'C': 10, 'gamma': 0.0001}\n",
      "0.708 (+/-0.023) for {'kernel': 'rbf', 'C': 100, 'gamma': 0.001}\n",
      "0.672 (+/-0.026) for {'kernel': 'rbf', 'C': 100, 'gamma': 0.0001}\n",
      "0.732 (+/-0.023) for {'kernel': 'rbf', 'C': 1000, 'gamma': 0.001}\n",
      "0.691 (+/-0.035) for {'kernel': 'rbf', 'C': 1000, 'gamma': 0.0001}\n",
      "0.677 (+/-0.037) for {'kernel': 'linear', 'C': 1}\n",
      "0.689 (+/-0.047) for {'kernel': 'linear', 'C': 10}\n",
      "0.694 (+/-0.049) for {'kernel': 'linear', 'C': 100}\n",
      "0.691 (+/-0.058) for {'kernel': 'linear', 'C': 1000}\n",
      "\n",
      "Detailed classification report:\n",
      "\n",
      "The model is trained on the full development set.\n",
      "The scores are computed on the full evaluation set.\n",
      "\n",
      "              precision    recall  f1-score   support\n",
      "\n",
      "           0       0.76      0.72      0.74       214\n",
      "           1       0.69      0.74      0.72       184\n",
      "\n",
      "   micro avg       0.73      0.73      0.73       398\n",
      "   macro avg       0.73      0.73      0.73       398\n",
      "weighted avg       0.73      0.73      0.73       398\n",
      "\n",
      "\n",
      "CPU times: user 2.96 s, sys: 438 ms, total: 3.39 s\n",
      "Wall time: 18min 23s\n"
     ]
    }
   ],
   "source": [
    "%%time\n",
    "# Split the dataset in two equal parts\n",
    "X_train, X_test, y_train, y_test = train_test_split(\n",
    "    X, y, test_size=0.2, random_state=0)\n",
    "\n",
    "# Set the parameters by cross-validation\n",
    "tuned_parameters = [\n",
    "    {'kernel': ['rbf'], 'gamma': [1e-3, 1e-4], 'C': [1, 10, 100, 1000]},\n",
    "    {'kernel': ['linear'], 'C': [1, 10, 100, 1000]}\n",
    "]\n",
    "\n",
    "scores = ['precision', 'recall']\n",
    "\n",
    "for score in scores:\n",
    "    print(\"# Tuning hyper-parameters for %s\" % score)\n",
    "    print()\n",
    "\n",
    "    clf = GridSearchCV(SVC(), tuned_parameters, cv=5, n_jobs=cpu,\n",
    "                       scoring='%s_macro' % score)\n",
    "    clf.fit(X_train, y_train)\n",
    "\n",
    "    print(\"Best parameters set found on development set:\")\n",
    "    print()\n",
    "    print(clf.best_params_)\n",
    "    print()\n",
    "    print(\"Grid scores on development set:\")\n",
    "    print()\n",
    "    means = clf.cv_results_['mean_test_score']\n",
    "    stds = clf.cv_results_['std_test_score']\n",
    "    for mean, std, params in zip(means, stds, clf.cv_results_['params']):\n",
    "        print(\"%0.3f (+/-%0.03f) for %r\"\n",
    "              % (mean, std * 2, params))\n",
    "    print()\n",
    "\n",
    "    print(\"Detailed classification report:\")\n",
    "    print()\n",
    "    print(\"The model is trained on the full development set.\")\n",
    "    print(\"The scores are computed on the full evaluation set.\")\n",
    "    print()\n",
    "    y_true, y_pred = y_test, clf.predict(X_test)\n",
    "    print(classification_report(y_true, y_pred))\n",
    "    print()"
   ]
  },
  {
   "cell_type": "code",
   "execution_count": 8,
   "metadata": {},
   "outputs": [
    {
     "data": {
      "text/plain": [
       "[5, 6, 7, 8, 9, 10, 11, 12, 13, 14, 7.5498344352707498]"
      ]
     },
     "execution_count": 8,
     "metadata": {},
     "output_type": "execute_result"
    }
   ],
   "source": [
    "list(range(5, 15)) + [np.sqrt(len(X_columns))]"
   ]
  },
  {
   "cell_type": "code",
   "execution_count": 9,
   "metadata": {},
   "outputs": [
    {
     "name": "stdout",
     "output_type": "stream",
     "text": [
      "# Tuning hyper-parameters for precision\n",
      "\n",
      "Best parameters set found on development set:\n",
      "\n",
      "{'max_features': 0.5, 'min_samples_split': 5, 'n_jobs': 10, 'criterion': 'entropy', 'n_estimators': 500}\n",
      "\n",
      "Grid scores on development set:\n",
      "\n",
      "0.805 (+/-0.030) for {'max_features': 'auto', 'min_samples_split': 2, 'n_jobs': 10, 'criterion': 'entropy', 'n_estimators': 500}\n",
      "0.810 (+/-0.044) for {'max_features': 'auto', 'min_samples_split': 5, 'n_jobs': 10, 'criterion': 'entropy', 'n_estimators': 500}\n",
      "0.806 (+/-0.025) for {'max_features': 'auto', 'min_samples_split': 10, 'n_jobs': 10, 'criterion': 'entropy', 'n_estimators': 500}\n",
      "0.815 (+/-0.032) for {'max_features': 'sqrt', 'min_samples_split': 2, 'n_jobs': 10, 'criterion': 'entropy', 'n_estimators': 500}\n",
      "0.804 (+/-0.038) for {'max_features': 'sqrt', 'min_samples_split': 5, 'n_jobs': 10, 'criterion': 'entropy', 'n_estimators': 500}\n",
      "0.810 (+/-0.040) for {'max_features': 'sqrt', 'min_samples_split': 10, 'n_jobs': 10, 'criterion': 'entropy', 'n_estimators': 500}\n",
      "0.793 (+/-0.016) for {'max_features': 'log2', 'min_samples_split': 2, 'n_jobs': 10, 'criterion': 'entropy', 'n_estimators': 500}\n",
      "0.801 (+/-0.020) for {'max_features': 'log2', 'min_samples_split': 5, 'n_jobs': 10, 'criterion': 'entropy', 'n_estimators': 500}\n",
      "0.794 (+/-0.026) for {'max_features': 'log2', 'min_samples_split': 10, 'n_jobs': 10, 'criterion': 'entropy', 'n_estimators': 500}\n",
      "0.847 (+/-0.044) for {'max_features': None, 'min_samples_split': 2, 'n_jobs': 10, 'criterion': 'entropy', 'n_estimators': 500}\n",
      "0.851 (+/-0.035) for {'max_features': None, 'min_samples_split': 5, 'n_jobs': 10, 'criterion': 'entropy', 'n_estimators': 500}\n",
      "0.848 (+/-0.033) for {'max_features': None, 'min_samples_split': 10, 'n_jobs': 10, 'criterion': 'entropy', 'n_estimators': 500}\n",
      "0.831 (+/-0.051) for {'max_features': 0.2, 'min_samples_split': 2, 'n_jobs': 10, 'criterion': 'entropy', 'n_estimators': 500}\n",
      "0.826 (+/-0.038) for {'max_features': 0.2, 'min_samples_split': 5, 'n_jobs': 10, 'criterion': 'entropy', 'n_estimators': 500}\n",
      "0.824 (+/-0.042) for {'max_features': 0.2, 'min_samples_split': 10, 'n_jobs': 10, 'criterion': 'entropy', 'n_estimators': 500}\n",
      "0.845 (+/-0.049) for {'max_features': 0.5, 'min_samples_split': 2, 'n_jobs': 10, 'criterion': 'entropy', 'n_estimators': 500}\n",
      "0.852 (+/-0.050) for {'max_features': 0.5, 'min_samples_split': 5, 'n_jobs': 10, 'criterion': 'entropy', 'n_estimators': 500}\n",
      "0.848 (+/-0.048) for {'max_features': 0.5, 'min_samples_split': 10, 'n_jobs': 10, 'criterion': 'entropy', 'n_estimators': 500}\n",
      "\n",
      "Detailed classification report:\n",
      "\n",
      "The model is trained on the full development set.\n",
      "The scores are computed on the full evaluation set.\n",
      "\n",
      "              precision    recall  f1-score   support\n",
      "\n",
      "           0       0.89      0.90      0.90       214\n",
      "           1       0.88      0.87      0.88       184\n",
      "\n",
      "   micro avg       0.89      0.89      0.89       398\n",
      "   macro avg       0.89      0.89      0.89       398\n",
      "weighted avg       0.89      0.89      0.89       398\n",
      "\n",
      "\n",
      "# Tuning hyper-parameters for recall\n",
      "\n",
      "Best parameters set found on development set:\n",
      "\n",
      "{'max_features': 0.5, 'min_samples_split': 5, 'n_jobs': 10, 'criterion': 'entropy', 'n_estimators': 500}\n",
      "\n",
      "Grid scores on development set:\n",
      "\n",
      "0.806 (+/-0.033) for {'max_features': 'auto', 'min_samples_split': 2, 'n_jobs': 10, 'criterion': 'entropy', 'n_estimators': 500}\n",
      "0.808 (+/-0.032) for {'max_features': 'auto', 'min_samples_split': 5, 'n_jobs': 10, 'criterion': 'entropy', 'n_estimators': 500}\n",
      "0.808 (+/-0.029) for {'max_features': 'auto', 'min_samples_split': 10, 'n_jobs': 10, 'criterion': 'entropy', 'n_estimators': 500}\n",
      "0.805 (+/-0.041) for {'max_features': 'sqrt', 'min_samples_split': 2, 'n_jobs': 10, 'criterion': 'entropy', 'n_estimators': 500}\n",
      "0.812 (+/-0.026) for {'max_features': 'sqrt', 'min_samples_split': 5, 'n_jobs': 10, 'criterion': 'entropy', 'n_estimators': 500}\n",
      "0.811 (+/-0.031) for {'max_features': 'sqrt', 'min_samples_split': 10, 'n_jobs': 10, 'criterion': 'entropy', 'n_estimators': 500}\n",
      "0.796 (+/-0.029) for {'max_features': 'log2', 'min_samples_split': 2, 'n_jobs': 10, 'criterion': 'entropy', 'n_estimators': 500}\n",
      "0.798 (+/-0.040) for {'max_features': 'log2', 'min_samples_split': 5, 'n_jobs': 10, 'criterion': 'entropy', 'n_estimators': 500}\n",
      "0.793 (+/-0.033) for {'max_features': 'log2', 'min_samples_split': 10, 'n_jobs': 10, 'criterion': 'entropy', 'n_estimators': 500}\n",
      "0.844 (+/-0.041) for {'max_features': None, 'min_samples_split': 2, 'n_jobs': 10, 'criterion': 'entropy', 'n_estimators': 500}\n",
      "0.848 (+/-0.034) for {'max_features': None, 'min_samples_split': 5, 'n_jobs': 10, 'criterion': 'entropy', 'n_estimators': 500}\n",
      "0.847 (+/-0.039) for {'max_features': None, 'min_samples_split': 10, 'n_jobs': 10, 'criterion': 'entropy', 'n_estimators': 500}\n",
      "0.829 (+/-0.043) for {'max_features': 0.2, 'min_samples_split': 2, 'n_jobs': 10, 'criterion': 'entropy', 'n_estimators': 500}\n",
      "0.829 (+/-0.037) for {'max_features': 0.2, 'min_samples_split': 5, 'n_jobs': 10, 'criterion': 'entropy', 'n_estimators': 500}\n",
      "0.826 (+/-0.046) for {'max_features': 0.2, 'min_samples_split': 10, 'n_jobs': 10, 'criterion': 'entropy', 'n_estimators': 500}\n",
      "0.850 (+/-0.054) for {'max_features': 0.5, 'min_samples_split': 2, 'n_jobs': 10, 'criterion': 'entropy', 'n_estimators': 500}\n",
      "0.852 (+/-0.051) for {'max_features': 0.5, 'min_samples_split': 5, 'n_jobs': 10, 'criterion': 'entropy', 'n_estimators': 500}\n",
      "0.851 (+/-0.053) for {'max_features': 0.5, 'min_samples_split': 10, 'n_jobs': 10, 'criterion': 'entropy', 'n_estimators': 500}\n",
      "\n",
      "Detailed classification report:\n",
      "\n",
      "The model is trained on the full development set.\n",
      "The scores are computed on the full evaluation set.\n",
      "\n",
      "              precision    recall  f1-score   support\n",
      "\n",
      "           0       0.89      0.92      0.91       214\n",
      "           1       0.90      0.88      0.89       184\n",
      "\n",
      "   micro avg       0.90      0.90      0.90       398\n",
      "   macro avg       0.90      0.90      0.90       398\n",
      "weighted avg       0.90      0.90      0.90       398\n",
      "\n",
      "\n",
      "CPU times: user 1min 30s, sys: 650 ms, total: 1min 30s\n",
      "Wall time: 5min 49s\n"
     ]
    }
   ],
   "source": [
    "%%time\n",
    "# Split the dataset in two equal parts\n",
    "X_train, X_test, y_train, y_test = train_test_split(\n",
    "    X, y, test_size=0.2, random_state=0)\n",
    "\n",
    "# Set the parameters by cross-validation\n",
    "tuned_parameters = [\n",
    "    {'max_features': ['auto', 'sqrt', \"log2\", None, 0.2, 0.5], \n",
    "     \"min_samples_split\": [2, 5, 10],\n",
    "     \"n_estimators\": [500], \n",
    "     \"criterion\": [\"entropy\"], \n",
    "     \"n_jobs\": [10]}]\n",
    "\n",
    "scores = ['precision', 'recall']\n",
    "\n",
    "for score in scores:\n",
    "    print(\"# Tuning hyper-parameters for %s\" % score)\n",
    "    print()\n",
    "\n",
    "    clf = GridSearchCV(RandomForestClassifier(), tuned_parameters, cv=5, n_jobs=cpu,\n",
    "                       scoring='%s_macro' % score)\n",
    "    clf.fit(X_train, y_train)\n",
    "\n",
    "    print(\"Best parameters set found on development set:\")\n",
    "    print()\n",
    "    print(clf.best_params_)\n",
    "    print()\n",
    "    print(\"Grid scores on development set:\")\n",
    "    print()\n",
    "    means = clf.cv_results_['mean_test_score']\n",
    "    stds = clf.cv_results_['std_test_score']\n",
    "    for mean, std, params in zip(means, stds, clf.cv_results_['params']):\n",
    "        print(\"%0.3f (+/-%0.03f) for %r\"\n",
    "              % (mean, std * 2, params))\n",
    "    print()\n",
    "\n",
    "    print(\"Detailed classification report:\")\n",
    "    print()\n",
    "    print(\"The model is trained on the full development set.\")\n",
    "    print(\"The scores are computed on the full evaluation set.\")\n",
    "    print()\n",
    "    y_true, y_pred = y_test, clf.predict(X_test)\n",
    "    print(classification_report(y_true, y_pred))\n",
    "    print()"
   ]
  },
  {
   "cell_type": "code",
   "execution_count": 10,
   "metadata": {},
   "outputs": [
    {
     "data": {
      "text/plain": [
       "True"
      ]
     },
     "execution_count": 10,
     "metadata": {},
     "output_type": "execute_result"
    }
   ],
   "source": [
    "# Random Forest \n",
    "RF_prec = {'max_features': None, 'min_samples_split': 10, 'n_jobs': 10, 'criterion': 'entropy', 'n_estimators': 500}\n",
    "RF_recall = {'max_features': None, 'min_samples_split': 10, 'n_jobs': 10, 'criterion': 'entropy', 'n_estimators': 500}\n",
    "\n",
    "RF_prec == RF_recall"
   ]
  },
  {
   "cell_type": "code",
   "execution_count": 11,
   "metadata": {},
   "outputs": [
    {
     "data": {
      "text/plain": [
       "True"
      ]
     },
     "execution_count": 11,
     "metadata": {},
     "output_type": "execute_result"
    }
   ],
   "source": [
    "SVM_prec = {'kernel': 'rbf', 'C': 1000, 'gamma': 0.001}\n",
    "SVM_recall = {'kernel': 'rbf', 'C': 1000, 'gamma': 0.001}\n",
    "\n",
    "SVM_recall == SVM_prec"
   ]
  },
  {
   "cell_type": "code",
   "execution_count": null,
   "metadata": {},
   "outputs": [],
   "source": []
  }
 ],
 "metadata": {
  "kernelspec": {
   "display_name": "Python 2",
   "language": "python",
   "name": "python2"
  },
  "language_info": {
   "codemirror_mode": {
    "name": "ipython",
    "version": 2
   },
   "file_extension": ".py",
   "mimetype": "text/x-python",
   "name": "python",
   "nbconvert_exporter": "python",
   "pygments_lexer": "ipython2",
   "version": "2.7.15"
  }
 },
 "nbformat": 4,
 "nbformat_minor": 2
}
