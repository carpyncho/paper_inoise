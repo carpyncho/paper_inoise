{
 "cells": [
  {
   "cell_type": "code",
   "execution_count": 1,
   "metadata": {},
   "outputs": [],
   "source": [
    "from __future__ import print_function\n",
    "\n",
    "from sklearn import datasets\n",
    "from sklearn.model_selection import train_test_split\n",
    "from sklearn.model_selection import GridSearchCV\n",
    "from sklearn.metrics import classification_report\n",
    "from sklearn.svm import SVC\n",
    "\n",
    "import pickle\n",
    "\n",
    "import numpy as np\n",
    "\n",
    "import pandas as pd\n",
    "\n",
    "% matplotlib inline\n",
    "import matplotlib.pyplot as plt\n",
    "import seaborn as sns\n",
    "# sns.set()\n",
    "\n",
    "from sklearn.ensemble import RandomForestClassifier\n",
    "from sklearn.feature_selection import RFECV\n",
    "\n",
    "import joblib\n",
    "\n",
    "from libs.container import Container\n",
    "from libs.display import d\n",
    "from libs.experiment import KFoldExperiment, WithAnotherExperiment, roc"
   ]
  },
  {
   "cell_type": "code",
   "execution_count": 2,
   "metadata": {},
   "outputs": [],
   "source": [
    "cpu = joblib.cpu_count()"
   ]
  },
  {
   "cell_type": "code",
   "execution_count": 3,
   "metadata": {},
   "outputs": [
    {
     "data": {
      "text/plain": [
       "{'b261': 1, 'b278': 0}"
      ]
     },
     "execution_count": 3,
     "metadata": {},
     "output_type": "execute_result"
    }
   ],
   "source": [
    "sample = pd.read_pickle(\"data/scaled/sample.pkl.bz2\")\n",
    "sample[\"tile\"] = sample[\"id\"].apply(lambda i: \"b\" + str(i)[1:4])\n",
    "\n",
    "no_features = [\"id\", \"vs_catalog\", \"vs_type\", \"ra_k\", \"dec_k\", \"tile\", \"cls\"] \n",
    "X_columns = [c for c in sample.columns if c not in no_features]\n",
    "\n",
    "grouped = sample.groupby(\"tile\")\n",
    "data = Container({k: grouped.get_group(k).copy() for k in grouped.groups.keys()})\n",
    "data = Container(data=pd.concat([data.b278, data.b261]))\n",
    "\n",
    "cls = {name: idx for idx, name in enumerate(data.data.tile.unique())}\n",
    "data.data[\"cls\"] = data.data.tile.apply(cls.get)\n",
    "\n",
    "del grouped, sample\n",
    "\n",
    "cls"
   ]
  },
  {
   "cell_type": "code",
   "execution_count": 4,
   "metadata": {},
   "outputs": [],
   "source": [
    "cls = {v: v for v in cls.values()}"
   ]
  },
  {
   "cell_type": "code",
   "execution_count": 5,
   "metadata": {},
   "outputs": [],
   "source": [
    "RF_PARAMS = {\n",
    "    'max_features': .5, 'min_samples_split': 10, 'n_jobs': cpu, \n",
    "    'criterion': 'entropy', 'n_estimators': 500}"
   ]
  },
  {
   "cell_type": "code",
   "execution_count": 6,
   "metadata": {},
   "outputs": [],
   "source": [
    "X = data.data[X_columns].values\n",
    "y = data.data.cls.values"
   ]
  },
  {
   "cell_type": "code",
   "execution_count": 7,
   "metadata": {},
   "outputs": [
    {
     "name": "stdout",
     "output_type": "stream",
     "text": [
      "CPU times: user 31min 22s, sys: 7.63 s, total: 31min 30s\n",
      "Wall time: 25min 18s\n"
     ]
    }
   ],
   "source": [
    "%%time\n",
    "clf = RandomForestClassifier(**RF_PARAMS)\n",
    "sel = RFECV(clf, n_jobs=cpu, cv=10)\n",
    "sel.fit(X, y)"
   ]
  },
  {
   "cell_type": "code",
   "execution_count": 23,
   "metadata": {},
   "outputs": [],
   "source": [
    "df = pd.DataFrame({\n",
    "    \"Feature\": X_columns, \n",
    "    \"Selected\": sel.support_, \"Ranking\": sel.ranking_, \"Scores\": sel.grid_scores_})\n",
    "df = df.reset_index(drop=True)\n",
    "df.to_pickle(\"data/ranking.pkl.bz2\", compression=\"bz2\")"
   ]
  },
  {
   "cell_type": "code",
   "execution_count": 24,
   "metadata": {},
   "outputs": [
    {
     "name": "stdout",
     "output_type": "stream",
     "text": [
      "Selected Features:  6\n"
     ]
    }
   ],
   "source": [
    "print(\"Selected Features: \", sum(df.Selected.values))"
   ]
  },
  {
   "cell_type": "code",
   "execution_count": 25,
   "metadata": {},
   "outputs": [
    {
     "data": {
      "text/html": [
       "<style  type=\"text/css\" >\n",
       "    #T_f19cd34c_d01d_11e9_bbb5_67f4fdcc77earow0_col0 {\n",
       "            background-color:  #7EA489;\n",
       "        }    #T_f19cd34c_d01d_11e9_bbb5_67f4fdcc77earow0_col1 {\n",
       "            background-color:  #7EA489;\n",
       "        }    #T_f19cd34c_d01d_11e9_bbb5_67f4fdcc77earow0_col2 {\n",
       "            background-color:  #7EA489;\n",
       "        }    #T_f19cd34c_d01d_11e9_bbb5_67f4fdcc77earow0_col3 {\n",
       "            background-color:  #7EA489;\n",
       "        }    #T_f19cd34c_d01d_11e9_bbb5_67f4fdcc77earow1_col0 {\n",
       "            background-color:  #7EA489;\n",
       "        }    #T_f19cd34c_d01d_11e9_bbb5_67f4fdcc77earow1_col1 {\n",
       "            background-color:  #7EA489;\n",
       "        }    #T_f19cd34c_d01d_11e9_bbb5_67f4fdcc77earow1_col2 {\n",
       "            background-color:  #7EA489;\n",
       "        }    #T_f19cd34c_d01d_11e9_bbb5_67f4fdcc77earow1_col3 {\n",
       "            background-color:  #7EA489;\n",
       "        }    #T_f19cd34c_d01d_11e9_bbb5_67f4fdcc77earow2_col0 {\n",
       "            background-color:  #7EA489;\n",
       "        }    #T_f19cd34c_d01d_11e9_bbb5_67f4fdcc77earow2_col1 {\n",
       "            background-color:  #7EA489;\n",
       "        }    #T_f19cd34c_d01d_11e9_bbb5_67f4fdcc77earow2_col2 {\n",
       "            background-color:  #7EA489;\n",
       "        }    #T_f19cd34c_d01d_11e9_bbb5_67f4fdcc77earow2_col3 {\n",
       "            background-color:  #7EA489;\n",
       "        }    #T_f19cd34c_d01d_11e9_bbb5_67f4fdcc77earow3_col0 {\n",
       "            background-color:  #7EA489;\n",
       "        }    #T_f19cd34c_d01d_11e9_bbb5_67f4fdcc77earow3_col1 {\n",
       "            background-color:  #7EA489;\n",
       "        }    #T_f19cd34c_d01d_11e9_bbb5_67f4fdcc77earow3_col2 {\n",
       "            background-color:  #7EA489;\n",
       "        }    #T_f19cd34c_d01d_11e9_bbb5_67f4fdcc77earow3_col3 {\n",
       "            background-color:  #7EA489;\n",
       "        }    #T_f19cd34c_d01d_11e9_bbb5_67f4fdcc77earow4_col0 {\n",
       "            background-color:  #7EA489;\n",
       "        }    #T_f19cd34c_d01d_11e9_bbb5_67f4fdcc77earow4_col1 {\n",
       "            background-color:  #7EA489;\n",
       "        }    #T_f19cd34c_d01d_11e9_bbb5_67f4fdcc77earow4_col2 {\n",
       "            background-color:  #7EA489;\n",
       "        }    #T_f19cd34c_d01d_11e9_bbb5_67f4fdcc77earow4_col3 {\n",
       "            background-color:  #7EA489;\n",
       "        }    #T_f19cd34c_d01d_11e9_bbb5_67f4fdcc77earow5_col0 {\n",
       "            background-color:  #7EA489;\n",
       "        }    #T_f19cd34c_d01d_11e9_bbb5_67f4fdcc77earow5_col1 {\n",
       "            background-color:  #7EA489;\n",
       "        }    #T_f19cd34c_d01d_11e9_bbb5_67f4fdcc77earow5_col2 {\n",
       "            background-color:  #7EA489;\n",
       "        }    #T_f19cd34c_d01d_11e9_bbb5_67f4fdcc77earow5_col3 {\n",
       "            background-color:  #7EA489;\n",
       "        }</style>  \n",
       "<table id=\"T_f19cd34c_d01d_11e9_bbb5_67f4fdcc77ea\" > \n",
       "<thead>    <tr> \n",
       "        <th class=\"blank level0\" ></th> \n",
       "        <th class=\"col_heading level0 col0\" >Feature</th> \n",
       "        <th class=\"col_heading level0 col1\" >Ranking</th> \n",
       "        <th class=\"col_heading level0 col2\" >Scores</th> \n",
       "        <th class=\"col_heading level0 col3\" >Selected</th> \n",
       "    </tr></thead> \n",
       "<tbody>    <tr> \n",
       "        <th id=\"T_f19cd34c_d01d_11e9_bbb5_67f4fdcc77ea\" class=\"row_heading level0 row0\" >26</th> \n",
       "        <td id=\"T_f19cd34c_d01d_11e9_bbb5_67f4fdcc77earow0_col0\" class=\"data row0 col0\" >MaxSlope</td> \n",
       "        <td id=\"T_f19cd34c_d01d_11e9_bbb5_67f4fdcc77earow0_col1\" class=\"data row0 col1\" >1</td> \n",
       "        <td id=\"T_f19cd34c_d01d_11e9_bbb5_67f4fdcc77earow0_col2\" class=\"data row0 col2\" >0.8633</td> \n",
       "        <td id=\"T_f19cd34c_d01d_11e9_bbb5_67f4fdcc77earow0_col3\" class=\"data row0 col3\" >True</td> \n",
       "    </tr>    <tr> \n",
       "        <th id=\"T_f19cd34c_d01d_11e9_bbb5_67f4fdcc77ea\" class=\"row_heading level0 row1\" >49</th> \n",
       "        <td id=\"T_f19cd34c_d01d_11e9_bbb5_67f4fdcc77earow1_col0\" class=\"data row1 col0\" >cnt</td> \n",
       "        <td id=\"T_f19cd34c_d01d_11e9_bbb5_67f4fdcc77earow1_col1\" class=\"data row1 col1\" >1</td> \n",
       "        <td id=\"T_f19cd34c_d01d_11e9_bbb5_67f4fdcc77earow1_col2\" class=\"data row1 col2\" >0.8603</td> \n",
       "        <td id=\"T_f19cd34c_d01d_11e9_bbb5_67f4fdcc77earow1_col3\" class=\"data row1 col3\" >True</td> \n",
       "    </tr>    <tr> \n",
       "        <th id=\"T_f19cd34c_d01d_11e9_bbb5_67f4fdcc77ea\" class=\"row_heading level0 row2\" >47</th> \n",
       "        <td id=\"T_f19cd34c_d01d_11e9_bbb5_67f4fdcc77earow2_col0\" class=\"data row2 col0\" >c89_m2</td> \n",
       "        <td id=\"T_f19cd34c_d01d_11e9_bbb5_67f4fdcc77earow2_col1\" class=\"data row2 col1\" >1</td> \n",
       "        <td id=\"T_f19cd34c_d01d_11e9_bbb5_67f4fdcc77earow2_col2\" class=\"data row2 col2\" >0.8598</td> \n",
       "        <td id=\"T_f19cd34c_d01d_11e9_bbb5_67f4fdcc77earow2_col3\" class=\"data row2 col3\" >True</td> \n",
       "    </tr>    <tr> \n",
       "        <th id=\"T_f19cd34c_d01d_11e9_bbb5_67f4fdcc77ea\" class=\"row_heading level0 row3\" >27</th> \n",
       "        <td id=\"T_f19cd34c_d01d_11e9_bbb5_67f4fdcc77earow3_col0\" class=\"data row3 col0\" >Mean</td> \n",
       "        <td id=\"T_f19cd34c_d01d_11e9_bbb5_67f4fdcc77earow3_col1\" class=\"data row3 col1\" >1</td> \n",
       "        <td id=\"T_f19cd34c_d01d_11e9_bbb5_67f4fdcc77earow3_col2\" class=\"data row3 col2\" >0.8628</td> \n",
       "        <td id=\"T_f19cd34c_d01d_11e9_bbb5_67f4fdcc77earow3_col3\" class=\"data row3 col3\" >True</td> \n",
       "    </tr>    <tr> \n",
       "        <th id=\"T_f19cd34c_d01d_11e9_bbb5_67f4fdcc77ea\" class=\"row_heading level0 row4\" >33</th> \n",
       "        <td id=\"T_f19cd34c_d01d_11e9_bbb5_67f4fdcc77earow4_col0\" class=\"data row4 col0\" >PercentDifferenceFluxPercentile</td> \n",
       "        <td id=\"T_f19cd34c_d01d_11e9_bbb5_67f4fdcc77earow4_col1\" class=\"data row4 col1\" >1</td> \n",
       "        <td id=\"T_f19cd34c_d01d_11e9_bbb5_67f4fdcc77earow4_col2\" class=\"data row4 col2\" >0.8598</td> \n",
       "        <td id=\"T_f19cd34c_d01d_11e9_bbb5_67f4fdcc77earow4_col3\" class=\"data row4 col3\" >True</td> \n",
       "    </tr>    <tr> \n",
       "        <th id=\"T_f19cd34c_d01d_11e9_bbb5_67f4fdcc77ea\" class=\"row_heading level0 row5\" >11</th> \n",
       "        <td id=\"T_f19cd34c_d01d_11e9_bbb5_67f4fdcc77earow5_col0\" class=\"data row5 col0\" >Eta_e</td> \n",
       "        <td id=\"T_f19cd34c_d01d_11e9_bbb5_67f4fdcc77earow5_col1\" class=\"data row5 col1\" >1</td> \n",
       "        <td id=\"T_f19cd34c_d01d_11e9_bbb5_67f4fdcc77earow5_col2\" class=\"data row5 col2\" >0.8673</td> \n",
       "        <td id=\"T_f19cd34c_d01d_11e9_bbb5_67f4fdcc77earow5_col3\" class=\"data row5 col3\" >True</td> \n",
       "    </tr>    <tr> \n",
       "        <th id=\"T_f19cd34c_d01d_11e9_bbb5_67f4fdcc77ea\" class=\"row_heading level0 row6\" >48</th> \n",
       "        <td id=\"T_f19cd34c_d01d_11e9_bbb5_67f4fdcc77earow6_col0\" class=\"data row6 col0\" >c89_m4</td> \n",
       "        <td id=\"T_f19cd34c_d01d_11e9_bbb5_67f4fdcc77earow6_col1\" class=\"data row6 col1\" >2</td> \n",
       "        <td id=\"T_f19cd34c_d01d_11e9_bbb5_67f4fdcc77earow6_col2\" class=\"data row6 col2\" >0.8608</td> \n",
       "        <td id=\"T_f19cd34c_d01d_11e9_bbb5_67f4fdcc77earow6_col3\" class=\"data row6 col3\" >False</td> \n",
       "    </tr>    <tr> \n",
       "        <th id=\"T_f19cd34c_d01d_11e9_bbb5_67f4fdcc77ea\" class=\"row_heading level0 row7\" >7</th> \n",
       "        <td id=\"T_f19cd34c_d01d_11e9_bbb5_67f4fdcc77earow7_col0\" class=\"data row7 col0\" >CAR_mean</td> \n",
       "        <td id=\"T_f19cd34c_d01d_11e9_bbb5_67f4fdcc77earow7_col1\" class=\"data row7 col1\" >3</td> \n",
       "        <td id=\"T_f19cd34c_d01d_11e9_bbb5_67f4fdcc77earow7_col2\" class=\"data row7 col2\" >0.8688</td> \n",
       "        <td id=\"T_f19cd34c_d01d_11e9_bbb5_67f4fdcc77earow7_col3\" class=\"data row7 col3\" >False</td> \n",
       "    </tr>    <tr> \n",
       "        <th id=\"T_f19cd34c_d01d_11e9_bbb5_67f4fdcc77ea\" class=\"row_heading level0 row8\" >38</th> \n",
       "        <td id=\"T_f19cd34c_d01d_11e9_bbb5_67f4fdcc77earow8_col0\" class=\"data row8 col0\" >Q31</td> \n",
       "        <td id=\"T_f19cd34c_d01d_11e9_bbb5_67f4fdcc77earow8_col1\" class=\"data row8 col1\" >4</td> \n",
       "        <td id=\"T_f19cd34c_d01d_11e9_bbb5_67f4fdcc77earow8_col2\" class=\"data row8 col2\" >0.8583</td> \n",
       "        <td id=\"T_f19cd34c_d01d_11e9_bbb5_67f4fdcc77earow8_col3\" class=\"data row8 col3\" >False</td> \n",
       "    </tr>    <tr> \n",
       "        <th id=\"T_f19cd34c_d01d_11e9_bbb5_67f4fdcc77ea\" class=\"row_heading level0 row9\" >39</th> \n",
       "        <td id=\"T_f19cd34c_d01d_11e9_bbb5_67f4fdcc77earow9_col0\" class=\"data row9 col0\" >Rcs</td> \n",
       "        <td id=\"T_f19cd34c_d01d_11e9_bbb5_67f4fdcc77earow9_col1\" class=\"data row9 col1\" >5</td> \n",
       "        <td id=\"T_f19cd34c_d01d_11e9_bbb5_67f4fdcc77earow9_col2\" class=\"data row9 col2\" >0.8593</td> \n",
       "        <td id=\"T_f19cd34c_d01d_11e9_bbb5_67f4fdcc77earow9_col3\" class=\"data row9 col3\" >False</td> \n",
       "    </tr>    <tr> \n",
       "        <th id=\"T_f19cd34c_d01d_11e9_bbb5_67f4fdcc77ea\" class=\"row_heading level0 row10\" >34</th> \n",
       "        <td id=\"T_f19cd34c_d01d_11e9_bbb5_67f4fdcc77earow10_col0\" class=\"data row10 col0\" >PeriodLS</td> \n",
       "        <td id=\"T_f19cd34c_d01d_11e9_bbb5_67f4fdcc77earow10_col1\" class=\"data row10 col1\" >6</td> \n",
       "        <td id=\"T_f19cd34c_d01d_11e9_bbb5_67f4fdcc77earow10_col2\" class=\"data row10 col2\" >0.8577</td> \n",
       "        <td id=\"T_f19cd34c_d01d_11e9_bbb5_67f4fdcc77earow10_col3\" class=\"data row10 col3\" >False</td> \n",
       "    </tr>    <tr> \n",
       "        <th id=\"T_f19cd34c_d01d_11e9_bbb5_67f4fdcc77ea\" class=\"row_heading level0 row11\" >54</th> \n",
       "        <td id=\"T_f19cd34c_d01d_11e9_bbb5_67f4fdcc77earow11_col0\" class=\"data row11 col0\" >n09_m2</td> \n",
       "        <td id=\"T_f19cd34c_d01d_11e9_bbb5_67f4fdcc77earow11_col1\" class=\"data row11 col1\" >7</td> \n",
       "        <td id=\"T_f19cd34c_d01d_11e9_bbb5_67f4fdcc77earow11_col2\" class=\"data row11 col2\" >0.8608</td> \n",
       "        <td id=\"T_f19cd34c_d01d_11e9_bbb5_67f4fdcc77earow11_col3\" class=\"data row11 col3\" >False</td> \n",
       "    </tr>    <tr> \n",
       "        <th id=\"T_f19cd34c_d01d_11e9_bbb5_67f4fdcc77ea\" class=\"row_heading level0 row12\" >25</th> \n",
       "        <td id=\"T_f19cd34c_d01d_11e9_bbb5_67f4fdcc77earow12_col0\" class=\"data row12 col0\" >LinearTrend</td> \n",
       "        <td id=\"T_f19cd34c_d01d_11e9_bbb5_67f4fdcc77earow12_col1\" class=\"data row12 col1\" >8</td> \n",
       "        <td id=\"T_f19cd34c_d01d_11e9_bbb5_67f4fdcc77earow12_col2\" class=\"data row12 col2\" >0.8603</td> \n",
       "        <td id=\"T_f19cd34c_d01d_11e9_bbb5_67f4fdcc77earow12_col3\" class=\"data row12 col3\" >False</td> \n",
       "    </tr>    <tr> \n",
       "        <th id=\"T_f19cd34c_d01d_11e9_bbb5_67f4fdcc77ea\" class=\"row_heading level0 row13\" >28</th> \n",
       "        <td id=\"T_f19cd34c_d01d_11e9_bbb5_67f4fdcc77earow13_col0\" class=\"data row13 col0\" >Meanvariance</td> \n",
       "        <td id=\"T_f19cd34c_d01d_11e9_bbb5_67f4fdcc77earow13_col1\" class=\"data row13 col1\" >9</td> \n",
       "        <td id=\"T_f19cd34c_d01d_11e9_bbb5_67f4fdcc77earow13_col2\" class=\"data row13 col2\" >0.8578</td> \n",
       "        <td id=\"T_f19cd34c_d01d_11e9_bbb5_67f4fdcc77earow13_col3\" class=\"data row13 col3\" >False</td> \n",
       "    </tr>    <tr> \n",
       "        <th id=\"T_f19cd34c_d01d_11e9_bbb5_67f4fdcc77ea\" class=\"row_heading level0 row14\" >37</th> \n",
       "        <td id=\"T_f19cd34c_d01d_11e9_bbb5_67f4fdcc77earow14_col0\" class=\"data row14 col0\" >Psi_eta</td> \n",
       "        <td id=\"T_f19cd34c_d01d_11e9_bbb5_67f4fdcc77earow14_col1\" class=\"data row14 col1\" >10</td> \n",
       "        <td id=\"T_f19cd34c_d01d_11e9_bbb5_67f4fdcc77earow14_col2\" class=\"data row14 col2\" >0.8583</td> \n",
       "        <td id=\"T_f19cd34c_d01d_11e9_bbb5_67f4fdcc77earow14_col3\" class=\"data row14 col3\" >False</td> \n",
       "    </tr>    <tr> \n",
       "        <th id=\"T_f19cd34c_d01d_11e9_bbb5_67f4fdcc77ea\" class=\"row_heading level0 row15\" >40</th> \n",
       "        <td id=\"T_f19cd34c_d01d_11e9_bbb5_67f4fdcc77earow15_col0\" class=\"data row15 col0\" >Skew</td> \n",
       "        <td id=\"T_f19cd34c_d01d_11e9_bbb5_67f4fdcc77earow15_col1\" class=\"data row15 col1\" >11</td> \n",
       "        <td id=\"T_f19cd34c_d01d_11e9_bbb5_67f4fdcc77earow15_col2\" class=\"data row15 col2\" >0.8598</td> \n",
       "        <td id=\"T_f19cd34c_d01d_11e9_bbb5_67f4fdcc77earow15_col3\" class=\"data row15 col3\" >False</td> \n",
       "    </tr>    <tr> \n",
       "        <th id=\"T_f19cd34c_d01d_11e9_bbb5_67f4fdcc77ea\" class=\"row_heading level0 row16\" >51</th> \n",
       "        <td id=\"T_f19cd34c_d01d_11e9_bbb5_67f4fdcc77earow16_col0\" class=\"data row16 col0\" >n09_hk_color</td> \n",
       "        <td id=\"T_f19cd34c_d01d_11e9_bbb5_67f4fdcc77earow16_col1\" class=\"data row16 col1\" >12</td> \n",
       "        <td id=\"T_f19cd34c_d01d_11e9_bbb5_67f4fdcc77earow16_col2\" class=\"data row16 col2\" >0.8588</td> \n",
       "        <td id=\"T_f19cd34c_d01d_11e9_bbb5_67f4fdcc77earow16_col3\" class=\"data row16 col3\" >False</td> \n",
       "    </tr>    <tr> \n",
       "        <th id=\"T_f19cd34c_d01d_11e9_bbb5_67f4fdcc77ea\" class=\"row_heading level0 row17\" >17</th> \n",
       "        <td id=\"T_f19cd34c_d01d_11e9_bbb5_67f4fdcc77earow17_col0\" class=\"data row17 col0\" >Freq1_harmonics_amplitude_0</td> \n",
       "        <td id=\"T_f19cd34c_d01d_11e9_bbb5_67f4fdcc77earow17_col1\" class=\"data row17 col1\" >13</td> \n",
       "        <td id=\"T_f19cd34c_d01d_11e9_bbb5_67f4fdcc77earow17_col2\" class=\"data row17 col2\" >0.8623</td> \n",
       "        <td id=\"T_f19cd34c_d01d_11e9_bbb5_67f4fdcc77earow17_col3\" class=\"data row17 col3\" >False</td> \n",
       "    </tr>    <tr> \n",
       "        <th id=\"T_f19cd34c_d01d_11e9_bbb5_67f4fdcc77ea\" class=\"row_heading level0 row18\" >56</th> \n",
       "        <td id=\"T_f19cd34c_d01d_11e9_bbb5_67f4fdcc77earow18_col0\" class=\"data row18 col0\" >ppmb</td> \n",
       "        <td id=\"T_f19cd34c_d01d_11e9_bbb5_67f4fdcc77earow18_col1\" class=\"data row18 col1\" >14</td> \n",
       "        <td id=\"T_f19cd34c_d01d_11e9_bbb5_67f4fdcc77earow18_col2\" class=\"data row18 col2\" >0.8578</td> \n",
       "        <td id=\"T_f19cd34c_d01d_11e9_bbb5_67f4fdcc77earow18_col3\" class=\"data row18 col3\" >False</td> \n",
       "    </tr>    <tr> \n",
       "        <th id=\"T_f19cd34c_d01d_11e9_bbb5_67f4fdcc77ea\" class=\"row_heading level0 row19\" >55</th> \n",
       "        <td id=\"T_f19cd34c_d01d_11e9_bbb5_67f4fdcc77earow19_col0\" class=\"data row19 col0\" >n09_m4</td> \n",
       "        <td id=\"T_f19cd34c_d01d_11e9_bbb5_67f4fdcc77earow19_col1\" class=\"data row19 col1\" >15</td> \n",
       "        <td id=\"T_f19cd34c_d01d_11e9_bbb5_67f4fdcc77earow19_col2\" class=\"data row19 col2\" >0.8613</td> \n",
       "        <td id=\"T_f19cd34c_d01d_11e9_bbb5_67f4fdcc77earow19_col3\" class=\"data row19 col3\" >False</td> \n",
       "    </tr>    <tr> \n",
       "        <th id=\"T_f19cd34c_d01d_11e9_bbb5_67f4fdcc77ea\" class=\"row_heading level0 row20\" >20</th> \n",
       "        <td id=\"T_f19cd34c_d01d_11e9_bbb5_67f4fdcc77earow20_col0\" class=\"data row20 col0\" >Freq1_harmonics_amplitude_3</td> \n",
       "        <td id=\"T_f19cd34c_d01d_11e9_bbb5_67f4fdcc77earow20_col1\" class=\"data row20 col1\" >16</td> \n",
       "        <td id=\"T_f19cd34c_d01d_11e9_bbb5_67f4fdcc77earow20_col2\" class=\"data row20 col2\" >0.8623</td> \n",
       "        <td id=\"T_f19cd34c_d01d_11e9_bbb5_67f4fdcc77earow20_col3\" class=\"data row20 col3\" >False</td> \n",
       "    </tr>    <tr> \n",
       "        <th id=\"T_f19cd34c_d01d_11e9_bbb5_67f4fdcc77ea\" class=\"row_heading level0 row21\" >14</th> \n",
       "        <td id=\"T_f19cd34c_d01d_11e9_bbb5_67f4fdcc77earow21_col0\" class=\"data row21 col0\" >FluxPercentileRatioMid50</td> \n",
       "        <td id=\"T_f19cd34c_d01d_11e9_bbb5_67f4fdcc77earow21_col1\" class=\"data row21 col1\" >17</td> \n",
       "        <td id=\"T_f19cd34c_d01d_11e9_bbb5_67f4fdcc77earow21_col2\" class=\"data row21 col2\" >0.8643</td> \n",
       "        <td id=\"T_f19cd34c_d01d_11e9_bbb5_67f4fdcc77earow21_col3\" class=\"data row21 col3\" >False</td> \n",
       "    </tr>    <tr> \n",
       "        <th id=\"T_f19cd34c_d01d_11e9_bbb5_67f4fdcc77ea\" class=\"row_heading level0 row22\" >2</th> \n",
       "        <td id=\"T_f19cd34c_d01d_11e9_bbb5_67f4fdcc77earow22_col0\" class=\"data row22 col0\" >AmplitudeJ</td> \n",
       "        <td id=\"T_f19cd34c_d01d_11e9_bbb5_67f4fdcc77earow22_col1\" class=\"data row22 col1\" >18</td> \n",
       "        <td id=\"T_f19cd34c_d01d_11e9_bbb5_67f4fdcc77earow22_col2\" class=\"data row22 col2\" >0.8497</td> \n",
       "        <td id=\"T_f19cd34c_d01d_11e9_bbb5_67f4fdcc77earow22_col3\" class=\"data row22 col3\" >False</td> \n",
       "    </tr>    <tr> \n",
       "        <th id=\"T_f19cd34c_d01d_11e9_bbb5_67f4fdcc77ea\" class=\"row_heading level0 row23\" >50</th> \n",
       "        <td id=\"T_f19cd34c_d01d_11e9_bbb5_67f4fdcc77earow23_col0\" class=\"data row23 col0\" >n09_c3</td> \n",
       "        <td id=\"T_f19cd34c_d01d_11e9_bbb5_67f4fdcc77earow23_col1\" class=\"data row23 col1\" >19</td> \n",
       "        <td id=\"T_f19cd34c_d01d_11e9_bbb5_67f4fdcc77earow23_col2\" class=\"data row23 col2\" >0.8568</td> \n",
       "        <td id=\"T_f19cd34c_d01d_11e9_bbb5_67f4fdcc77earow23_col3\" class=\"data row23 col3\" >False</td> \n",
       "    </tr>    <tr> \n",
       "        <th id=\"T_f19cd34c_d01d_11e9_bbb5_67f4fdcc77ea\" class=\"row_heading level0 row24\" >36</th> \n",
       "        <td id=\"T_f19cd34c_d01d_11e9_bbb5_67f4fdcc77earow24_col0\" class=\"data row24 col0\" >Psi_CS</td> \n",
       "        <td id=\"T_f19cd34c_d01d_11e9_bbb5_67f4fdcc77earow24_col1\" class=\"data row24 col1\" >20</td> \n",
       "        <td id=\"T_f19cd34c_d01d_11e9_bbb5_67f4fdcc77earow24_col2\" class=\"data row24 col2\" >0.8603</td> \n",
       "        <td id=\"T_f19cd34c_d01d_11e9_bbb5_67f4fdcc77earow24_col3\" class=\"data row24 col3\" >False</td> \n",
       "    </tr>    <tr> \n",
       "        <th id=\"T_f19cd34c_d01d_11e9_bbb5_67f4fdcc77ea\" class=\"row_heading level0 row25\" >53</th> \n",
       "        <td id=\"T_f19cd34c_d01d_11e9_bbb5_67f4fdcc77earow25_col0\" class=\"data row25 col0\" >n09_jk_color</td> \n",
       "        <td id=\"T_f19cd34c_d01d_11e9_bbb5_67f4fdcc77earow25_col1\" class=\"data row25 col1\" >21</td> \n",
       "        <td id=\"T_f19cd34c_d01d_11e9_bbb5_67f4fdcc77earow25_col2\" class=\"data row25 col2\" >0.8578</td> \n",
       "        <td id=\"T_f19cd34c_d01d_11e9_bbb5_67f4fdcc77earow25_col3\" class=\"data row25 col3\" >False</td> \n",
       "    </tr>    <tr> \n",
       "        <th id=\"T_f19cd34c_d01d_11e9_bbb5_67f4fdcc77ea\" class=\"row_heading level0 row26\" >22</th> \n",
       "        <td id=\"T_f19cd34c_d01d_11e9_bbb5_67f4fdcc77earow26_col0\" class=\"data row26 col0\" >Freq1_harmonics_rel_phase_1</td> \n",
       "        <td id=\"T_f19cd34c_d01d_11e9_bbb5_67f4fdcc77earow26_col1\" class=\"data row26 col1\" >22</td> \n",
       "        <td id=\"T_f19cd34c_d01d_11e9_bbb5_67f4fdcc77earow26_col2\" class=\"data row26 col2\" >0.8608</td> \n",
       "        <td id=\"T_f19cd34c_d01d_11e9_bbb5_67f4fdcc77earow26_col3\" class=\"data row26 col3\" >False</td> \n",
       "    </tr>    <tr> \n",
       "        <th id=\"T_f19cd34c_d01d_11e9_bbb5_67f4fdcc77ea\" class=\"row_heading level0 row27\" >24</th> \n",
       "        <td id=\"T_f19cd34c_d01d_11e9_bbb5_67f4fdcc77earow27_col0\" class=\"data row27 col0\" >Freq1_harmonics_rel_phase_3</td> \n",
       "        <td id=\"T_f19cd34c_d01d_11e9_bbb5_67f4fdcc77earow27_col1\" class=\"data row27 col1\" >23</td> \n",
       "        <td id=\"T_f19cd34c_d01d_11e9_bbb5_67f4fdcc77earow27_col2\" class=\"data row27 col2\" >0.8608</td> \n",
       "        <td id=\"T_f19cd34c_d01d_11e9_bbb5_67f4fdcc77earow27_col3\" class=\"data row27 col3\" >False</td> \n",
       "    </tr>    <tr> \n",
       "        <th id=\"T_f19cd34c_d01d_11e9_bbb5_67f4fdcc77ea\" class=\"row_heading level0 row28\" >29</th> \n",
       "        <td id=\"T_f19cd34c_d01d_11e9_bbb5_67f4fdcc77earow28_col0\" class=\"data row28 col0\" >MedianAbsDev</td> \n",
       "        <td id=\"T_f19cd34c_d01d_11e9_bbb5_67f4fdcc77earow28_col1\" class=\"data row28 col1\" >24</td> \n",
       "        <td id=\"T_f19cd34c_d01d_11e9_bbb5_67f4fdcc77earow28_col2\" class=\"data row28 col2\" >0.8598</td> \n",
       "        <td id=\"T_f19cd34c_d01d_11e9_bbb5_67f4fdcc77earow28_col3\" class=\"data row28 col3\" >False</td> \n",
       "    </tr>    <tr> \n",
       "        <th id=\"T_f19cd34c_d01d_11e9_bbb5_67f4fdcc77ea\" class=\"row_heading level0 row29\" >19</th> \n",
       "        <td id=\"T_f19cd34c_d01d_11e9_bbb5_67f4fdcc77earow29_col0\" class=\"data row29 col0\" >Freq1_harmonics_amplitude_2</td> \n",
       "        <td id=\"T_f19cd34c_d01d_11e9_bbb5_67f4fdcc77earow29_col1\" class=\"data row29 col1\" >25</td> \n",
       "        <td id=\"T_f19cd34c_d01d_11e9_bbb5_67f4fdcc77earow29_col2\" class=\"data row29 col2\" >0.8628</td> \n",
       "        <td id=\"T_f19cd34c_d01d_11e9_bbb5_67f4fdcc77earow29_col3\" class=\"data row29 col3\" >False</td> \n",
       "    </tr>    <tr> \n",
       "        <th id=\"T_f19cd34c_d01d_11e9_bbb5_67f4fdcc77ea\" class=\"row_heading level0 row30\" >13</th> \n",
       "        <td id=\"T_f19cd34c_d01d_11e9_bbb5_67f4fdcc77earow30_col0\" class=\"data row30 col0\" >FluxPercentileRatioMid35</td> \n",
       "        <td id=\"T_f19cd34c_d01d_11e9_bbb5_67f4fdcc77earow30_col1\" class=\"data row30 col1\" >26</td> \n",
       "        <td id=\"T_f19cd34c_d01d_11e9_bbb5_67f4fdcc77earow30_col2\" class=\"data row30 col2\" >0.8678</td> \n",
       "        <td id=\"T_f19cd34c_d01d_11e9_bbb5_67f4fdcc77earow30_col3\" class=\"data row30 col3\" >False</td> \n",
       "    </tr>    <tr> \n",
       "        <th id=\"T_f19cd34c_d01d_11e9_bbb5_67f4fdcc77ea\" class=\"row_heading level0 row31\" >52</th> \n",
       "        <td id=\"T_f19cd34c_d01d_11e9_bbb5_67f4fdcc77earow31_col0\" class=\"data row31 col0\" >n09_jh_color</td> \n",
       "        <td id=\"T_f19cd34c_d01d_11e9_bbb5_67f4fdcc77earow31_col1\" class=\"data row31 col1\" >27</td> \n",
       "        <td id=\"T_f19cd34c_d01d_11e9_bbb5_67f4fdcc77earow31_col2\" class=\"data row31 col2\" >0.8603</td> \n",
       "        <td id=\"T_f19cd34c_d01d_11e9_bbb5_67f4fdcc77earow31_col3\" class=\"data row31 col3\" >False</td> \n",
       "    </tr>    <tr> \n",
       "        <th id=\"T_f19cd34c_d01d_11e9_bbb5_67f4fdcc77ea\" class=\"row_heading level0 row32\" >18</th> \n",
       "        <td id=\"T_f19cd34c_d01d_11e9_bbb5_67f4fdcc77earow32_col0\" class=\"data row32 col0\" >Freq1_harmonics_amplitude_1</td> \n",
       "        <td id=\"T_f19cd34c_d01d_11e9_bbb5_67f4fdcc77earow32_col1\" class=\"data row32 col1\" >28</td> \n",
       "        <td id=\"T_f19cd34c_d01d_11e9_bbb5_67f4fdcc77earow32_col2\" class=\"data row32 col2\" >0.8653</td> \n",
       "        <td id=\"T_f19cd34c_d01d_11e9_bbb5_67f4fdcc77earow32_col3\" class=\"data row32 col3\" >False</td> \n",
       "    </tr>    <tr> \n",
       "        <th id=\"T_f19cd34c_d01d_11e9_bbb5_67f4fdcc77ea\" class=\"row_heading level0 row33\" >41</th> \n",
       "        <td id=\"T_f19cd34c_d01d_11e9_bbb5_67f4fdcc77earow33_col0\" class=\"data row33 col0\" >SmallKurtosis</td> \n",
       "        <td id=\"T_f19cd34c_d01d_11e9_bbb5_67f4fdcc77earow33_col1\" class=\"data row33 col1\" >29</td> \n",
       "        <td id=\"T_f19cd34c_d01d_11e9_bbb5_67f4fdcc77earow33_col2\" class=\"data row33 col2\" >0.8608</td> \n",
       "        <td id=\"T_f19cd34c_d01d_11e9_bbb5_67f4fdcc77earow33_col3\" class=\"data row33 col3\" >False</td> \n",
       "    </tr>    <tr> \n",
       "        <th id=\"T_f19cd34c_d01d_11e9_bbb5_67f4fdcc77ea\" class=\"row_heading level0 row34\" >23</th> \n",
       "        <td id=\"T_f19cd34c_d01d_11e9_bbb5_67f4fdcc77earow34_col0\" class=\"data row34 col0\" >Freq1_harmonics_rel_phase_2</td> \n",
       "        <td id=\"T_f19cd34c_d01d_11e9_bbb5_67f4fdcc77earow34_col1\" class=\"data row34 col1\" >30</td> \n",
       "        <td id=\"T_f19cd34c_d01d_11e9_bbb5_67f4fdcc77earow34_col2\" class=\"data row34 col2\" >0.8633</td> \n",
       "        <td id=\"T_f19cd34c_d01d_11e9_bbb5_67f4fdcc77earow34_col3\" class=\"data row34 col3\" >False</td> \n",
       "    </tr>    <tr> \n",
       "        <th id=\"T_f19cd34c_d01d_11e9_bbb5_67f4fdcc77ea\" class=\"row_heading level0 row35\" >32</th> \n",
       "        <td id=\"T_f19cd34c_d01d_11e9_bbb5_67f4fdcc77earow35_col0\" class=\"data row35 col0\" >PercentAmplitude</td> \n",
       "        <td id=\"T_f19cd34c_d01d_11e9_bbb5_67f4fdcc77earow35_col1\" class=\"data row35 col1\" >31</td> \n",
       "        <td id=\"T_f19cd34c_d01d_11e9_bbb5_67f4fdcc77earow35_col2\" class=\"data row35 col2\" >0.8608</td> \n",
       "        <td id=\"T_f19cd34c_d01d_11e9_bbb5_67f4fdcc77earow35_col3\" class=\"data row35 col3\" >False</td> \n",
       "    </tr>    <tr> \n",
       "        <th id=\"T_f19cd34c_d01d_11e9_bbb5_67f4fdcc77ea\" class=\"row_heading level0 row36\" >12</th> \n",
       "        <td id=\"T_f19cd34c_d01d_11e9_bbb5_67f4fdcc77earow36_col0\" class=\"data row36 col0\" >FluxPercentileRatioMid20</td> \n",
       "        <td id=\"T_f19cd34c_d01d_11e9_bbb5_67f4fdcc77earow36_col1\" class=\"data row36 col1\" >32</td> \n",
       "        <td id=\"T_f19cd34c_d01d_11e9_bbb5_67f4fdcc77earow36_col2\" class=\"data row36 col2\" >0.8663</td> \n",
       "        <td id=\"T_f19cd34c_d01d_11e9_bbb5_67f4fdcc77earow36_col3\" class=\"data row36 col3\" >False</td> \n",
       "    </tr>    <tr> \n",
       "        <th id=\"T_f19cd34c_d01d_11e9_bbb5_67f4fdcc77ea\" class=\"row_heading level0 row37\" >16</th> \n",
       "        <td id=\"T_f19cd34c_d01d_11e9_bbb5_67f4fdcc77earow37_col0\" class=\"data row37 col0\" >FluxPercentileRatioMid80</td> \n",
       "        <td id=\"T_f19cd34c_d01d_11e9_bbb5_67f4fdcc77earow37_col1\" class=\"data row37 col1\" >33</td> \n",
       "        <td id=\"T_f19cd34c_d01d_11e9_bbb5_67f4fdcc77earow37_col2\" class=\"data row37 col2\" >0.8628</td> \n",
       "        <td id=\"T_f19cd34c_d01d_11e9_bbb5_67f4fdcc77earow37_col3\" class=\"data row37 col3\" >False</td> \n",
       "    </tr>    <tr> \n",
       "        <th id=\"T_f19cd34c_d01d_11e9_bbb5_67f4fdcc77ea\" class=\"row_heading level0 row38\" >6</th> \n",
       "        <td id=\"T_f19cd34c_d01d_11e9_bbb5_67f4fdcc77earow38_col0\" class=\"data row38 col0\" >Beyond1Std</td> \n",
       "        <td id=\"T_f19cd34c_d01d_11e9_bbb5_67f4fdcc77earow38_col1\" class=\"data row38 col1\" >34</td> \n",
       "        <td id=\"T_f19cd34c_d01d_11e9_bbb5_67f4fdcc77earow38_col2\" class=\"data row38 col2\" >0.8678</td> \n",
       "        <td id=\"T_f19cd34c_d01d_11e9_bbb5_67f4fdcc77earow38_col3\" class=\"data row38 col3\" >False</td> \n",
       "    </tr>    <tr> \n",
       "        <th id=\"T_f19cd34c_d01d_11e9_bbb5_67f4fdcc77ea\" class=\"row_heading level0 row39\" >8</th> \n",
       "        <td id=\"T_f19cd34c_d01d_11e9_bbb5_67f4fdcc77earow39_col0\" class=\"data row39 col0\" >CAR_sigma</td> \n",
       "        <td id=\"T_f19cd34c_d01d_11e9_bbb5_67f4fdcc77earow39_col1\" class=\"data row39 col1\" >35</td> \n",
       "        <td id=\"T_f19cd34c_d01d_11e9_bbb5_67f4fdcc77earow39_col2\" class=\"data row39 col2\" >0.8683</td> \n",
       "        <td id=\"T_f19cd34c_d01d_11e9_bbb5_67f4fdcc77earow39_col3\" class=\"data row39 col3\" >False</td> \n",
       "    </tr>    <tr> \n",
       "        <th id=\"T_f19cd34c_d01d_11e9_bbb5_67f4fdcc77ea\" class=\"row_heading level0 row40\" >44</th> \n",
       "        <td id=\"T_f19cd34c_d01d_11e9_bbb5_67f4fdcc77earow40_col0\" class=\"data row40 col0\" >c89_hk_color</td> \n",
       "        <td id=\"T_f19cd34c_d01d_11e9_bbb5_67f4fdcc77earow40_col1\" class=\"data row40 col1\" >36</td> \n",
       "        <td id=\"T_f19cd34c_d01d_11e9_bbb5_67f4fdcc77earow40_col2\" class=\"data row40 col2\" >0.8578</td> \n",
       "        <td id=\"T_f19cd34c_d01d_11e9_bbb5_67f4fdcc77earow40_col3\" class=\"data row40 col3\" >False</td> \n",
       "    </tr>    <tr> \n",
       "        <th id=\"T_f19cd34c_d01d_11e9_bbb5_67f4fdcc77ea\" class=\"row_heading level0 row41\" >3</th> \n",
       "        <td id=\"T_f19cd34c_d01d_11e9_bbb5_67f4fdcc77earow41_col0\" class=\"data row41 col0\" >AmplitudeJH</td> \n",
       "        <td id=\"T_f19cd34c_d01d_11e9_bbb5_67f4fdcc77earow41_col1\" class=\"data row41 col1\" >37</td> \n",
       "        <td id=\"T_f19cd34c_d01d_11e9_bbb5_67f4fdcc77earow41_col2\" class=\"data row41 col2\" >0.8583</td> \n",
       "        <td id=\"T_f19cd34c_d01d_11e9_bbb5_67f4fdcc77earow41_col3\" class=\"data row41 col3\" >False</td> \n",
       "    </tr>    <tr> \n",
       "        <th id=\"T_f19cd34c_d01d_11e9_bbb5_67f4fdcc77ea\" class=\"row_heading level0 row42\" >30</th> \n",
       "        <td id=\"T_f19cd34c_d01d_11e9_bbb5_67f4fdcc77earow42_col0\" class=\"data row42 col0\" >MedianBRP</td> \n",
       "        <td id=\"T_f19cd34c_d01d_11e9_bbb5_67f4fdcc77earow42_col1\" class=\"data row42 col1\" >38</td> \n",
       "        <td id=\"T_f19cd34c_d01d_11e9_bbb5_67f4fdcc77earow42_col2\" class=\"data row42 col2\" >0.8628</td> \n",
       "        <td id=\"T_f19cd34c_d01d_11e9_bbb5_67f4fdcc77earow42_col3\" class=\"data row42 col3\" >False</td> \n",
       "    </tr>    <tr> \n",
       "        <th id=\"T_f19cd34c_d01d_11e9_bbb5_67f4fdcc77ea\" class=\"row_heading level0 row43\" >46</th> \n",
       "        <td id=\"T_f19cd34c_d01d_11e9_bbb5_67f4fdcc77earow43_col0\" class=\"data row43 col0\" >c89_jk_color</td> \n",
       "        <td id=\"T_f19cd34c_d01d_11e9_bbb5_67f4fdcc77earow43_col1\" class=\"data row43 col1\" >39</td> \n",
       "        <td id=\"T_f19cd34c_d01d_11e9_bbb5_67f4fdcc77earow43_col2\" class=\"data row43 col2\" >0.8567</td> \n",
       "        <td id=\"T_f19cd34c_d01d_11e9_bbb5_67f4fdcc77earow43_col3\" class=\"data row43 col3\" >False</td> \n",
       "    </tr>    <tr> \n",
       "        <th id=\"T_f19cd34c_d01d_11e9_bbb5_67f4fdcc77ea\" class=\"row_heading level0 row44\" >42</th> \n",
       "        <td id=\"T_f19cd34c_d01d_11e9_bbb5_67f4fdcc77earow44_col0\" class=\"data row44 col0\" >Std</td> \n",
       "        <td id=\"T_f19cd34c_d01d_11e9_bbb5_67f4fdcc77earow44_col1\" class=\"data row44 col1\" >40</td> \n",
       "        <td id=\"T_f19cd34c_d01d_11e9_bbb5_67f4fdcc77earow44_col2\" class=\"data row44 col2\" >0.8603</td> \n",
       "        <td id=\"T_f19cd34c_d01d_11e9_bbb5_67f4fdcc77earow44_col3\" class=\"data row44 col3\" >False</td> \n",
       "    </tr>    <tr> \n",
       "        <th id=\"T_f19cd34c_d01d_11e9_bbb5_67f4fdcc77ea\" class=\"row_heading level0 row45\" >15</th> \n",
       "        <td id=\"T_f19cd34c_d01d_11e9_bbb5_67f4fdcc77earow45_col0\" class=\"data row45 col0\" >FluxPercentileRatioMid65</td> \n",
       "        <td id=\"T_f19cd34c_d01d_11e9_bbb5_67f4fdcc77earow45_col1\" class=\"data row45 col1\" >41</td> \n",
       "        <td id=\"T_f19cd34c_d01d_11e9_bbb5_67f4fdcc77earow45_col2\" class=\"data row45 col2\" >0.8678</td> \n",
       "        <td id=\"T_f19cd34c_d01d_11e9_bbb5_67f4fdcc77earow45_col3\" class=\"data row45 col3\" >False</td> \n",
       "    </tr>    <tr> \n",
       "        <th id=\"T_f19cd34c_d01d_11e9_bbb5_67f4fdcc77ea\" class=\"row_heading level0 row46\" >43</th> \n",
       "        <td id=\"T_f19cd34c_d01d_11e9_bbb5_67f4fdcc77earow46_col0\" class=\"data row46 col0\" >c89_c3</td> \n",
       "        <td id=\"T_f19cd34c_d01d_11e9_bbb5_67f4fdcc77earow46_col1\" class=\"data row46 col1\" >42</td> \n",
       "        <td id=\"T_f19cd34c_d01d_11e9_bbb5_67f4fdcc77earow46_col2\" class=\"data row46 col2\" >0.8548</td> \n",
       "        <td id=\"T_f19cd34c_d01d_11e9_bbb5_67f4fdcc77earow46_col3\" class=\"data row46 col3\" >False</td> \n",
       "    </tr>    <tr> \n",
       "        <th id=\"T_f19cd34c_d01d_11e9_bbb5_67f4fdcc77ea\" class=\"row_heading level0 row47\" >45</th> \n",
       "        <td id=\"T_f19cd34c_d01d_11e9_bbb5_67f4fdcc77earow47_col0\" class=\"data row47 col0\" >c89_jh_color</td> \n",
       "        <td id=\"T_f19cd34c_d01d_11e9_bbb5_67f4fdcc77earow47_col1\" class=\"data row47 col1\" >43</td> \n",
       "        <td id=\"T_f19cd34c_d01d_11e9_bbb5_67f4fdcc77earow47_col2\" class=\"data row47 col2\" >0.8588</td> \n",
       "        <td id=\"T_f19cd34c_d01d_11e9_bbb5_67f4fdcc77earow47_col3\" class=\"data row47 col3\" >False</td> \n",
       "    </tr>    <tr> \n",
       "        <th id=\"T_f19cd34c_d01d_11e9_bbb5_67f4fdcc77ea\" class=\"row_heading level0 row48\" >1</th> \n",
       "        <td id=\"T_f19cd34c_d01d_11e9_bbb5_67f4fdcc77earow48_col0\" class=\"data row48 col0\" >AmplitudeH</td> \n",
       "        <td id=\"T_f19cd34c_d01d_11e9_bbb5_67f4fdcc77earow48_col1\" class=\"data row48 col1\" >44</td> \n",
       "        <td id=\"T_f19cd34c_d01d_11e9_bbb5_67f4fdcc77earow48_col2\" class=\"data row48 col2\" >0.7999</td> \n",
       "        <td id=\"T_f19cd34c_d01d_11e9_bbb5_67f4fdcc77earow48_col3\" class=\"data row48 col3\" >False</td> \n",
       "    </tr>    <tr> \n",
       "        <th id=\"T_f19cd34c_d01d_11e9_bbb5_67f4fdcc77ea\" class=\"row_heading level0 row49\" >4</th> \n",
       "        <td id=\"T_f19cd34c_d01d_11e9_bbb5_67f4fdcc77earow49_col0\" class=\"data row49 col0\" >AmplitudeJK</td> \n",
       "        <td id=\"T_f19cd34c_d01d_11e9_bbb5_67f4fdcc77earow49_col1\" class=\"data row49 col1\" >45</td> \n",
       "        <td id=\"T_f19cd34c_d01d_11e9_bbb5_67f4fdcc77earow49_col2\" class=\"data row49 col2\" >0.8623</td> \n",
       "        <td id=\"T_f19cd34c_d01d_11e9_bbb5_67f4fdcc77earow49_col3\" class=\"data row49 col3\" >False</td> \n",
       "    </tr>    <tr> \n",
       "        <th id=\"T_f19cd34c_d01d_11e9_bbb5_67f4fdcc77ea\" class=\"row_heading level0 row50\" >31</th> \n",
       "        <td id=\"T_f19cd34c_d01d_11e9_bbb5_67f4fdcc77earow50_col0\" class=\"data row50 col0\" >PairSlopeTrend</td> \n",
       "        <td id=\"T_f19cd34c_d01d_11e9_bbb5_67f4fdcc77earow50_col1\" class=\"data row50 col1\" >46</td> \n",
       "        <td id=\"T_f19cd34c_d01d_11e9_bbb5_67f4fdcc77earow50_col2\" class=\"data row50 col2\" >0.8593</td> \n",
       "        <td id=\"T_f19cd34c_d01d_11e9_bbb5_67f4fdcc77earow50_col3\" class=\"data row50 col3\" >False</td> \n",
       "    </tr>    <tr> \n",
       "        <th id=\"T_f19cd34c_d01d_11e9_bbb5_67f4fdcc77ea\" class=\"row_heading level0 row51\" >0</th> \n",
       "        <td id=\"T_f19cd34c_d01d_11e9_bbb5_67f4fdcc77earow51_col0\" class=\"data row51 col0\" >Amplitude</td> \n",
       "        <td id=\"T_f19cd34c_d01d_11e9_bbb5_67f4fdcc77earow51_col1\" class=\"data row51 col1\" >47</td> \n",
       "        <td id=\"T_f19cd34c_d01d_11e9_bbb5_67f4fdcc77earow51_col2\" class=\"data row51 col2\" >0.7773</td> \n",
       "        <td id=\"T_f19cd34c_d01d_11e9_bbb5_67f4fdcc77earow51_col3\" class=\"data row51 col3\" >False</td> \n",
       "    </tr>    <tr> \n",
       "        <th id=\"T_f19cd34c_d01d_11e9_bbb5_67f4fdcc77ea\" class=\"row_heading level0 row52\" >35</th> \n",
       "        <td id=\"T_f19cd34c_d01d_11e9_bbb5_67f4fdcc77earow52_col0\" class=\"data row52 col0\" >Period_fit</td> \n",
       "        <td id=\"T_f19cd34c_d01d_11e9_bbb5_67f4fdcc77earow52_col1\" class=\"data row52 col1\" >48</td> \n",
       "        <td id=\"T_f19cd34c_d01d_11e9_bbb5_67f4fdcc77earow52_col2\" class=\"data row52 col2\" >0.8598</td> \n",
       "        <td id=\"T_f19cd34c_d01d_11e9_bbb5_67f4fdcc77earow52_col3\" class=\"data row52 col3\" >False</td> \n",
       "    </tr>    <tr> \n",
       "        <th id=\"T_f19cd34c_d01d_11e9_bbb5_67f4fdcc77ea\" class=\"row_heading level0 row53\" >10</th> \n",
       "        <td id=\"T_f19cd34c_d01d_11e9_bbb5_67f4fdcc77earow53_col0\" class=\"data row53 col0\" >Con</td> \n",
       "        <td id=\"T_f19cd34c_d01d_11e9_bbb5_67f4fdcc77earow53_col1\" class=\"data row53 col1\" >49</td> \n",
       "        <td id=\"T_f19cd34c_d01d_11e9_bbb5_67f4fdcc77earow53_col2\" class=\"data row53 col2\" >0.8653</td> \n",
       "        <td id=\"T_f19cd34c_d01d_11e9_bbb5_67f4fdcc77earow53_col3\" class=\"data row53 col3\" >False</td> \n",
       "    </tr>    <tr> \n",
       "        <th id=\"T_f19cd34c_d01d_11e9_bbb5_67f4fdcc77ea\" class=\"row_heading level0 row54\" >9</th> \n",
       "        <td id=\"T_f19cd34c_d01d_11e9_bbb5_67f4fdcc77earow54_col0\" class=\"data row54 col0\" >CAR_tau</td> \n",
       "        <td id=\"T_f19cd34c_d01d_11e9_bbb5_67f4fdcc77earow54_col1\" class=\"data row54 col1\" >50</td> \n",
       "        <td id=\"T_f19cd34c_d01d_11e9_bbb5_67f4fdcc77earow54_col2\" class=\"data row54 col2\" >0.8658</td> \n",
       "        <td id=\"T_f19cd34c_d01d_11e9_bbb5_67f4fdcc77earow54_col3\" class=\"data row54 col3\" >False</td> \n",
       "    </tr>    <tr> \n",
       "        <th id=\"T_f19cd34c_d01d_11e9_bbb5_67f4fdcc77ea\" class=\"row_heading level0 row55\" >5</th> \n",
       "        <td id=\"T_f19cd34c_d01d_11e9_bbb5_67f4fdcc77earow55_col0\" class=\"data row55 col0\" >Autocor_length</td> \n",
       "        <td id=\"T_f19cd34c_d01d_11e9_bbb5_67f4fdcc77earow55_col1\" class=\"data row55 col1\" >51</td> \n",
       "        <td id=\"T_f19cd34c_d01d_11e9_bbb5_67f4fdcc77earow55_col2\" class=\"data row55 col2\" >0.8708</td> \n",
       "        <td id=\"T_f19cd34c_d01d_11e9_bbb5_67f4fdcc77earow55_col3\" class=\"data row55 col3\" >False</td> \n",
       "    </tr>    <tr> \n",
       "        <th id=\"T_f19cd34c_d01d_11e9_bbb5_67f4fdcc77ea\" class=\"row_heading level0 row56\" >21</th> \n",
       "        <td id=\"T_f19cd34c_d01d_11e9_bbb5_67f4fdcc77earow56_col0\" class=\"data row56 col0\" >Freq1_harmonics_rel_phase_0</td> \n",
       "        <td id=\"T_f19cd34c_d01d_11e9_bbb5_67f4fdcc77earow56_col1\" class=\"data row56 col1\" >52</td> \n",
       "        <td id=\"T_f19cd34c_d01d_11e9_bbb5_67f4fdcc77earow56_col2\" class=\"data row56 col2\" >0.8593</td> \n",
       "        <td id=\"T_f19cd34c_d01d_11e9_bbb5_67f4fdcc77earow56_col3\" class=\"data row56 col3\" >False</td> \n",
       "    </tr></tbody> \n",
       "</table> "
      ],
      "text/plain": [
       "<pandas.io.formats.style.Styler at 0x7f74a6691110>"
      ]
     },
     "execution_count": 25,
     "metadata": {},
     "output_type": "execute_result"
    }
   ],
   "source": [
    "def is_selected(row):\n",
    "    if row.Selected:\n",
    "        return pd.Series('background-color: #7EA489', row.index)\n",
    "    return pd.Series('', row.index)\n",
    "\n",
    "\n",
    "with pd.option_context('display.precision', 4):\n",
    "    html = df.sort_values(\"Ranking\").style.apply(is_selected, axis=1)\n",
    "html"
   ]
  },
  {
   "cell_type": "code",
   "execution_count": 26,
   "metadata": {},
   "outputs": [
    {
     "data": {
      "text/plain": [
       "0.97487437185929648"
      ]
     },
     "execution_count": 26,
     "metadata": {},
     "output_type": "execute_result"
    }
   ],
   "source": [
    "sel.score(X, y)"
   ]
  },
  {
   "cell_type": "code",
   "execution_count": 28,
   "metadata": {},
   "outputs": [
    {
     "data": {
      "image/png": "[encoded data removed]",
      "text/plain": [
       "<Figure size 432x288 with 1 Axes>"
      ]
     },
     "metadata": {},
     "output_type": "display_data"
    }
   ],
   "source": [
    "plt.figure()\n",
    "plt.xlabel(\"Features selected\")\n",
    "plt.ylabel(\"Score\")\n",
    "plt.plot(range(1, len(sel.grid_scores_) + 1), sel.grid_scores_)\n",
    "plt.axvline(df.Selected.sum(), c=\"r\", alpha=0.5, ls=\"--\", label=u\"Optimal numbe of features ({})\".format(df.Selected.sum()))\n",
    "plt.legend()\n",
    "plt.tight_layout()\n",
    "plt.savefig(\"plots/rfe.pdf\")\n",
    "plt.show()"
   ]
  },
  {
   "cell_type": "code",
   "execution_count": 29,
   "metadata": {},
   "outputs": [],
   "source": [
    "sX_columns = df[df.Selected].Feature.values"
   ]
  },
  {
   "cell_type": "code",
   "execution_count": 30,
   "metadata": {},
   "outputs": [
    {
     "name": "stdout",
     "output_type": "stream",
     "text": [
      "              precision    recall  f1-score   support\n",
      "\n",
      "         0.0       0.85      0.91      0.87       994\n",
      "         1.0       0.90      0.83      0.87       996\n",
      "\n",
      "   micro avg       0.87      0.87      0.87      1990\n",
      "   macro avg       0.87      0.87      0.87      1990\n",
      "weighted avg       0.87      0.87      0.87      1990\n",
      "\n",
      "--------------------------------------------------------------------------------\n",
      "CPU times: user 1min 21s, sys: 2.69 s, total: 1min 23s\n",
      "Wall time: 24.4 s\n"
     ]
    }
   ],
   "source": [
    "%%time\n",
    "rf = KFoldExperiment(\n",
    "    clf=RandomForestClassifier(**RF_PARAMS), clsnum=cls, \n",
    "    data=data, pcls=1, ncls=0, X_columns=sX_columns, y_column=\"cls\")\n",
    "rf = rf(\"data\", nfolds=10)"
   ]
  },
  {
   "cell_type": "code",
   "execution_count": 31,
   "metadata": {},
   "outputs": [
    {
     "data": {
      "text/plain": [
       "['Eta_e',\n",
       " 'MaxSlope',\n",
       " 'Mean',\n",
       " 'PercentDifferenceFluxPercentile',\n",
       " 'c89_m2',\n",
       " 'cnt']"
      ]
     },
     "execution_count": 31,
     "metadata": {},
     "output_type": "execute_result"
    }
   ],
   "source": [
    "list(sX_columns)"
   ]
  },
  {
   "cell_type": "code",
   "execution_count": 32,
   "metadata": {},
   "outputs": [],
   "source": [
    "rf_all = np.load(\"data/results/model_selection.pkl.npy\")[0]"
   ]
  },
  {
   "cell_type": "code",
   "execution_count": 33,
   "metadata": {},
   "outputs": [
    {
     "data": {
      "image/png": "[encoded data removed]",
      "text/plain": [
       "<Figure size 432x288 with 1 Axes>"
      ]
     },
     "metadata": {},
     "output_type": "display_data"
    }
   ],
   "source": [
    "ax = roc({\"RFE-RF\": rf, \"RF\": rf_all});\n",
    "ax.get_children()[0].set_color(\"red\")\n",
    "ax.get_children()[1].set_color(\"blue\")\n",
    "plt.legend()\n",
    "\n",
    "plt.tight_layout()\n",
    "plt.savefig(\"plots/rfe_vs_all.pdf\")"
   ]
  },
  {
   "cell_type": "code",
   "execution_count": 34,
   "metadata": {},
   "outputs": [
    {
     "name": "stdout",
     "output_type": "stream",
     "text": [
      "\\begin{tabular}{lrrr}\n",
      "\\toprule\n",
      " Modelo &  Precision &  Recall &    AUC \\\\\n",
      "\\midrule\n",
      "     RF &     0.8852 &  0.8283 & 0.9365 \\\\\n",
      " RFE-RF &     0.8984 &  0.8343 & 0.9419 \\\\\n",
      "\\bottomrule\n",
      "\\end{tabular}\n",
      "\n"
     ]
    }
   ],
   "source": [
    "print(\n",
    "    pd.DataFrame([\n",
    "        [\"RF\", rf_all.prec_rec[0], rf_all.prec_rec[1], rf_all.roc_auc],\n",
    "        [\"RFE-RF\", rf.prec_rec[0], rf.prec_rec[1], rf.roc_auc]],\n",
    "        columns=\"Modelo Precision Recall AUC\".split()\n",
    "    ).to_latex(index=False, float_format=\"%.4f\"))"
   ]
  },
  {
   "cell_type": "code",
   "execution_count": null,
   "metadata": {},
   "outputs": [],
   "source": []
  }
 ],
 "metadata": {
  "kernelspec": {
   "display_name": "Python 2",
   "language": "python",
   "name": "python2"
  },
  "language_info": {
   "codemirror_mode": {
    "name": "ipython",
    "version": 2
   },
   "file_extension": ".py",
   "mimetype": "text/x-python",
   "name": "python",
   "nbconvert_exporter": "python",
   "pygments_lexer": "ipython2",
   "version": "2.7.15"
  }
 },
 "nbformat": 4,
 "nbformat_minor": 2
}
