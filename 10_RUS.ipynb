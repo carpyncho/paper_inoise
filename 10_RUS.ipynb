{
 "cells": [
  {
   "cell_type": "code",
   "execution_count": 12,
   "metadata": {},
   "outputs": [],
   "source": [
    "% matplotlib inline\n",
    "\n",
    "import time\n",
    "import pandas as pd\n",
    "\n",
    "from IPython import display as d\n",
    "\n",
    "import seaborn as sns\n",
    "sns.set()\n",
    "\n",
    "from sklearn.svm import SVC\n",
    "from sklearn.tree import DecisionTreeClassifier\n",
    "from sklearn.ensemble import RandomForestClassifier\n",
    "from sklearn.neighbors import KNeighborsClassifier\n",
    "\n",
    "from imblearn.under_sampling import RandomUnderSampler\n",
    "\n",
    "from libs import container\n",
    "from libs.experiment import (\n",
    "    WithAnotherExperiment, KFoldExperiment, roc, \n",
    "    discretize_classes, clean_features)"
   ]
  },
  {
   "cell_type": "code",
   "execution_count": 13,
   "metadata": {},
   "outputs": [],
   "source": [
    "data = container.Container(sample=pd.read_pickle(\"data/sample.pkl\"))\n",
    "data[\"balanced\"] = pd.concat((\n",
    "    data.sample[data.sample.nbg == 1].sample(786),\n",
    "    data.sample[data.sample.nbg == 0]))\n",
    "data[\"small_sample\"] = pd.read_pickle(\"data/small_sample.pkl\")"
   ]
  },
  {
   "cell_type": "markdown",
   "metadata": {},
   "source": [
    "## Features cleaning"
   ]
  },
  {
   "cell_type": "code",
   "execution_count": 14,
   "metadata": {},
   "outputs": [
    {
     "data": {
      "text/plain": [
       "{'nbg': 1, 'no-nbg': 0}"
      ]
     },
     "execution_count": 14,
     "metadata": {},
     "output_type": "execute_result"
    }
   ],
   "source": [
    "sclasses = {\n",
    "    \"nbg\": 1,\n",
    "    \"no-nbg\": 0}\n",
    "sclasses"
   ]
  },
  {
   "cell_type": "code",
   "execution_count": 15,
   "metadata": {},
   "outputs": [
    {
     "data": {
      "text/plain": [
       "((12598, 161), (1572, 161), (4352, 161))"
      ]
     },
     "execution_count": 15,
     "metadata": {},
     "output_type": "execute_result"
    }
   ],
   "source": [
    "data.sample.shape, data.balanced.shape, data.small_sample.shape"
   ]
  },
  {
   "cell_type": "code",
   "execution_count": 25,
   "metadata": {},
   "outputs": [
    {
     "name": "stdout",
     "output_type": "stream",
     "text": [
      "Removing [] because null\n",
      "Removing ['src1_Freq1_harmonics_rel_phase_0', 'src1_Freq2_harmonics_rel_phase_0', 'src1_Freq3_harmonics_rel_phase_0', 'src2_Freq1_harmonics_rel_phase_0', 'src2_Freq2_harmonics_rel_phase_0', 'src2_Freq3_harmonics_rel_phase_0'] because lowvariance\n",
      "('Total features:', 112)\n"
     ]
    }
   ],
   "source": [
    "X_columns = clean_features(data, \"sample\")\n",
    "X_columns = X_columns[\n",
    "    ~(X_columns.str.contains(\"Freq2_\") | X_columns.str.contains(\"Freq3_\") | X_columns.str.contains(\"_cnt\"))]\n",
    "print(\"Total features:\", X_columns.size)"
   ]
  },
  {
   "cell_type": "code",
   "execution_count": 26,
   "metadata": {},
   "outputs": [
    {
     "data": {
      "text/plain": [
       "{'Amplitude',\n",
       " 'AmplitudeH',\n",
       " 'AmplitudeJ',\n",
       " 'AmplitudeJH',\n",
       " 'AmplitudeJK',\n",
       " 'Autocor_length',\n",
       " 'Beyond1Std',\n",
       " 'CAR_mean',\n",
       " 'CAR_sigma',\n",
       " 'CAR_tau',\n",
       " 'Con',\n",
       " 'Eta_e',\n",
       " 'FluxPercentileRatioMid20',\n",
       " 'FluxPercentileRatioMid35',\n",
       " 'FluxPercentileRatioMid50',\n",
       " 'FluxPercentileRatioMid65',\n",
       " 'FluxPercentileRatioMid80',\n",
       " 'Freq1_harmonics_amplitude_0',\n",
       " 'Freq1_harmonics_amplitude_1',\n",
       " 'Freq1_harmonics_amplitude_2',\n",
       " 'Freq1_harmonics_amplitude_3',\n",
       " 'Freq1_harmonics_rel_phase_1',\n",
       " 'Freq1_harmonics_rel_phase_2',\n",
       " 'Freq1_harmonics_rel_phase_3',\n",
       " 'Gskew',\n",
       " 'LinearTrend',\n",
       " 'MaxSlope',\n",
       " 'Mean',\n",
       " 'Meanvariance',\n",
       " 'MedianAbsDev',\n",
       " 'MedianBRP',\n",
       " 'PairSlopeTrend',\n",
       " 'PercentAmplitude',\n",
       " 'PercentDifferenceFluxPercentile',\n",
       " 'PeriodLS',\n",
       " 'Period_fit',\n",
       " 'Psi_CS',\n",
       " 'Psi_eta',\n",
       " 'Q31',\n",
       " 'Rcs',\n",
       " 'Skew',\n",
       " 'SmallKurtosis',\n",
       " 'Std',\n",
       " 'c89_c3',\n",
       " 'c89_hk_color',\n",
       " 'c89_jh_color',\n",
       " 'c89_jk_color',\n",
       " 'c89_m2',\n",
       " 'c89_m4',\n",
       " 'n09_c3',\n",
       " 'n09_hk_color',\n",
       " 'n09_jh_color',\n",
       " 'n09_jk_color',\n",
       " 'n09_m2',\n",
       " 'n09_m4',\n",
       " 'ppmb'}"
      ]
     },
     "execution_count": 26,
     "metadata": {},
     "output_type": "execute_result"
    }
   ],
   "source": [
    "set(x.split(\"_\", 1)[-1] for x in X_columns)"
   ]
  },
  {
   "cell_type": "markdown",
   "metadata": {},
   "source": [
    "## SVM - Linear"
   ]
  },
  {
   "cell_type": "code",
   "execution_count": 27,
   "metadata": {},
   "outputs": [
    {
     "name": "stdout",
     "output_type": "stream",
     "text": [
      "[NNhDLvKaVWic6tkDvRqn2g-2018-10-16 17:17:20.541432] Launching\n",
      "[9K4ghniJ8bsuo9QAX3kyEb-2018-10-16 17:17:20.720144] Launching\n",
      "[uQyGTorDrmPaco487sg6zG-2018-10-16 17:17:20.892469] Launching\n",
      "[DubdBSyBK7MGmCFgVDoVRm-2018-10-16 17:17:21.059948] Launching\n",
      "[o3TsSMJhbrBEPHxeBh27rY-2018-10-16 17:17:21.229399] Launching\n",
      "[uFrw52PNapqwYMSNQ4am74-2018-10-16 17:17:21.393346] Launching\n",
      "[6BvENLNdsUVaX58BP4MJiQ-2018-10-16 17:17:21.580118] Launching\n",
      "[UrPtFyXnoMo95FMdZpZ4Vo-2018-10-16 17:17:21.762175] Launching\n",
      "[A4QRV4fEm3t3JA74AUFAYj-2018-10-16 17:17:21.928633] Launching\n",
      "[suprRyfS5ks5tEeGc3JvVn-2018-10-16 17:17:22.108225] Launching\n",
      "[uQyGTorDrmPaco487sg6zG-2018-10-16 17:17:23.041747] Done\n",
      "[NNhDLvKaVWic6tkDvRqn2g-2018-10-16 17:17:23.056194] Done\n",
      "[DubdBSyBK7MGmCFgVDoVRm-2018-10-16 17:17:23.078277] Done\n",
      "[9K4ghniJ8bsuo9QAX3kyEb-2018-10-16 17:17:23.157522] Done\n",
      "[6BvENLNdsUVaX58BP4MJiQ-2018-10-16 17:17:23.299934] Done\n",
      "[A4QRV4fEm3t3JA74AUFAYj-2018-10-16 17:17:23.454207] Done\n",
      "[o3TsSMJhbrBEPHxeBh27rY-2018-10-16 17:17:23.595466] Done\n",
      "[uFrw52PNapqwYMSNQ4am74-2018-10-16 17:17:23.727627] Done\n",
      "[UrPtFyXnoMo95FMdZpZ4Vo-2018-10-16 17:17:23.861004] Done\n",
      "[suprRyfS5ks5tEeGc3JvVn-2018-10-16 17:17:24.560156] Done\n",
      "             precision    recall  f1-score   support\n",
      "\n",
      "        0.0       0.07      0.46      0.12       253\n",
      "        1.0       0.95      0.61      0.75      4099\n",
      "\n",
      "avg / total       0.90      0.60      0.71      4352\n",
      "\n",
      "--------------------------------------------------------------------------------\n",
      "CPU times: user 1.94 s, sys: 1.08 s, total: 3.02 s\n",
      "Wall time: 5.6 s\n"
     ]
    }
   ],
   "source": [
    "%%time\n",
    "svc_linear = KFoldExperiment(\n",
    "    clf=SVC(kernel='linear', probability=True), clsnum=sclasses,\n",
    "    data=data, pcls=\"nbg\", ncls=\"no-nbg\", sampler=RandomUnderSampler(),\n",
    "    X_columns=X_columns, y_column=\"nbg\")(\"small_sample\", nfolds=10)"
   ]
  },
  {
   "cell_type": "markdown",
   "metadata": {},
   "source": [
    "## SVM - Poly"
   ]
  },
  {
   "cell_type": "code",
   "execution_count": 28,
   "metadata": {},
   "outputs": [
    {
     "name": "stdout",
     "output_type": "stream",
     "text": [
      "[NGBi2dzKGTNsyKj25m8R7N-2018-10-16 17:17:26.296673] Launching\n",
      "[UPpTY34dBQAAsfEKzryNU9-2018-10-16 17:17:26.471493] Launching\n",
      "[x2o2VygYM9UJV55UJfupjV-2018-10-16 17:17:26.632136] Launching\n",
      "[NGBi2dzKGTNsyKj25m8R7N-2018-10-16 17:17:26.756182] Done\n",
      "[JiT4LnvkDsbq4iQoaA4vnB-2018-10-16 17:17:26.791554] Launching\n",
      "[UPpTY34dBQAAsfEKzryNU9-2018-10-16 17:17:26.935227] Done\n",
      "[gKVW4Pa45hVBNmHZvJ6QqL-2018-10-16 17:17:26.964568] Launching\n",
      "[x2o2VygYM9UJV55UJfupjV-2018-10-16 17:17:27.081334] Done\n",
      "[Q97cwMjD8Jy3SoFKr8ZjLg-2018-10-16 17:17:27.121601] Launching\n",
      "[JiT4LnvkDsbq4iQoaA4vnB-2018-10-16 17:17:27.235001] Done\n",
      "[KFQzF9vMiM7NVeTcEM9Ybf-2018-10-16 17:17:27.274479] Launching\n",
      "[gKVW4Pa45hVBNmHZvJ6QqL-2018-10-16 17:17:27.395936] Done\n",
      "[5GWBCLiNSJB4UN3Jt58R59-2018-10-16 17:17:27.432051] Launching\n",
      "[Q97cwMjD8Jy3SoFKr8ZjLg-2018-10-16 17:17:27.569956] Done\n",
      "[xf7pVACjkMTLNE7RHszVgT-2018-10-16 17:17:27.603174] Launching\n",
      "[KFQzF9vMiM7NVeTcEM9Ybf-2018-10-16 17:17:27.728369] Done\n",
      "[dUW3qjoDyan755cTRos59S-2018-10-16 17:17:27.786847] Launching\n",
      "[5GWBCLiNSJB4UN3Jt58R59-2018-10-16 17:17:27.876715] Done\n",
      "[xf7pVACjkMTLNE7RHszVgT-2018-10-16 17:17:28.032718] Done\n",
      "[dUW3qjoDyan755cTRos59S-2018-10-16 17:17:28.238498] Done\n",
      "             precision    recall  f1-score   support\n",
      "\n",
      "        0.0       0.24      0.28      0.26       253\n",
      "        1.0       0.96      0.94      0.95      4099\n",
      "\n",
      "avg / total       0.91      0.90      0.91      4352\n",
      "\n",
      "--------------------------------------------------------------------------------\n",
      "CPU times: user 1.88 s, sys: 1.24 s, total: 3.12 s\n",
      "Wall time: 3.65 s\n"
     ]
    }
   ],
   "source": [
    "%%time\n",
    "svc_poly = KFoldExperiment(\n",
    "    clf=SVC(kernel='poly', probability=True), clsnum=sclasses,\n",
    "    data=data, pcls=\"nbg\", ncls=\"no-nbg\", sampler=RandomUnderSampler(),\n",
    "    X_columns=X_columns, y_column=\"nbg\")(\"small_sample\", nfolds=10)"
   ]
  },
  {
   "cell_type": "markdown",
   "metadata": {},
   "source": [
    "## Random Forest"
   ]
  },
  {
   "cell_type": "code",
   "execution_count": 29,
   "metadata": {},
   "outputs": [
    {
     "name": "stdout",
     "output_type": "stream",
     "text": [
      "[4Yo9sM7NNaGQwtma3PuQV3-2018-10-16 17:17:29.848439] Launching\n",
      "[caJdqNn9zQKcQqN3qtJsWi-2018-10-16 17:17:29.982081] Launching\n",
      "[qFCDTyvkoKVs5dphkohr8d-2018-10-16 17:17:30.131124] Launching\n",
      "[wjmQKSZvXcg6oU3BSkPeVL-2018-10-16 17:17:30.280466] Launching\n",
      "[ENFKWPWUniagQwAWiG7XXh-2018-10-16 17:17:30.423686] Launching\n",
      "[CZ3WSD5tKi5ArVSA9kqs9E-2018-10-16 17:17:30.575632] Launching\n",
      "[NmfHYryATst7z956HRhcog-2018-10-16 17:17:30.728785] Launching\n",
      "[W28E3TTeFxw8zc4uoJuuBN-2018-10-16 17:17:30.871732] Launching\n",
      "[hy2qS6T2Fk9hJUGBhj5cZK-2018-10-16 17:17:31.023750] Launching\n",
      "[SxYeS3aYGjqMHP5fV4xCb5-2018-10-16 17:17:31.177398] Launching\n",
      "[4Yo9sM7NNaGQwtma3PuQV3-2018-10-16 17:17:37.348541] Done\n",
      "[caJdqNn9zQKcQqN3qtJsWi-2018-10-16 17:17:37.894622] Done\n",
      "[qFCDTyvkoKVs5dphkohr8d-2018-10-16 17:17:37.946732] Done\n",
      "[wjmQKSZvXcg6oU3BSkPeVL-2018-10-16 17:17:38.157982] Done\n",
      "[CZ3WSD5tKi5ArVSA9kqs9E-2018-10-16 17:17:38.318806] Done\n",
      "[ENFKWPWUniagQwAWiG7XXh-2018-10-16 17:17:38.404981] Done\n",
      "[W28E3TTeFxw8zc4uoJuuBN-2018-10-16 17:17:38.543102] Done\n",
      "[NmfHYryATst7z956HRhcog-2018-10-16 17:17:38.616275] Done\n",
      "[SxYeS3aYGjqMHP5fV4xCb5-2018-10-16 17:17:38.638915] Done\n",
      "[hy2qS6T2Fk9hJUGBhj5cZK-2018-10-16 17:17:38.675061] Done\n",
      "             precision    recall  f1-score   support\n",
      "\n",
      "        0.0       0.07      0.69      0.13       253\n",
      "        1.0       0.96      0.46      0.62      4099\n",
      "\n",
      "avg / total       0.91      0.47      0.59      4352\n",
      "\n",
      "--------------------------------------------------------------------------------\n",
      "CPU times: user 1.72 s, sys: 1.15 s, total: 2.87 s\n",
      "Wall time: 10.6 s\n"
     ]
    }
   ],
   "source": [
    "%%time\n",
    "rf = KFoldExperiment(\n",
    "    clf=RandomForestClassifier(n_estimators=500, criterion=\"entropy\"), clsnum=sclasses, sampler=RandomUnderSampler(),\n",
    "    data=data, pcls=\"nbg\", ncls=\"no-nbg\", X_columns=X_columns, y_column=\"nbg\")(\"small_sample\", nfolds=10)"
   ]
  },
  {
   "cell_type": "markdown",
   "metadata": {},
   "source": [
    "## KNN"
   ]
  },
  {
   "cell_type": "code",
   "execution_count": 30,
   "metadata": {},
   "outputs": [
    {
     "name": "stdout",
     "output_type": "stream",
     "text": [
      "[5tWkuv7jHdHX5CcAj5QpdC-2018-10-16 17:17:40.511534] Launching\n",
      "[kitJSWrVVXSPZpPTZQtk2T-2018-10-16 17:17:40.657655] Launching\n",
      "[5tWkuv7jHdHX5CcAj5QpdC-2018-10-16 17:17:40.768719] Done\n",
      "[rNCZgyivHwbti9V4hTmUcM-2018-10-16 17:17:40.809357] Launching\n",
      "[kitJSWrVVXSPZpPTZQtk2T-2018-10-16 17:17:40.890741] Done\n",
      "[nDAw9Na2TqSXazjcHTsK2U-2018-10-16 17:17:40.966101] Launching\n",
      "[rNCZgyivHwbti9V4hTmUcM-2018-10-16 17:17:41.044215] Done\n",
      "[sJjdZEhC3JjCoHMwJzFsLB-2018-10-16 17:17:41.110027] Launching\n",
      "[nDAw9Na2TqSXazjcHTsK2U-2018-10-16 17:17:41.228923] Done\n",
      "[VUC4aNtzPQU8xv9VueqDB4-2018-10-16 17:17:41.257065] Launching\n",
      "[sJjdZEhC3JjCoHMwJzFsLB-2018-10-16 17:17:41.340026] Done\n",
      "[ZFTCqxdQMrEASxz5XkEZ2G-2018-10-16 17:17:41.429136] Launching\n",
      "[VUC4aNtzPQU8xv9VueqDB4-2018-10-16 17:17:41.493217] Done\n",
      "[6fre8Mhe37Xxa4UVCd8AsL-2018-10-16 17:17:41.593119] Launching\n",
      "[ZFTCqxdQMrEASxz5XkEZ2G-2018-10-16 17:17:41.679978] Done\n",
      "[H2fAtbXMhu93CPhBytprU7-2018-10-16 17:17:41.771078] Launching\n",
      "[6fre8Mhe37Xxa4UVCd8AsL-2018-10-16 17:17:41.847706] Done\n",
      "[QQHtcfBTCCd37gmrcgxEad-2018-10-16 17:17:41.947797] Launching\n",
      "[H2fAtbXMhu93CPhBytprU7-2018-10-16 17:17:42.024659] Done\n",
      "[QQHtcfBTCCd37gmrcgxEad-2018-10-16 17:17:42.189457] Done\n",
      "             precision    recall  f1-score   support\n",
      "\n",
      "        0.0       0.12      0.47      0.19       253\n",
      "        1.0       0.96      0.78      0.86      4099\n",
      "\n",
      "avg / total       0.91      0.77      0.82      4352\n",
      "\n",
      "--------------------------------------------------------------------------------\n",
      "CPU times: user 1.79 s, sys: 1.26 s, total: 3.05 s\n",
      "Wall time: 3.39 s\n"
     ]
    }
   ],
   "source": [
    "%%time\n",
    "knn = KFoldExperiment(\n",
    "    clf=KNeighborsClassifier(n_neighbors=50, weights='distance'), clsnum=sclasses, sampler=RandomUnderSampler(),\n",
    "    data=data, pcls=\"nbg\", ncls=\"no-nbg\", X_columns=X_columns, y_column=\"nbg\")(\"small_sample\", nfolds=10)"
   ]
  },
  {
   "cell_type": "code",
   "execution_count": 31,
   "metadata": {},
   "outputs": [
    {
     "data": {
      "image/png": "[encoded data removed]",
      "text/plain": [
       "<Figure size 432x288 with 1 Axes>"
      ]
     },
     "metadata": {},
     "output_type": "display_data"
    }
   ],
   "source": [
    "roc({\"KNN\": knn, \"RForest\": rf, \n",
    "     \"SVC Linear\": svc_linear,\n",
    "     \"SVC Polynomic\": svc_poly})"
   ]
  },
  {
   "cell_type": "code",
   "execution_count": null,
   "metadata": {},
   "outputs": [],
   "source": []
  }
 ],
 "metadata": {
  "kernelspec": {
   "display_name": "Python 2",
   "language": "python",
   "name": "python2"
  },
  "language_info": {
   "codemirror_mode": {
    "name": "ipython",
    "version": 2
   },
   "file_extension": ".py",
   "mimetype": "text/x-python",
   "name": "python",
   "nbconvert_exporter": "python",
   "pygments_lexer": "ipython2",
   "version": "2.7.14"
  }
 },
 "nbformat": 4,
 "nbformat_minor": 2
}
