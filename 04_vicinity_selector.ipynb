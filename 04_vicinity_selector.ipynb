{
 "cells": [
  {
   "cell_type": "code",
   "execution_count": null,
   "metadata": {},
   "outputs": [],
   "source": [
    "import sys\n",
    "import os\n",
    "import gc\n",
    "import itertools as it\n",
    "import tempfile\n",
    "from collections import Counter, namedtuple\n",
    "import datetime as dt\n",
    "import multiprocessing as mp\n",
    "\n",
    "import numpy as np\n",
    "import pandas as pd\n",
    "\n",
    "from joblib import Parallel, delayed, cpu_count, load, dump, Memory\n",
    "\n",
    "%matplotlib inline\n",
    "import matplotlib.pyplot as plt"
   ]
  },
  {
   "cell_type": "code",
   "execution_count": null,
   "metadata": {},
   "outputs": [],
   "source": [
    "%%capture\n",
    "# corral startup\n",
    "sys.path.insert(1, \"/home/jbcabral/carpyncho3\")\n",
    "os.environ.setdefault(\"CORRAL_SETTINGS_MODULE\", \"carpyncho.settings\")\n",
    "\n",
    "from corral import core\n",
    "core.setup_environment()\n",
    "\n",
    "from corral import db\n",
    "from carpyncho.models import LightCurves, PawprintStack, PawprintStackXTile"
   ]
  },
  {
   "cell_type": "code",
   "execution_count": null,
   "metadata": {},
   "outputs": [],
   "source": [
    "%%capture capt\n",
    "\n",
    "with db.session_scope() as session:\n",
    "    lc = session.query(LightCurves).filter(LightCurves.tile.has(name=\"b396\")).one()\n",
    "    obs_counter = lc.obs_counter\n",
    "    observations = lc.observations\n",
    "    pxts = session.query(PawprintStackXTile).filter(PawprintStackXTile.tile == lc.tile).all()\n",
    "    mjds = {pxt.pawprint_stack.id: pxt.pawprint_stack.mjd for pxt in pxts}"
   ]
  },
  {
   "cell_type": "code",
   "execution_count": null,
   "metadata": {},
   "outputs": [],
   "source": [
    "obs_min = np.random.choice(\n",
    "    obs_counter[obs_counter[\"cnt\"] >= 87][\"id\"], 10000, False)\n",
    "\n",
    "df = pd.DataFrame(observations[['bm_src_id', u'pwp_id']])\n",
    "df = df[df.bm_src_id.isin(obs_min)]"
   ]
  },
  {
   "cell_type": "code",
   "execution_count": null,
   "metadata": {},
   "outputs": [],
   "source": [
    "df[\"mjd\"] = df.pwp_id.apply(lambda pwp_id: mjds[pwp_id])\n",
    "\n",
    "%time groups = df.groupby(\"bm_src_id\")\n",
    "\n",
    "mean_mjds = dict(groups.mjd.mean())"
   ]
  },
  {
   "cell_type": "code",
   "execution_count": null,
   "metadata": {},
   "outputs": [],
   "source": [
    "temp_folder = \"./cache\"\n",
    "filename = os.path.join(temp_folder, 'groups.mmap')\n",
    "dump(groups, filename)\n",
    "groups = load(filename, mmap_mode='r+')"
   ]
  },
  {
   "cell_type": "code",
   "execution_count": null,
   "metadata": {},
   "outputs": [],
   "source": [
    "%time combinations = tuple(it.combinations(obs_min, 2))"
   ]
  },
  {
   "cell_type": "code",
   "execution_count": null,
   "metadata": {},
   "outputs": [],
   "source": [
    "%time chunks = np.array_split(combinations, 500)"
   ]
  },
  {
   "cell_type": "code",
   "execution_count": null,
   "metadata": {},
   "outputs": [],
   "source": [
    "Best = namedtuple(\"Best\", [\"src_1\", \"src_2\", \"n_1\", \"n_2\", \"int_12\", \"mmjd_1\", \"mmjd_2\", \"mmjd_diff\"])\n",
    "fields = list(Best._fields)\n",
    "\n",
    "def select_nbg(df):\n",
    "    cleaned = []\n",
    "    while len(df):\n",
    "        selected = df.sort_values([\"mmjd_diff\", \"int_12\"]).iloc[0]\n",
    "        rm_key = map(int, [selected.src_1, selected.src_2])\n",
    "        df = df[~(df.src_1.isin(rm_key)) & ~(df.src_2.isin(rm_key))]\n",
    "        cleaned.append(selected.to_dict())\n",
    "    try:\n",
    "        return pd.DataFrame(cleaned)[fields]\n",
    "    except:\n",
    "        pass\n",
    "\n",
    "def select_no_nbg(df):\n",
    "    cleaned = []\n",
    "    while len(df):\n",
    "        selected = df.sort_values([\"mmjd_diff\", \"int_12\"], ascending=False).iloc[0]\n",
    "        rm_key = map(int, [selected.src_1, selected.src_2])\n",
    "        df = df[~(df.src_1.isin(rm_key)) & ~(df.src_2.isin(rm_key))]\n",
    "        cleaned.append(selected.to_dict())\n",
    "    try:\n",
    "        return pd.DataFrame(cleaned)[fields]\n",
    "    except:\n",
    "        pass\n",
    "\n",
    "class GetNBG(mp.Process):\n",
    "    \n",
    "    def __init__(self, idx, total, chunk, groups, means):\n",
    "        super(GetNBG, self).__init__()\n",
    "        self.idx = idx\n",
    "        self.total = total\n",
    "        self.chunk = chunk\n",
    "        self.groups = groups\n",
    "        self.means = means\n",
    "        self.size = len(chunk)\n",
    "        self._cache = {}\n",
    "        self.queue = mp.Queue()\n",
    "        \n",
    "    def get_group(self, k):\n",
    "        if k not in self._cache:\n",
    "            self._cache[k] = frozenset(self.groups.get_group(k)[\"pwp_id\"].values)\n",
    "        return self._cache[k]\n",
    "        \n",
    "    def run(self):\n",
    "        start = dt.datetime.now()\n",
    "        print(\"[{}] Starting {}/{} with {} sources\".format(\n",
    "            start, self.idx, self.total, self.size))\n",
    "        nbgs, no_nbgs = [], []\n",
    "        for k1, k2 in self.chunk:\n",
    "            # extract the two groups to compare\n",
    "            # and create the candidate object\n",
    "            g1, g2 = self.get_group(k1), self.get_group(k2)\n",
    "            int_12 = len(g1.intersection(g2))\n",
    "            mmjd_1, mmjd_2 = self.means[k1], self.means[k2]\n",
    "            candidate = Best(\n",
    "                src_1=k1, src_2=k2, \n",
    "                n_1=len(g1), n_2=len(g2), int_12=int_12,\n",
    "                mmjd_1=mmjd_1, mmjd_2=mmjd_2,\n",
    "                mmjd_diff=np.abs(mmjd_1 - mmjd_2))\n",
    "            \n",
    "            if int_12 >= 50:\n",
    "                nbgs.append(candidate)\n",
    "            else:\n",
    "                no_nbgs.append(candidate)\n",
    "        \n",
    "        nbgs = select_nbg(pd.DataFrame(nbgs))\n",
    "        no_nbgs = select_no_nbg(pd.DataFrame(no_nbgs))\n",
    "        self.queue.put((nbgs, no_nbgs))\n",
    "        \n",
    "        end = dt.datetime.now()\n",
    "        print(\"[{}] Done {}/{}\".format(end, self.idx, self.total))\n",
    "        \n",
    "    def result(self):\n",
    "        return self.queue.get()\n",
    "    \n",
    "total = cpu_count()\n",
    "nbgs, no_nbgs = None, None\n",
    "for cidx, chunk in enumerate(chunks):\n",
    "    print(\"Starting chunk {}/{}\".format(cidx, len(chunks)))\n",
    "    procs, chunk_nbgs, chunk_no_nbgs = [], None, None\n",
    "    for idx, for_cpu in enumerate(np.array_split(chunk, total)):\n",
    "        proc = GetNBG(idx=idx, total=total, chunk=for_cpu, groups=groups, means=mean_mjds)\n",
    "        proc.start()\n",
    "        procs.append(proc)\n",
    "    del proc, for_cpu\n",
    "    gc.collect()\n",
    "    \n",
    "    for proc in procs:\n",
    "        proc.join()\n",
    "        p_nbgs, p_no_nbgs = proc.result()\n",
    "        if chunk_nbgs is None:\n",
    "            chunk_nbgs, chunk_no_bgs = p_nbgs, p_no_nbgs\n",
    "        else:\n",
    "            if p_nbgs is not None:\n",
    "                chunk_nbgs = select_nbg(\n",
    "                    pd.concat([chunk_nbgs, p_nbgs]))\n",
    "            if p_no_nbgs is not None:\n",
    "                chunk_no_nbgs = select_no_nbg(\n",
    "                    pd.concat([chunk_no_nbgs, p_no_nbgs]))\n",
    "    \n",
    "    if nbgs is None:\n",
    "        nbgs, no_nbgs = chunk_nbgs, chunk_no_nbgs\n",
    "    else:\n",
    "        if chunk_nbgs is not None:\n",
    "            nbgs = select_nbg(pd.concat([nbgs, chunk_nbgs]))\n",
    "        if chunk_no_nbgs is not None:\n",
    "            no_nbgs = select_no_nbg(pd.concat([no_nbgs, chunk_no_nbgs]))\n",
    "    \n",
    "    del procs, proc, p_nbgs, p_no_nbgs, chunk_nbgs, chunk_no_nbgs\n",
    "    gc.collect()\n",
    "    \n",
    "    print(\"=\" * 50)\n",
    "    "
   ]
  },
  {
   "cell_type": "code",
   "execution_count": null,
   "metadata": {},
   "outputs": [],
   "source": [
    "nbgs.shape"
   ]
  },
  {
   "cell_type": "code",
   "execution_count": null,
   "metadata": {},
   "outputs": [],
   "source": [
    "no_nbgs.shape"
   ]
  },
  {
   "cell_type": "code",
   "execution_count": null,
   "metadata": {},
   "outputs": [],
   "source": [
    "nbgs.to_pickle(\"data/nbgs2.pkl\")"
   ]
  },
  {
   "cell_type": "code",
   "execution_count": null,
   "metadata": {},
   "outputs": [],
   "source": [
    "no_nbgs.to_pickle(\"data/no_nbgs2.pkl\")"
   ]
  },
  {
   "cell_type": "code",
   "execution_count": null,
   "metadata": {},
   "outputs": [],
   "source": []
  }
 ],
 "metadata": {
  "kernelspec": {
   "display_name": "Python 2",
   "language": "python",
   "name": "python2"
  },
  "language_info": {
   "codemirror_mode": {
    "name": "ipython",
    "version": 2
   },
   "file_extension": ".py",
   "mimetype": "text/x-python",
   "name": "python",
   "nbconvert_exporter": "python",
   "pygments_lexer": "ipython2",
   "version": "2.7.14"
  }
 },
 "nbformat": 4,
 "nbformat_minor": 2
}
