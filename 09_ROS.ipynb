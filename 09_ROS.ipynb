{
 "cells": [
  {
   "cell_type": "code",
   "execution_count": 1,
   "metadata": {},
   "outputs": [],
   "source": [
    "% matplotlib inline\n",
    "\n",
    "import time\n",
    "import pandas as pd\n",
    "\n",
    "from IPython import display as d\n",
    "\n",
    "import seaborn as sns\n",
    "sns.set()\n",
    "\n",
    "from sklearn.svm import SVC\n",
    "from sklearn.tree import DecisionTreeClassifier\n",
    "from sklearn.ensemble import RandomForestClassifier\n",
    "from sklearn.neighbors import KNeighborsClassifier\n",
    "\n",
    "from imblearn.over_sampling import RandomOverSampler\n",
    "\n",
    "from libs import container\n",
    "from libs.experiment import (\n",
    "    WithAnotherExperiment, KFoldExperiment, roc, \n",
    "    discretize_classes, clean_features)"
   ]
  },
  {
   "cell_type": "code",
   "execution_count": 2,
   "metadata": {},
   "outputs": [],
   "source": [
    "data = container.Container(sample=pd.read_pickle(\"data/sample.pkl\"))\n",
    "data[\"balanced\"] = pd.concat((\n",
    "    data.sample[data.sample.nbg == 1].sample(786),\n",
    "    data.sample[data.sample.nbg == 0]))\n",
    "data[\"small_sample\"] = pd.read_pickle(\"data/small_sample.pkl\")"
   ]
  },
  {
   "cell_type": "markdown",
   "metadata": {},
   "source": [
    "## Features cleaning"
   ]
  },
  {
   "cell_type": "code",
   "execution_count": 3,
   "metadata": {},
   "outputs": [
    {
     "data": {
      "text/plain": [
       "{'nbg': 1, 'no-nbg': 0}"
      ]
     },
     "execution_count": 3,
     "metadata": {},
     "output_type": "execute_result"
    }
   ],
   "source": [
    "sclasses = {\n",
    "    \"nbg\": 1,\n",
    "    \"no-nbg\": 0}\n",
    "sclasses"
   ]
  },
  {
   "cell_type": "code",
   "execution_count": 4,
   "metadata": {},
   "outputs": [
    {
     "data": {
      "text/plain": [
       "((12598, 161), (1572, 161), (4352, 161))"
      ]
     },
     "execution_count": 4,
     "metadata": {},
     "output_type": "execute_result"
    }
   ],
   "source": [
    "data.sample.shape, data.balanced.shape, data.small_sample.shape"
   ]
  },
  {
   "cell_type": "code",
   "execution_count": 5,
   "metadata": {},
   "outputs": [
    {
     "name": "stdout",
     "output_type": "stream",
     "text": [
      "Removing [] because null\n",
      "Removing ['src1_Freq1_harmonics_rel_phase_0', 'src1_Freq2_harmonics_rel_phase_0', 'src1_Freq3_harmonics_rel_phase_0', 'src2_Freq1_harmonics_rel_phase_0', 'src2_Freq2_harmonics_rel_phase_0', 'src2_Freq3_harmonics_rel_phase_0'] because lowvariance\n",
      "('Total features:', 114)\n"
     ]
    }
   ],
   "source": [
    "X_columns = clean_features(data, \"sample\")\n",
    "X_columns = X_columns[\n",
    "    ~(X_columns.str.contains(\"Freq2_\") | X_columns.str.contains(\"Freq3_\"))]\n",
    "print(\"Total features:\", X_columns.size)"
   ]
  },
  {
   "cell_type": "code",
   "execution_count": 6,
   "metadata": {},
   "outputs": [
    {
     "data": {
      "text/plain": [
       "{'Amplitude',\n",
       " 'AmplitudeH',\n",
       " 'AmplitudeJ',\n",
       " 'AmplitudeJH',\n",
       " 'AmplitudeJK',\n",
       " 'Autocor_length',\n",
       " 'Beyond1Std',\n",
       " 'CAR_mean',\n",
       " 'CAR_sigma',\n",
       " 'CAR_tau',\n",
       " 'Con',\n",
       " 'Eta_e',\n",
       " 'FluxPercentileRatioMid20',\n",
       " 'FluxPercentileRatioMid35',\n",
       " 'FluxPercentileRatioMid50',\n",
       " 'FluxPercentileRatioMid65',\n",
       " 'FluxPercentileRatioMid80',\n",
       " 'Freq1_harmonics_amplitude_0',\n",
       " 'Freq1_harmonics_amplitude_1',\n",
       " 'Freq1_harmonics_amplitude_2',\n",
       " 'Freq1_harmonics_amplitude_3',\n",
       " 'Freq1_harmonics_rel_phase_1',\n",
       " 'Freq1_harmonics_rel_phase_2',\n",
       " 'Freq1_harmonics_rel_phase_3',\n",
       " 'Gskew',\n",
       " 'LinearTrend',\n",
       " 'MaxSlope',\n",
       " 'Mean',\n",
       " 'Meanvariance',\n",
       " 'MedianAbsDev',\n",
       " 'MedianBRP',\n",
       " 'PairSlopeTrend',\n",
       " 'PercentAmplitude',\n",
       " 'PercentDifferenceFluxPercentile',\n",
       " 'PeriodLS',\n",
       " 'Period_fit',\n",
       " 'Psi_CS',\n",
       " 'Psi_eta',\n",
       " 'Q31',\n",
       " 'Rcs',\n",
       " 'Skew',\n",
       " 'SmallKurtosis',\n",
       " 'Std',\n",
       " 'c89_c3',\n",
       " 'c89_hk_color',\n",
       " 'c89_jh_color',\n",
       " 'c89_jk_color',\n",
       " 'c89_m2',\n",
       " 'c89_m4',\n",
       " 'cnt',\n",
       " 'n09_c3',\n",
       " 'n09_hk_color',\n",
       " 'n09_jh_color',\n",
       " 'n09_jk_color',\n",
       " 'n09_m2',\n",
       " 'n09_m4',\n",
       " 'ppmb'}"
      ]
     },
     "execution_count": 6,
     "metadata": {},
     "output_type": "execute_result"
    }
   ],
   "source": [
    "set(x.split(\"_\", 1)[-1] for x in X_columns)"
   ]
  },
  {
   "cell_type": "markdown",
   "metadata": {},
   "source": [
    "## SVM - Linear"
   ]
  },
  {
   "cell_type": "code",
   "execution_count": 7,
   "metadata": {},
   "outputs": [
    {
     "name": "stdout",
     "output_type": "stream",
     "text": [
      "[tfFP7o8AGR5XzxxzWnt48Y-2018-10-12 16:20:23.086146] Launching\n",
      "[jrVyFNWVhtcmANG7hNsgfJ-2018-10-12 16:20:23.591064] Launching\n",
      "[f6f9L8RemqvZbPo7qXrQT5-2018-10-12 16:20:24.151404] Launching\n",
      "[LN8yKpoC3wLZgrLhERDSdF-2018-10-12 16:20:24.688538] Launching\n",
      "[PRjPEoKXSbdFGdVRrhPHTd-2018-10-12 16:20:25.246359] Launching\n",
      "[C9bF4jGEwNXrbdqBkeoNbB-2018-10-12 16:20:25.822118] Launching\n",
      "[WDbJSvmYpuMxqD7pyt6WTR-2018-10-12 16:20:26.362756] Launching\n",
      "[DWGfA3YeEZM2RrfhZSi3H5-2018-10-12 16:20:26.901228] Launching\n",
      "[H5Nf7ZvYc4aoTWoSLgUr2b-2018-10-12 16:20:27.449239] Launching\n",
      "[vVp8osLw4CdqUq4x3J8tpJ-2018-10-12 16:20:28.045430] Launching\n",
      "[tfFP7o8AGR5XzxxzWnt48Y-2018-10-12 16:26:51.741679] Done\n",
      "[jrVyFNWVhtcmANG7hNsgfJ-2018-10-12 16:27:11.357270] Done\n",
      "[f6f9L8RemqvZbPo7qXrQT5-2018-10-12 16:27:33.542035] Done\n",
      "[vVp8osLw4CdqUq4x3J8tpJ-2018-10-12 16:27:35.679319] Done\n",
      "[DWGfA3YeEZM2RrfhZSi3H5-2018-10-12 16:27:39.801957] Done\n",
      "[H5Nf7ZvYc4aoTWoSLgUr2b-2018-10-12 16:27:52.935839] Done\n",
      "[LN8yKpoC3wLZgrLhERDSdF-2018-10-12 16:28:06.034285] Done\n",
      "[PRjPEoKXSbdFGdVRrhPHTd-2018-10-12 16:28:13.702209] Done\n",
      "[C9bF4jGEwNXrbdqBkeoNbB-2018-10-12 16:29:23.641667] Done\n",
      "[WDbJSvmYpuMxqD7pyt6WTR-2018-10-12 16:30:26.355147] Done\n",
      "             precision    recall  f1-score   support\n",
      "\n",
      "        0.0       0.08      0.46      0.13       253\n",
      "        1.0       0.95      0.66      0.78      4099\n",
      "\n",
      "avg / total       0.90      0.65      0.74      4352\n",
      "\n",
      "--------------------------------------------------------------------------------\n",
      "CPU times: user 6.76 s, sys: 2.04 s, total: 8.8 s\n",
      "Wall time: 10min 5s\n"
     ]
    }
   ],
   "source": [
    "%%time\n",
    "svc_linear = KFoldExperiment(\n",
    "    clf=SVC(kernel='linear', probability=True), clsnum=sclasses,\n",
    "    data=data, pcls=\"nbg\", ncls=\"no-nbg\", sampler=RandomOverSampler(),\n",
    "    X_columns=X_columns, y_column=\"nbg\")(\"small_sample\", nfolds=10)"
   ]
  },
  {
   "cell_type": "markdown",
   "metadata": {},
   "source": [
    "## SVM - Poly"
   ]
  },
  {
   "cell_type": "code",
   "execution_count": 8,
   "metadata": {},
   "outputs": [
    {
     "name": "stdout",
     "output_type": "stream",
     "text": [
      "[fA8RgrrH5pGopVYtHHD2yL-2018-10-12 16:30:28.309770] Launching\n",
      "[F9qhMNoR99VKAz2egrxDLK-2018-10-12 16:30:28.746992] Launching\n",
      "[JvPqCStc8rsC6y8YpETPrb-2018-10-12 16:30:29.179729] Launching\n",
      "[7FkDDhN6P4FocoGFQDQzi5-2018-10-12 16:30:29.628362] Launching\n",
      "[VXLXvvsqifVBW9uE8mwHCi-2018-10-12 16:30:30.128292] Launching\n",
      "[3MMXAa6MTgsYq2T5PjSYDe-2018-10-12 16:30:30.625058] Launching\n",
      "[E7TXZENpaHBpe4J9g5wj56-2018-10-12 16:30:31.107125] Launching\n",
      "[VqGzGVPDWo7BRM2uuB9E5R-2018-10-12 16:30:31.620281] Launching\n",
      "[QXXgjkALgde2BM7UK6zPuH-2018-10-12 16:30:32.121790] Launching\n",
      "[EqXXHTi3Wc8V9roTFGx35Y-2018-10-12 16:30:32.618382] Launching\n",
      "[JvPqCStc8rsC6y8YpETPrb-2018-10-12 16:31:52.148125] Done\n",
      "[VqGzGVPDWo7BRM2uuB9E5R-2018-10-12 16:31:52.473177] Done\n",
      "[fA8RgrrH5pGopVYtHHD2yL-2018-10-12 16:31:53.331154] Done\n",
      "[F9qhMNoR99VKAz2egrxDLK-2018-10-12 16:31:59.226259] Done\n",
      "[3MMXAa6MTgsYq2T5PjSYDe-2018-10-12 16:31:59.601621] Done\n",
      "[E7TXZENpaHBpe4J9g5wj56-2018-10-12 16:32:03.010685] Done\n",
      "[EqXXHTi3Wc8V9roTFGx35Y-2018-10-12 16:32:46.797918] Done\n",
      "[QXXgjkALgde2BM7UK6zPuH-2018-10-12 16:33:15.954791] Done\n",
      "[7FkDDhN6P4FocoGFQDQzi5-2018-10-12 16:33:17.409796] Done\n",
      "[VXLXvvsqifVBW9uE8mwHCi-2018-10-12 16:33:33.411338] Done\n",
      "             precision    recall  f1-score   support\n",
      "\n",
      "        0.0       0.31      0.25      0.28       253\n",
      "        1.0       0.95      0.97      0.96      4099\n",
      "\n",
      "avg / total       0.92      0.92      0.92      4352\n",
      "\n",
      "--------------------------------------------------------------------------------\n",
      "CPU times: user 5.37 s, sys: 1.27 s, total: 6.65 s\n",
      "Wall time: 3min 6s\n"
     ]
    }
   ],
   "source": [
    "%%time\n",
    "svc_poly = KFoldExperiment(\n",
    "    clf=SVC(kernel='poly', probability=True), clsnum=sclasses,\n",
    "    data=data, pcls=\"nbg\", ncls=\"no-nbg\", sampler=RandomOverSampler(),\n",
    "    X_columns=X_columns, y_column=\"nbg\")(\"small_sample\", nfolds=10)"
   ]
  },
  {
   "cell_type": "markdown",
   "metadata": {},
   "source": [
    "## Random Forest"
   ]
  },
  {
   "cell_type": "code",
   "execution_count": 9,
   "metadata": {},
   "outputs": [
    {
     "name": "stdout",
     "output_type": "stream",
     "text": [
      "[x6eVzgmFmZPMAtmcPrFNDd-2018-10-12 16:33:35.258131] Launching\n",
      "[7keQ8KqQV7zAcubkbxfWib-2018-10-12 16:33:35.593755] Launching\n",
      "[BiFzeehpBzuBRZ3XEyiXVk-2018-10-12 16:33:35.916674] Launching\n",
      "[gcfg3cgicHUJi96uxGtTgR-2018-10-12 16:33:36.241535] Launching\n",
      "[H46Ad7UJFYvdBjx7VrLQa8-2018-10-12 16:33:36.570575] Launching\n",
      "[Ju3T2c7JWmNzQDnDQxN4Ca-2018-10-12 16:33:36.910564] Launching\n",
      "[ADKw6shD4uAU9R4WWjUtmb-2018-10-12 16:33:37.351458] Launching\n",
      "[Vq3VAAXMsnftcDv2VGmJom-2018-10-12 16:33:37.863975] Launching\n",
      "[3DK7uHnVd7xDGWg8FsxTRS-2018-10-12 16:33:38.208522] Launching\n",
      "[Z69rUeAQJprdiedBmERuvD-2018-10-12 16:33:38.671864] Launching\n",
      "[Ju3T2c7JWmNzQDnDQxN4Ca-2018-10-12 16:34:39.272728] Done\n",
      "[Z69rUeAQJprdiedBmERuvD-2018-10-12 16:34:39.639059] Done\n",
      "[ADKw6shD4uAU9R4WWjUtmb-2018-10-12 16:34:40.336939] Done\n",
      "[BiFzeehpBzuBRZ3XEyiXVk-2018-10-12 16:34:41.279914] Done\n",
      "[Vq3VAAXMsnftcDv2VGmJom-2018-10-12 16:34:41.728734] Done\n",
      "[3DK7uHnVd7xDGWg8FsxTRS-2018-10-12 16:34:42.366066] Done\n",
      "[x6eVzgmFmZPMAtmcPrFNDd-2018-10-12 16:34:42.557668] Done\n",
      "[gcfg3cgicHUJi96uxGtTgR-2018-10-12 16:34:43.797564] Done\n",
      "[H46Ad7UJFYvdBjx7VrLQa8-2018-10-12 16:34:43.988131] Done\n",
      "[7keQ8KqQV7zAcubkbxfWib-2018-10-12 16:34:44.658255] Done\n",
      "             precision    recall  f1-score   support\n",
      "\n",
      "        0.0       0.00      0.00      0.00       253\n",
      "        1.0       0.94      1.00      0.97      4099\n",
      "\n",
      "avg / total       0.89      0.94      0.91      4352\n",
      "\n",
      "--------------------------------------------------------------------------------\n",
      "CPU times: user 4.13 s, sys: 1.19 s, total: 5.32 s\n",
      "Wall time: 1min 11s\n"
     ]
    }
   ],
   "source": [
    "%%time\n",
    "rf = KFoldExperiment(\n",
    "    clf=RandomForestClassifier(n_estimators=500, criterion=\"entropy\"), clsnum=sclasses, sampler=RandomOverSampler(),\n",
    "    data=data, pcls=\"nbg\", ncls=\"no-nbg\", X_columns=X_columns, y_column=\"nbg\")(\"small_sample\", nfolds=10)"
   ]
  },
  {
   "cell_type": "markdown",
   "metadata": {},
   "source": [
    "## KNN"
   ]
  },
  {
   "cell_type": "code",
   "execution_count": 10,
   "metadata": {},
   "outputs": [
    {
     "name": "stdout",
     "output_type": "stream",
     "text": [
      "[645RAxseoMwpAqhEQg4vye-2018-10-12 16:34:46.489391] Launching\n",
      "[hp9no4CB2W92uN49PTsjp3-2018-10-12 16:34:46.924780] Launching\n",
      "[GzZZ3hjufPEYfr5T47gjFM-2018-10-12 16:34:47.280604] Launching\n",
      "[ga3LKYXvWZ7mp7FFjdZE8H-2018-10-12 16:34:47.775357] Launching\n",
      "[78sWhS9E37ZdKeq7rxcFwP-2018-10-12 16:34:48.277415] Launching\n",
      "[gyDUd7aRHKLSPd82fkH7fk-2018-10-12 16:34:48.785237] Launching\n",
      "[3MJ9PajpsZjRYaDNxFcd8E-2018-10-12 16:34:49.299347] Launching\n",
      "[dEgCXToJ7ojE6Wf6JgrLRH-2018-10-12 16:34:49.818458] Launching\n",
      "[fiAz2mhtB5uG96fU9hySHG-2018-10-12 16:34:50.343360] Launching\n",
      "[zWQ3a3mLwKgpwCWfRMZzJb-2018-10-12 16:34:50.879424] Launching\n",
      "[hp9no4CB2W92uN49PTsjp3-2018-10-12 16:34:51.111604] Done\n",
      "[GzZZ3hjufPEYfr5T47gjFM-2018-10-12 16:34:51.774210] Done\n",
      "[78sWhS9E37ZdKeq7rxcFwP-2018-10-12 16:34:52.988069] Done\n",
      "[gyDUd7aRHKLSPd82fkH7fk-2018-10-12 16:34:53.080689] Done\n",
      "[645RAxseoMwpAqhEQg4vye-2018-10-12 16:34:53.692241] Done\n",
      "[dEgCXToJ7ojE6Wf6JgrLRH-2018-10-12 16:34:54.293389] Done\n",
      "[fiAz2mhtB5uG96fU9hySHG-2018-10-12 16:34:54.545998] Done\n",
      "[ga3LKYXvWZ7mp7FFjdZE8H-2018-10-12 16:34:54.891747] Done\n",
      "[3MJ9PajpsZjRYaDNxFcd8E-2018-10-12 16:34:55.712173] Done\n",
      "[zWQ3a3mLwKgpwCWfRMZzJb-2018-10-12 16:34:57.929844] Done\n",
      "             precision    recall  f1-score   support\n",
      "\n",
      "        0.0       0.09      0.47      0.15       253\n",
      "        1.0       0.96      0.71      0.82      4099\n",
      "\n",
      "avg / total       0.91      0.70      0.78      4352\n",
      "\n",
      "--------------------------------------------------------------------------------\n",
      "CPU times: user 4.95 s, sys: 1.05 s, total: 6 s\n",
      "Wall time: 13.2 s\n"
     ]
    }
   ],
   "source": [
    "%%time\n",
    "knn = KFoldExperiment(\n",
    "    clf=KNeighborsClassifier(n_neighbors=50, weights='distance'), clsnum=sclasses, sampler=RandomOverSampler(),\n",
    "    data=data, pcls=\"nbg\", ncls=\"no-nbg\", X_columns=X_columns, y_column=\"nbg\")(\"small_sample\", nfolds=10)"
   ]
  },
  {
   "cell_type": "code",
   "execution_count": 11,
   "metadata": {},
   "outputs": [
    {
     "data": {
      "image/png": "[encoded data removed]",
      "text/plain": [
       "<Figure size 432x288 with 1 Axes>"
      ]
     },
     "metadata": {},
     "output_type": "display_data"
    }
   ],
   "source": [
    "roc({\"KNN\": knn, \"RForest\": rf, \n",
    "     \"SVC Linear\": svc_linear,\n",
    "     \"SVC Polynomic\": svc_poly})"
   ]
  },
  {
   "cell_type": "code",
   "execution_count": null,
   "metadata": {},
   "outputs": [],
   "source": []
  }
 ],
 "metadata": {
  "kernelspec": {
   "display_name": "Python 2",
   "language": "python",
   "name": "python2"
  },
  "language_info": {
   "codemirror_mode": {
    "name": "ipython",
    "version": 2
   },
   "file_extension": ".py",
   "mimetype": "text/x-python",
   "name": "python",
   "nbconvert_exporter": "python",
   "pygments_lexer": "ipython2",
   "version": "2.7.14"
  }
 },
 "nbformat": 4,
 "nbformat_minor": 2
}
