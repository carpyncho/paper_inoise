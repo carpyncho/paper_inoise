{
 "cells": [
  {
   "cell_type": "code",
   "execution_count": 1,
   "metadata": {},
   "outputs": [],
   "source": [
    "import sys\n",
    "import os\n",
    "import gc\n",
    "import itertools as it\n",
    "import tempfile\n",
    "from collections import Counter\n",
    "\n",
    "import numpy as np\n",
    "import pandas as pd\n",
    "\n",
    "from joblib import Parallel, delayed, cpu_count, load, dump, Memory\n",
    "\n",
    "%matplotlib inline\n",
    "import matplotlib.pyplot as plt"
   ]
  },
  {
   "cell_type": "code",
   "execution_count": 3,
   "metadata": {},
   "outputs": [],
   "source": [
    "# corral startup\n",
    "sys.path.insert(1, \"/home/jbcabral/carpyncho3\")\n",
    "os.environ.setdefault(\"CORRAL_SETTINGS_MODULE\", \"carpyncho.settings\")\n",
    "\n",
    "from corral import core\n",
    "core.setup_environment()\n",
    "\n",
    "from corral import db\n",
    "from carpyncho.models import LightCurves"
   ]
  },
  {
   "cell_type": "code",
   "execution_count": 4,
   "metadata": {},
   "outputs": [
    {
     "name": "stderr",
     "output_type": "stream",
     "text": [
      "[carpyncho-sqlalchemy.engine.base.Engine-INFO@2018-09-19 14:02:14,094] select version()\n",
      "[carpyncho-sqlalchemy.engine.base.Engine-INFO@2018-09-19 14:02:14,096] {}\n",
      "[carpyncho-sqlalchemy.engine.base.Engine-INFO@2018-09-19 14:02:14,101] select current_schema()\n",
      "[carpyncho-sqlalchemy.engine.base.Engine-INFO@2018-09-19 14:02:14,103] {}\n",
      "[carpyncho-sqlalchemy.engine.base.Engine-INFO@2018-09-19 14:02:14,108] SELECT CAST('test plain returns' AS VARCHAR(60)) AS anon_1\n",
      "[carpyncho-sqlalchemy.engine.base.Engine-INFO@2018-09-19 14:02:14,109] {}\n",
      "[carpyncho-sqlalchemy.engine.base.Engine-INFO@2018-09-19 14:02:14,112] SELECT CAST('test unicode returns' AS VARCHAR(60)) AS anon_1\n",
      "[carpyncho-sqlalchemy.engine.base.Engine-INFO@2018-09-19 14:02:14,114] {}\n",
      "[carpyncho-sqlalchemy.engine.base.Engine-INFO@2018-09-19 14:02:14,119] show standard_conforming_strings\n",
      "[carpyncho-sqlalchemy.engine.base.Engine-INFO@2018-09-19 14:02:14,120] {}\n",
      "[carpyncho-sqlalchemy.engine.base.Engine-INFO@2018-09-19 14:02:14,125] BEGIN (implicit)\n",
      "[carpyncho-sqlalchemy.engine.base.Engine-INFO@2018-09-19 14:02:14,129] SELECT \"LightCurves\".src_obs_cnt AS \"LightCurves_src_obs_cnt\", \"LightCurves\".id AS \"LightCurves_id\", \"LightCurves\".tile_id AS \"LightCurves_tile_id\", \"Tile_1\".raw_filename AS \"Tile_1_raw_filename\", \"Tile_1\".npy_filename AS \"Tile_1_npy_filename\", \"Tile_1\".id AS \"Tile_1_id\", \"Tile_1\".name AS \"Tile_1_name\", \"Tile_1\".size AS \"Tile_1_size\", \"Tile_1\".status AS \"Tile_1_status\", \"Tile_1\".ogle3_tagged_number AS \"Tile_1_ogle3_tagged_number\", \"Tile_1\".ready AS \"Tile_1_ready\" \n",
      "FROM \"LightCurves\" LEFT OUTER JOIN \"Tile\" AS \"Tile_1\" ON \"Tile_1\".id = \"LightCurves\".tile_id \n",
      "WHERE EXISTS (SELECT 1 \n",
      "FROM \"Tile\" \n",
      "WHERE \"Tile\".id = \"LightCurves\".tile_id AND \"Tile\".name = %(name_1)s)\n",
      "[carpyncho-sqlalchemy.engine.base.Engine-INFO@2018-09-19 14:02:14,131] {'name_1': 'b396'}\n",
      "[carpyncho-sqlalchemy.engine.base.Engine-INFO@2018-09-19 14:02:56,683] COMMIT\n"
     ]
    }
   ],
   "source": [
    "with db.session_scope() as session:\n",
    "    lc = session.query(LightCurves).filter(LightCurves.tile.has(name=\"b396\")).one()\n",
    "    obs_counter = lc.obs_counter\n",
    "    observations = lc.observations"
   ]
  },
  {
   "cell_type": "code",
   "execution_count": 5,
   "metadata": {},
   "outputs": [],
   "source": [
    "obs_min = np.random.choice(\n",
    "    obs_counter[obs_counter[\"cnt\"] >= 87][\"id\"], 10000, False)\n",
    "\n",
    "df = pd.DataFrame(observations[['bm_src_id', u'pwp_id']])\n",
    "df = df[df.bm_src_id.isin(obs_min)]"
   ]
  },
  {
   "cell_type": "code",
   "execution_count": 6,
   "metadata": {},
   "outputs": [
    {
     "name": "stdout",
     "output_type": "stream",
     "text": [
      "CPU times: user 0 ns, sys: 0 ns, total: 0 ns\n",
      "Wall time: 465 µs\n"
     ]
    }
   ],
   "source": [
    "%time groups = df.groupby(\"bm_src_id\")"
   ]
  },
  {
   "cell_type": "code",
   "execution_count": null,
   "metadata": {},
   "outputs": [],
   "source": [
    "class "
   ]
  }
 ],
 "metadata": {
  "kernelspec": {
   "display_name": "Python 2",
   "language": "python",
   "name": "python2"
  },
  "language_info": {
   "codemirror_mode": {
    "name": "ipython",
    "version": 2
   },
   "file_extension": ".py",
   "mimetype": "text/x-python",
   "name": "python",
   "nbconvert_exporter": "python",
   "pygments_lexer": "ipython2",
   "version": "2.7.14"
  }
 },
 "nbformat": 4,
 "nbformat_minor": 2
}
