{
 "cells": [
  {
   "cell_type": "code",
   "execution_count": 72,
   "metadata": {},
   "outputs": [],
   "source": [
    "import sys\n",
    "import os\n",
    "import gc\n",
    "import itertools as it\n",
    "import tempfile\n",
    "from collections import Counter, namedtuple\n",
    "import multiprocessing as mp\n",
    "import datetime as dt\n",
    "\n",
    "\n",
    "import numpy as np\n",
    "import pandas as pd\n",
    "\n",
    "from joblib import Parallel, delayed, cpu_count, load, dump, Memory\n",
    "\n",
    "%matplotlib inline\n",
    "import matplotlib.pyplot as plt"
   ]
  },
  {
   "cell_type": "code",
   "execution_count": 73,
   "metadata": {},
   "outputs": [],
   "source": [
    "# corral startup\n",
    "sys.path.insert(1, \"/home/jbcabral/carpyncho3\")\n",
    "os.environ.setdefault(\"CORRAL_SETTINGS_MODULE\", \"carpyncho.settings\")\n",
    "\n",
    "from corral import core\n",
    "core.setup_environment()\n",
    "\n",
    "from corral import db\n",
    "from carpyncho.models import LightCurves\n",
    "# from carpyncho.steps.features_extractor import CMP\n",
    "\n",
    "from carpyncho.lib.beamc import (\n",
    "    extinction, knnfix, add_columns, MIN_BOX_SIZE, SERVER_SOURCES_LIMIT)"
   ]
  },
  {
   "cell_type": "code",
   "execution_count": 81,
   "metadata": {},
   "outputs": [
    {
     "name": "stderr",
     "output_type": "stream",
     "text": [
      "[carpyncho-sqlalchemy.engine.base.Engine-INFO@2018-10-11 21:04:39,357] BEGIN (implicit)\n",
      "[carpyncho-sqlalchemy.engine.base.Engine-INFO@2018-10-11 21:04:39,360] SELECT \"LightCurves\".src_obs_cnt AS \"LightCurves_src_obs_cnt\", \"LightCurves\".id AS \"LightCurves_id\", \"LightCurves\".tile_id AS \"LightCurves_tile_id\", \"Tile_1\".raw_filename AS \"Tile_1_raw_filename\", \"Tile_1\".npy_filename AS \"Tile_1_npy_filename\", \"Tile_1\".id AS \"Tile_1_id\", \"Tile_1\".name AS \"Tile_1_name\", \"Tile_1\".size AS \"Tile_1_size\", \"Tile_1\".status AS \"Tile_1_status\", \"Tile_1\".ogle3_tagged_number AS \"Tile_1_ogle3_tagged_number\", \"Tile_1\".ready AS \"Tile_1_ready\" \n",
      "FROM \"LightCurves\" LEFT OUTER JOIN \"Tile\" AS \"Tile_1\" ON \"Tile_1\".id = \"LightCurves\".tile_id \n",
      "WHERE EXISTS (SELECT 1 \n",
      "FROM \"Tile\" \n",
      "WHERE \"Tile\".id = \"LightCurves\".tile_id AND \"Tile\".name = %(name_1)s)\n",
      "[carpyncho-sqlalchemy.engine.base.Engine-INFO@2018-10-11 21:04:39,362] {'name_1': 'b396'}\n",
      "[carpyncho-sqlalchemy.engine.base.Engine-INFO@2018-10-11 21:05:17,834] COMMIT\n"
     ]
    }
   ],
   "source": [
    "with db.session_scope() as session:\n",
    "    lc = session.query(LightCurves).filter(LightCurves.tile.has(name=\"b396\")).one()\n",
    "    feats = lc.features\n",
    "    "
   ]
  },
  {
   "cell_type": "code",
   "execution_count": 82,
   "metadata": {},
   "outputs": [],
   "source": [
    "feats = pd.DataFrame(feats)"
   ]
  },
  {
   "cell_type": "code",
   "execution_count": 76,
   "metadata": {},
   "outputs": [],
   "source": [
    "nbgs = pd.read_pickle(\"data/all_nbgs.pkl\")\n",
    "no_nbgs = pd.read_pickle(\"data/all_no_nbgs.pkl\")\n",
    "\n",
    "src_ids = np.concatenate((\n",
    "    np.unique(nbgs[[\"src_1\", \"src_2\"]].values),\n",
    "    np.unique(no_nbgs[[\"src_1\", \"src_2\"]].values)))\n",
    "src_ids = np.unique(src_ids)\n",
    "\n",
    "feats = feats[feats.id.isin(src_ids)]\n",
    "\n",
    "rows = []\n",
    "for src_1, src_2 in nbgs[[\"src_1\", \"src_2\"]].values:\n",
    "    row = {\"src1_{}\".format(k): v for k, v in feats[feats.id == src_1].iloc[0].to_dict().items()}\n",
    "    row.update({\"src2_{}\".format(k): v for k, v in feats[feats.id == src_2].iloc[0].to_dict().items()})\n",
    "    row[\"nbg\"] = 1\n",
    "    rows.append(row)\n",
    "    \n",
    "for src_1, src_2 in no_nbgs[[\"src_1\", \"src_2\"]].values:\n",
    "    row = {\"src1_{}\".format(k): v for k, v in feats[feats.id == src_1].iloc[0].to_dict().items()}\n",
    "    row.update({\"src2_{}\".format(k): v for k, v in feats[feats.id == src_2].iloc[0].to_dict().items()})\n",
    "    row[\"nbg\"] = 0\n",
    "    rows.append(row)   \n",
    "    \n",
    "df = pd.DataFrame(rows)\n",
    "\n",
    "columns = [c for c in list(df.columns) if c not in ['src2_ogle3_type', 'src1_ogle3_type', \"nbg\", 'src2_id', 'src1_id']]\n",
    "columns = [\"src1_id\", \"src2_id\", \"nbg\"] + columns\n",
    "\n",
    "df = df[columns]\n",
    "\n",
    "# df.to_pickle(\"data/sample.pkl\")"
   ]
  },
  {
   "cell_type": "code",
   "execution_count": 83,
   "metadata": {},
   "outputs": [],
   "source": [
    "nbgs = pd.read_pickle(\"data/nbgs2.pkl\")\n",
    "no_nbgs = pd.read_pickle(\"data/no_nbgs2.pkl\")\n",
    "\n",
    "src_ids = np.concatenate((\n",
    "    np.unique(nbgs[[\"src_1\", \"src_2\"]].values),\n",
    "    np.unique(no_nbgs[[\"src_1\", \"src_2\"]].values)))\n",
    "src_ids = np.unique(src_ids)\n",
    "\n",
    "feats = feats[feats.id.isin(src_ids)]\n",
    "\n",
    "rows = []\n",
    "for src_1, src_2 in nbgs[[\"src_1\", \"src_2\"]].values:\n",
    "    row = {\"src1_{}\".format(k): v for k, v in feats[feats.id == src_1].iloc[0].to_dict().items()}\n",
    "    row.update({\"src2_{}\".format(k): v for k, v in feats[feats.id == src_2].iloc[0].to_dict().items()})\n",
    "    row[\"nbg\"] = 1\n",
    "    rows.append(row)\n",
    "    \n",
    "for src_1, src_2 in no_nbgs[[\"src_1\", \"src_2\"]].values:\n",
    "    row = {\"src1_{}\".format(k): v for k, v in feats[feats.id == src_1].iloc[0].to_dict().items()}\n",
    "    row.update({\"src2_{}\".format(k): v for k, v in feats[feats.id == src_2].iloc[0].to_dict().items()})\n",
    "    row[\"nbg\"] = 0\n",
    "    rows.append(row)   \n",
    "    \n",
    "df = pd.DataFrame(rows)\n",
    "\n",
    "columns = [c for c in list(df.columns) if c not in ['src2_ogle3_type', 'src1_ogle3_type', \"nbg\", 'src2_id', 'src1_id']]\n",
    "columns = [\"src1_id\", \"src2_id\", \"nbg\"] + columns\n",
    "\n",
    "df = df[columns]\n",
    "\n",
    "df.to_pickle(\"data/small_sample.pkl\")"
   ]
  },
  {
   "cell_type": "code",
   "execution_count": 67,
   "metadata": {},
   "outputs": [],
   "source": []
  },
  {
   "cell_type": "code",
   "execution_count": 69,
   "metadata": {},
   "outputs": [],
   "source": []
  },
  {
   "cell_type": "code",
   "execution_count": 70,
   "metadata": {},
   "outputs": [],
   "source": []
  }
 ],
 "metadata": {
  "kernelspec": {
   "display_name": "Python 2",
   "language": "python",
   "name": "python2"
  },
  "language_info": {
   "codemirror_mode": {
    "name": "ipython",
    "version": 2
   },
   "file_extension": ".py",
   "mimetype": "text/x-python",
   "name": "python",
   "nbconvert_exporter": "python",
   "pygments_lexer": "ipython2",
   "version": "2.7.14"
  }
 },
 "nbformat": 4,
 "nbformat_minor": 2
}
