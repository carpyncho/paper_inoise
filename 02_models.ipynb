{
 "cells": [
  {
   "cell_type": "code",
   "execution_count": 1,
   "metadata": {},
   "outputs": [],
   "source": [
    "from __future__ import print_function\n",
    "\n",
    "from sklearn import datasets\n",
    "from sklearn.model_selection import train_test_split\n",
    "from sklearn.model_selection import GridSearchCV\n",
    "from sklearn.metrics import classification_report\n",
    "from sklearn.svm import SVC\n",
    "\n",
    "import pickle\n",
    "\n",
    "import numpy as np\n",
    "\n",
    "import pandas as pd\n",
    "\n",
    "% matplotlib inline\n",
    "import matplotlib.pyplot as plt\n",
    "import seaborn as sns\n",
    "# sns.set()\n",
    "\n",
    "from sklearn.svm import SVC\n",
    "from sklearn.tree import DecisionTreeClassifier\n",
    "from sklearn.ensemble import RandomForestClassifier\n",
    "from sklearn.neighbors import KNeighborsClassifier\n",
    "\n",
    "from sklearn.preprocessing import StandardScaler\n",
    "\n",
    "import joblib\n",
    "\n",
    "from libs.container import Container\n",
    "from libs.display import d\n",
    "from libs.experiment import KFoldExperiment, WithAnotherExperiment, roc"
   ]
  },
  {
   "cell_type": "code",
   "execution_count": 2,
   "metadata": {},
   "outputs": [],
   "source": [
    "cpu = joblib.cpu_count()"
   ]
  },
  {
   "cell_type": "code",
   "execution_count": 3,
   "metadata": {},
   "outputs": [
    {
     "data": {
      "text/plain": [
       "{'b261': 1, 'b278': 0}"
      ]
     },
     "execution_count": 3,
     "metadata": {},
     "output_type": "execute_result"
    }
   ],
   "source": [
    "sample = pd.read_pickle(\"data/scaled/sample.pkl.bz2\")\n",
    "sample[\"tile\"] = sample[\"id\"].apply(lambda i: \"b\" + str(i)[1:4])\n",
    "\n",
    "no_features = [\"id\", \"vs_catalog\", \"vs_type\", \"ra_k\", \"dec_k\", \"tile\", \"cls\"] \n",
    "X_columns = [c for c in sample.columns if c not in no_features]\n",
    "\n",
    "grouped = sample.groupby(\"tile\")\n",
    "data = Container({k: grouped.get_group(k).copy() for k in grouped.groups.keys()})\n",
    "data = Container(data=pd.concat([data.b278, data.b261]))\n",
    "\n",
    "cls = {name: idx for idx, name in enumerate(data.data.tile.unique())}\n",
    "data.data[\"cls\"] = data.data.tile.apply(cls.get)\n",
    "\n",
    "del grouped, sample\n",
    "\n",
    "cls"
   ]
  },
  {
   "cell_type": "code",
   "execution_count": 4,
   "metadata": {},
   "outputs": [],
   "source": [
    "cls = {v: v for v in cls.values()}"
   ]
  },
  {
   "cell_type": "code",
   "execution_count": 5,
   "metadata": {},
   "outputs": [
    {
     "data": {
      "text/plain": [
       "Index([u'Amplitude', u'AmplitudeH', u'AmplitudeJ', u'AmplitudeJH',\n",
       "       u'AmplitudeJK', u'Autocor_length', u'Beyond1Std', u'CAR_mean',\n",
       "       u'CAR_sigma', u'CAR_tau', u'Con', u'Eta_e', u'FluxPercentileRatioMid20',\n",
       "       u'FluxPercentileRatioMid35', u'FluxPercentileRatioMid50',\n",
       "       u'FluxPercentileRatioMid65', u'FluxPercentileRatioMid80',\n",
       "       u'Freq1_harmonics_amplitude_0', u'Freq1_harmonics_amplitude_1',\n",
       "       u'Freq1_harmonics_amplitude_2', u'Freq1_harmonics_amplitude_3',\n",
       "       u'Freq1_harmonics_rel_phase_0', u'Freq1_harmonics_rel_phase_1',\n",
       "       u'Freq1_harmonics_rel_phase_2', u'Freq1_harmonics_rel_phase_3',\n",
       "       u'LinearTrend', u'MaxSlope', u'Mean', u'Meanvariance', u'MedianAbsDev',\n",
       "       u'MedianBRP', u'PairSlopeTrend', u'PercentAmplitude',\n",
       "       u'PercentDifferenceFluxPercentile', u'PeriodLS', u'Period_fit',\n",
       "       u'Psi_CS', u'Psi_eta', u'Q31', u'Rcs', u'Skew', u'SmallKurtosis',\n",
       "       u'Std', u'c89_c3', u'c89_hk_color', u'c89_jh_color', u'c89_jk_color',\n",
       "       u'c89_m2', u'c89_m4', u'cnt', u'dec_k', u'id', u'n09_c3',\n",
       "       u'n09_hk_color', u'n09_jh_color', u'n09_jk_color', u'n09_m2', u'n09_m4',\n",
       "       u'ppmb', u'ra_k', u'vs_catalog', u'vs_type', u'tile', u'cls'],\n",
       "      dtype='object')"
      ]
     },
     "execution_count": 5,
     "metadata": {},
     "output_type": "execute_result"
    }
   ],
   "source": [
    "data.data.columns"
   ]
  },
  {
   "cell_type": "code",
   "execution_count": 6,
   "metadata": {},
   "outputs": [],
   "source": [
    "RF_PARAMS = {\n",
    "    'max_features': 0.5, 'min_samples_split': 10, 'n_jobs': cpu, \n",
    "    'criterion': 'entropy', 'n_estimators': 500}\n",
    "\n",
    "SVM_PARAMS = {'kernel': 'rbf', 'C': 1000, 'gamma': 0.001, 'probability': True}"
   ]
  },
  {
   "cell_type": "code",
   "execution_count": 7,
   "metadata": {},
   "outputs": [
    {
     "name": "stdout",
     "output_type": "stream",
     "text": [
      "              precision    recall  f1-score   support\n",
      "\n",
      "         0.0       0.84      0.89      0.86       994\n",
      "         1.0       0.89      0.83      0.86       996\n",
      "\n",
      "   micro avg       0.86      0.86      0.86      1990\n",
      "   macro avg       0.86      0.86      0.86      1990\n",
      "weighted avg       0.86      0.86      0.86      1990\n",
      "\n",
      "--------------------------------------------------------------------------------\n",
      "CPU times: user 8min 26s, sys: 2.2 s, total: 8min 28s\n",
      "Wall time: 1min 17s\n"
     ]
    }
   ],
   "source": [
    "%%time\n",
    "rf = KFoldExperiment(\n",
    "    clf=RandomForestClassifier(**RF_PARAMS), clsnum=cls, \n",
    "    data=data, pcls=1, ncls=0, X_columns=X_columns, y_column=\"cls\")\n",
    "rf = rf(\"data\", nfolds=10)"
   ]
  },
  {
   "cell_type": "code",
   "execution_count": 8,
   "metadata": {},
   "outputs": [
    {
     "name": "stdout",
     "output_type": "stream",
     "text": [
      "              precision    recall  f1-score   support\n",
      "\n",
      "         0.0       0.74      0.71      0.72       994\n",
      "         1.0       0.72      0.75      0.74       996\n",
      "\n",
      "   micro avg       0.73      0.73      0.73      1990\n",
      "   macro avg       0.73      0.73      0.73      1990\n",
      "weighted avg       0.73      0.73      0.73      1990\n",
      "\n",
      "--------------------------------------------------------------------------------\n",
      "CPU times: user 46.1 s, sys: 12.5 ms, total: 46.1 s\n",
      "Wall time: 46.1 s\n"
     ]
    }
   ],
   "source": [
    "%%time\n",
    "svm = KFoldExperiment(\n",
    "    clf=SVC(**SVM_PARAMS), clsnum=cls, \n",
    "    data=data, pcls=1, ncls=0, X_columns=X_columns, y_column=\"cls\")\n",
    "svm = svm(\"data\", nfolds=10)"
   ]
  },
  {
   "cell_type": "code",
   "execution_count": 9,
   "metadata": {},
   "outputs": [
    {
     "data": {
      "image/png": "[encoded data removed]",
      "text/plain": [
       "<Figure size 432x288 with 1 Axes>"
      ]
     },
     "metadata": {},
     "output_type": "display_data"
    }
   ],
   "source": [
    "roc({\"SVM-RBF\": svm, \"RF\": rf});\n",
    "plt.savefig(\"plots/model_select.pdf\")"
   ]
  },
  {
   "cell_type": "code",
   "execution_count": 10,
   "metadata": {},
   "outputs": [
    {
     "name": "stdout",
     "output_type": "stream",
     "text": [
      "\\begin{tabular}{lrrr}\n",
      "\\toprule\n",
      "   Model &  Precision &  Recall &    AUC \\\\\n",
      "\\midrule\n",
      " SVM-RBF &     0.7207 &  0.7540 & 0.7843 \\\\\n",
      "      RF &     0.8852 &  0.8283 & 0.9365 \\\\\n",
      "\\bottomrule\n",
      "\\end{tabular}\n",
      "\n"
     ]
    }
   ],
   "source": [
    "print(\n",
    "    pd.DataFrame([\n",
    "        [\"SVM-RBF\", svm.prec_rec[0], svm.prec_rec[1], svm.roc_auc],\n",
    "        [\"RF\", rf.prec_rec[0], rf.prec_rec[1], rf.roc_auc]],\n",
    "        columns=\"Model Precision Recall AUC\".split()\n",
    "    ).to_latex(index=False, float_format=\"%.4f\"))"
   ]
  },
  {
   "cell_type": "code",
   "execution_count": 11,
   "metadata": {},
   "outputs": [],
   "source": [
    "np.save(\"data/results/model_selection.pkl\", [rf, svm])"
   ]
  },
  {
   "cell_type": "code",
   "execution_count": null,
   "metadata": {},
   "outputs": [],
   "source": []
  }
 ],
 "metadata": {
  "kernelspec": {
   "display_name": "Python 2",
   "language": "python",
   "name": "python2"
  },
  "language_info": {
   "codemirror_mode": {
    "name": "ipython",
    "version": 2
   },
   "file_extension": ".py",
   "mimetype": "text/x-python",
   "name": "python",
   "nbconvert_exporter": "python",
   "pygments_lexer": "ipython2",
   "version": "2.7.15"
  }
 },
 "nbformat": 4,
 "nbformat_minor": 2
}
